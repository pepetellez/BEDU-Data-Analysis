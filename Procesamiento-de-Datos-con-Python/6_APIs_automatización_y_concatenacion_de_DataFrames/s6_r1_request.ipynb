{
  "nbformat": 4,
  "nbformat_minor": 0,
  "metadata": {
    "kernelspec": {
      "display_name": "Python (data_science)",
      "language": "python",
      "name": "data_science"
    },
    "language_info": {
      "codemirror_mode": {
        "name": "ipython",
        "version": 3
      },
      "file_extension": ".py",
      "mimetype": "text/x-python",
      "name": "python",
      "nbconvert_exporter": "python",
      "pygments_lexer": "ipython3",
      "version": "3.8.1"
    },
    "colab": {
      "name": "s6_r1_request.ipynb",
      "provenance": [],
      "include_colab_link": true
    }
  },
  "cells": [
    {
      "cell_type": "markdown",
      "metadata": {
        "id": "view-in-github",
        "colab_type": "text"
      },
      "source": [
        "<a href=\"https://colab.research.google.com/github/pepetellez/BEDU-Data-Analysis/blob/main/Procesamiento-de-Datos-con-Python/6_APIs_automatizaci%C3%B3n_y_concatenacion_de_DataFrames/s6_r1_request.ipynb\" target=\"_parent\"><img src=\"https://colab.research.google.com/assets/colab-badge.svg\" alt=\"Open In Colab\"/></a>"
      ]
    },
    {
      "cell_type": "markdown",
      "metadata": {
        "id": "8a1QMuc9zygF"
      },
      "source": [
        "## Reto 1: Peticiones a una API usando requests\n",
        "\n",
        "### 1. Objetivos:\n",
        "    - Usar la librería Requests para hacer una petición HTTP a una API\n",
        " \n",
        "---\n",
        "    \n",
        "### 2. Desarrollo:"
      ]
    },
    {
      "cell_type": "markdown",
      "metadata": {
        "id": "iVHVVkHOzygK"
      },
      "source": [
        "### a) Petición HTTP a API de NASA\n",
        "\n",
        "Vamos a implementar un programa que realice una llamada HTTP a la API de NASA.\n",
        "\n",
        "Puedes leer la documentación de la API [aquí](https://api.nasa.gov/), bajo el título de \"Asteroids NeoWs\"."
      ]
    },
    {
      "cell_type": "code",
      "metadata": {
        "id": "W5_rxwNnzygK"
      },
      "source": [
        "## Realiza aquí los imports necesarios\r\n",
        "import requests\r\n",
        "import pandas as pd"
      ],
      "execution_count": 13,
      "outputs": []
    },
    {
      "cell_type": "markdown",
      "metadata": {
        "id": "C6C7tkDezygL"
      },
      "source": [
        "Tu reto consiste en los siguientes pasos:\n",
        "\n",
        "1. Crea una cuenta en el API de NASA para obtener tu propia API Key. Copia la API Key en la celda debajo para que no la pierdas:"
      ]
    },
    {
      "cell_type": "code",
      "metadata": {
        "id": "yDmVB4ryzygL"
      },
      "source": [
        "api_key = \"G4i1lHFHg0pxcixw3xsonclhQ2oPjoLHNqGlWd4e\""
      ],
      "execution_count": 6,
      "outputs": []
    },
    {
      "cell_type": "markdown",
      "metadata": {
        "id": "2alWd-C0zygL"
      },
      "source": [
        "2. Asigna la variable `endpoint` -donde tendrás el URL base de la API de NASA- y la variable `payload` -donde tendrás el diccionario que usarás para pasar parámetros a tu petición.\n",
        "\n",
        "3. Usa tu diccionario `payload` para agregar los parámetros necesarios para pedir la hoja número 100 de la API. Durante el ejemplo, pedimos simplemente la primera hoja. En esta ocasión, debes de descubrir que parámetros requieres pasarle para obtener la hoja #100. Además queremos que el número de resultados que nos regresen sea menor al default. El default es 20, pero tú tienes que mandar los parámetros adecuados para que te regresen solamente 5 resultados"
      ]
    },
    {
      "cell_type": "code",
      "metadata": {
        "id": "CDnPK5AizygL"
      },
      "source": [
        "endpoint = \"https://api.nasa.gov/neo/rest/v1/neo/browse\"\n",
        "payload = { \"api_key\": api_key, 'page': 100, 'size': 5}"
      ],
      "execution_count": 26,
      "outputs": []
    },
    {
      "cell_type": "markdown",
      "metadata": {
        "id": "eAP4iOkezygM"
      },
      "source": [
        "4. Realiza tu petición HTTP aquí debajo y checa tu código de respuesta para asegurarte de que la petición se haya hecho exitosamente:"
      ]
    },
    {
      "cell_type": "code",
      "metadata": {
        "id": "FaxFH0bpzygM",
        "colab": {
          "base_uri": "https://localhost:8080/"
        },
        "outputId": "e8ed2360-d17a-4d4e-d70a-cb41f5e6a291"
      },
      "source": [
        "r = requests.get(endpoint, params=payload)\r\n",
        "r.status_code"
      ],
      "execution_count": 27,
      "outputs": [
        {
          "output_type": "execute_result",
          "data": {
            "text/plain": [
              "200"
            ]
          },
          "metadata": {
            "tags": []
          },
          "execution_count": 27
        }
      ]
    },
    {
      "cell_type": "markdown",
      "metadata": {
        "id": "lCaNj8FezygM"
      },
      "source": [
        "5. Si todo ha salido bien, extrae tus datos, normalízalos, crea un `DataFrame` con ellos y asígnalo a `objetos`. Revisa que solamente tengas 5 filas, para saber que tu petición se realizó exitosamente:"
      ]
    },
    {
      "cell_type": "code",
      "metadata": {
        "id": "QpBKHF5LzygM",
        "colab": {
          "base_uri": "https://localhost:8080/",
          "height": 383
        },
        "outputId": "1eb09b88-42e0-40b6-ac20-72f6ca1eaf02"
      },
      "source": [
        "data = r.json()\r\n",
        "data = data['near_earth_objects']\r\n",
        "data_frame = pd.json_normalize(data) \r\n",
        "objetos = pd.DataFrame(data_frame)\r\n",
        "objetos"
      ],
      "execution_count": 33,
      "outputs": [
        {
          "output_type": "execute_result",
          "data": {
            "text/html": [
              "<div>\n",
              "<style scoped>\n",
              "    .dataframe tbody tr th:only-of-type {\n",
              "        vertical-align: middle;\n",
              "    }\n",
              "\n",
              "    .dataframe tbody tr th {\n",
              "        vertical-align: top;\n",
              "    }\n",
              "\n",
              "    .dataframe thead th {\n",
              "        text-align: right;\n",
              "    }\n",
              "</style>\n",
              "<table border=\"1\" class=\"dataframe\">\n",
              "  <thead>\n",
              "    <tr style=\"text-align: right;\">\n",
              "      <th></th>\n",
              "      <th>id</th>\n",
              "      <th>neo_reference_id</th>\n",
              "      <th>name</th>\n",
              "      <th>designation</th>\n",
              "      <th>nasa_jpl_url</th>\n",
              "      <th>absolute_magnitude_h</th>\n",
              "      <th>is_potentially_hazardous_asteroid</th>\n",
              "      <th>close_approach_data</th>\n",
              "      <th>is_sentry_object</th>\n",
              "      <th>links.self</th>\n",
              "      <th>estimated_diameter.kilometers.estimated_diameter_min</th>\n",
              "      <th>estimated_diameter.kilometers.estimated_diameter_max</th>\n",
              "      <th>estimated_diameter.meters.estimated_diameter_min</th>\n",
              "      <th>estimated_diameter.meters.estimated_diameter_max</th>\n",
              "      <th>estimated_diameter.miles.estimated_diameter_min</th>\n",
              "      <th>estimated_diameter.miles.estimated_diameter_max</th>\n",
              "      <th>estimated_diameter.feet.estimated_diameter_min</th>\n",
              "      <th>estimated_diameter.feet.estimated_diameter_max</th>\n",
              "      <th>orbital_data.orbit_id</th>\n",
              "      <th>orbital_data.orbit_determination_date</th>\n",
              "      <th>orbital_data.first_observation_date</th>\n",
              "      <th>orbital_data.last_observation_date</th>\n",
              "      <th>orbital_data.data_arc_in_days</th>\n",
              "      <th>orbital_data.observations_used</th>\n",
              "      <th>orbital_data.orbit_uncertainty</th>\n",
              "      <th>orbital_data.minimum_orbit_intersection</th>\n",
              "      <th>orbital_data.jupiter_tisserand_invariant</th>\n",
              "      <th>orbital_data.epoch_osculation</th>\n",
              "      <th>orbital_data.eccentricity</th>\n",
              "      <th>orbital_data.semi_major_axis</th>\n",
              "      <th>orbital_data.inclination</th>\n",
              "      <th>orbital_data.ascending_node_longitude</th>\n",
              "      <th>orbital_data.orbital_period</th>\n",
              "      <th>orbital_data.perihelion_distance</th>\n",
              "      <th>orbital_data.perihelion_argument</th>\n",
              "      <th>orbital_data.aphelion_distance</th>\n",
              "      <th>orbital_data.perihelion_time</th>\n",
              "      <th>orbital_data.mean_anomaly</th>\n",
              "      <th>orbital_data.mean_motion</th>\n",
              "      <th>orbital_data.equinox</th>\n",
              "      <th>orbital_data.orbit_class.orbit_class_type</th>\n",
              "      <th>orbital_data.orbit_class.orbit_class_description</th>\n",
              "      <th>orbital_data.orbit_class.orbit_class_range</th>\n",
              "    </tr>\n",
              "  </thead>\n",
              "  <tbody>\n",
              "    <tr>\n",
              "      <th>0</th>\n",
              "      <td>2140333</td>\n",
              "      <td>2140333</td>\n",
              "      <td>140333 (2001 TD2)</td>\n",
              "      <td>140333</td>\n",
              "      <td>http://ssd.jpl.nasa.gov/sbdb.cgi?sstr=2140333</td>\n",
              "      <td>19.20</td>\n",
              "      <td>False</td>\n",
              "      <td>[{'close_approach_date': '1900-09-08', 'close_...</td>\n",
              "      <td>False</td>\n",
              "      <td>http://www.neowsapp.com/rest/v1/neo/2140333?ap...</td>\n",
              "      <td>0.384198</td>\n",
              "      <td>0.859093</td>\n",
              "      <td>384.197891</td>\n",
              "      <td>859.092601</td>\n",
              "      <td>0.238729</td>\n",
              "      <td>0.533815</td>\n",
              "      <td>1260.491809</td>\n",
              "      <td>2818.545370</td>\n",
              "      <td>119</td>\n",
              "      <td>2021-01-17 06:07:35</td>\n",
              "      <td>2001-10-10</td>\n",
              "      <td>2021-01-06</td>\n",
              "      <td>7028</td>\n",
              "      <td>570</td>\n",
              "      <td>0</td>\n",
              "      <td>.184582</td>\n",
              "      <td>6.122</td>\n",
              "      <td>2459200.5</td>\n",
              "      <td>.4815032935451701</td>\n",
              "      <td>.9618256487167276</td>\n",
              "      <td>19.03395538266127</td>\n",
              "      <td>12.83913849461433</td>\n",
              "      <td>344.5426248531828</td>\n",
              "      <td>.4987034310434034</td>\n",
              "      <td>199.0727603004439</td>\n",
              "      <td>1.424947866390052</td>\n",
              "      <td>2459321.641073468371</td>\n",
              "      <td>233.4241185188707</td>\n",
              "      <td>1.044863462549529</td>\n",
              "      <td>J2000</td>\n",
              "      <td>ATE</td>\n",
              "      <td>Near-Earth asteroid orbits similar to that of ...</td>\n",
              "      <td>a (semi-major axis) &lt; 1.0 AU; q (perihelion) &gt;...</td>\n",
              "    </tr>\n",
              "    <tr>\n",
              "      <th>1</th>\n",
              "      <td>2140928</td>\n",
              "      <td>2140928</td>\n",
              "      <td>140928 (2001 VG75)</td>\n",
              "      <td>140928</td>\n",
              "      <td>http://ssd.jpl.nasa.gov/sbdb.cgi?sstr=2140928</td>\n",
              "      <td>18.20</td>\n",
              "      <td>False</td>\n",
              "      <td>[{'close_approach_date': '1902-12-19', 'close_...</td>\n",
              "      <td>False</td>\n",
              "      <td>http://www.neowsapp.com/rest/v1/neo/2140928?ap...</td>\n",
              "      <td>0.608913</td>\n",
              "      <td>1.361570</td>\n",
              "      <td>608.912622</td>\n",
              "      <td>1361.570015</td>\n",
              "      <td>0.378361</td>\n",
              "      <td>0.846040</td>\n",
              "      <td>1997.744887</td>\n",
              "      <td>4467.093369</td>\n",
              "      <td>116</td>\n",
              "      <td>2020-11-27 05:19:11</td>\n",
              "      <td>1976-03-07</td>\n",
              "      <td>2020-11-26</td>\n",
              "      <td>16335</td>\n",
              "      <td>486</td>\n",
              "      <td>0</td>\n",
              "      <td>.246136</td>\n",
              "      <td>4.391</td>\n",
              "      <td>2459200.5</td>\n",
              "      <td>.297139570302041</td>\n",
              "      <td>1.518844995961988</td>\n",
              "      <td>20.66232679088391</td>\n",
              "      <td>245.475226008078</td>\n",
              "      <td>683.704768495375</td>\n",
              "      <td>1.067536046506438</td>\n",
              "      <td>257.2912004784045</td>\n",
              "      <td>1.970153945417538</td>\n",
              "      <td>2459216.332213684551</td>\n",
              "      <td>351.663657781733</td>\n",
              "      <td>.5265430586249236</td>\n",
              "      <td>J2000</td>\n",
              "      <td>AMO</td>\n",
              "      <td>Near-Earth asteroid orbits similar to that of ...</td>\n",
              "      <td>1.017 AU &lt; q (perihelion) &lt; 1.3 AU</td>\n",
              "    </tr>\n",
              "    <tr>\n",
              "      <th>2</th>\n",
              "      <td>2141018</td>\n",
              "      <td>2141018</td>\n",
              "      <td>141018 (2001 WC47)</td>\n",
              "      <td>141018</td>\n",
              "      <td>http://ssd.jpl.nasa.gov/sbdb.cgi?sstr=2141018</td>\n",
              "      <td>18.90</td>\n",
              "      <td>False</td>\n",
              "      <td>[{'close_approach_date': '1915-12-22', 'close_...</td>\n",
              "      <td>False</td>\n",
              "      <td>http://www.neowsapp.com/rest/v1/neo/2141018?ap...</td>\n",
              "      <td>0.441118</td>\n",
              "      <td>0.986370</td>\n",
              "      <td>441.118200</td>\n",
              "      <td>986.370281</td>\n",
              "      <td>0.274098</td>\n",
              "      <td>0.612902</td>\n",
              "      <td>1447.238235</td>\n",
              "      <td>3236.123074</td>\n",
              "      <td>229</td>\n",
              "      <td>2019-12-11 04:53:24</td>\n",
              "      <td>1991-12-07</td>\n",
              "      <td>2019-12-10</td>\n",
              "      <td>10230</td>\n",
              "      <td>1503</td>\n",
              "      <td>0</td>\n",
              "      <td>.0776157</td>\n",
              "      <td>4.725</td>\n",
              "      <td>2459200.5</td>\n",
              "      <td>.2411945260765638</td>\n",
              "      <td>1.398852104893138</td>\n",
              "      <td>2.869057405440545</td>\n",
              "      <td>91.62318158191702</td>\n",
              "      <td>604.3049169110701</td>\n",
              "      <td>1.061456634402234</td>\n",
              "      <td>101.3934862247059</td>\n",
              "      <td>1.736247575384043</td>\n",
              "      <td>2459046.684365900280</td>\n",
              "      <td>91.63193402255219</td>\n",
              "      <td>.5957257502390598</td>\n",
              "      <td>J2000</td>\n",
              "      <td>AMO</td>\n",
              "      <td>Near-Earth asteroid orbits similar to that of ...</td>\n",
              "      <td>1.017 AU &lt; q (perihelion) &lt; 1.3 AU</td>\n",
              "    </tr>\n",
              "    <tr>\n",
              "      <th>3</th>\n",
              "      <td>2141052</td>\n",
              "      <td>2141052</td>\n",
              "      <td>141052 (2001 XR1)</td>\n",
              "      <td>141052</td>\n",
              "      <td>http://ssd.jpl.nasa.gov/sbdb.cgi?sstr=2141052</td>\n",
              "      <td>17.37</td>\n",
              "      <td>False</td>\n",
              "      <td>[{'close_approach_date': '1902-01-27', 'close_...</td>\n",
              "      <td>False</td>\n",
              "      <td>http://www.neowsapp.com/rest/v1/neo/2141052?ap...</td>\n",
              "      <td>0.892391</td>\n",
              "      <td>1.995446</td>\n",
              "      <td>892.390579</td>\n",
              "      <td>1995.445996</td>\n",
              "      <td>0.554506</td>\n",
              "      <td>1.239912</td>\n",
              "      <td>2927.790706</td>\n",
              "      <td>6546.739043</td>\n",
              "      <td>193</td>\n",
              "      <td>2021-02-27 05:51:35</td>\n",
              "      <td>1987-11-27</td>\n",
              "      <td>2020-12-17</td>\n",
              "      <td>12074</td>\n",
              "      <td>872</td>\n",
              "      <td>0</td>\n",
              "      <td>.102624</td>\n",
              "      <td>4.957</td>\n",
              "      <td>2459200.5</td>\n",
              "      <td>.5500939092146658</td>\n",
              "      <td>1.245414777322697</td>\n",
              "      <td>17.66072955316998</td>\n",
              "      <td>291.5191755831547</td>\n",
              "      <td>507.6559124598813</td>\n",
              "      <td>.560319693871542</td>\n",
              "      <td>304.1543701011898</td>\n",
              "      <td>1.930509860773852</td>\n",
              "      <td>2458988.893084952440</td>\n",
              "      <td>150.0592971487197</td>\n",
              "      <td>.7091417457458448</td>\n",
              "      <td>J2000</td>\n",
              "      <td>APO</td>\n",
              "      <td>Near-Earth asteroid orbits which cross the Ear...</td>\n",
              "      <td>a (semi-major axis) &gt; 1.0 AU; q (perihelion) &lt;...</td>\n",
              "    </tr>\n",
              "    <tr>\n",
              "      <th>4</th>\n",
              "      <td>2141053</td>\n",
              "      <td>2141053</td>\n",
              "      <td>141053 (2001 XT1)</td>\n",
              "      <td>141053</td>\n",
              "      <td>http://ssd.jpl.nasa.gov/sbdb.cgi?sstr=2141053</td>\n",
              "      <td>18.79</td>\n",
              "      <td>True</td>\n",
              "      <td>[{'close_approach_date': '1901-07-14', 'close_...</td>\n",
              "      <td>False</td>\n",
              "      <td>http://www.neowsapp.com/rest/v1/neo/2141053?ap...</td>\n",
              "      <td>0.464040</td>\n",
              "      <td>1.037624</td>\n",
              "      <td>464.039528</td>\n",
              "      <td>1037.623929</td>\n",
              "      <td>0.288341</td>\n",
              "      <td>0.644749</td>\n",
              "      <td>1522.439446</td>\n",
              "      <td>3404.278093</td>\n",
              "      <td>80</td>\n",
              "      <td>2021-02-11 05:26:04</td>\n",
              "      <td>2001-12-09</td>\n",
              "      <td>2021-02-10</td>\n",
              "      <td>7003</td>\n",
              "      <td>421</td>\n",
              "      <td>0</td>\n",
              "      <td>.0413852</td>\n",
              "      <td>4.286</td>\n",
              "      <td>2459200.5</td>\n",
              "      <td>.5795353463609935</td>\n",
              "      <td>1.528644910765314</td>\n",
              "      <td>2.731465973424298</td>\n",
              "      <td>316.250278005552</td>\n",
              "      <td>690.3325462804287</td>\n",
              "      <td>.642741152941968</td>\n",
              "      <td>31.32562928130615</td>\n",
              "      <td>2.414548668588661</td>\n",
              "      <td>2459089.628013646946</td>\n",
              "      <td>57.81838811187325</td>\n",
              "      <td>.5214877988003188</td>\n",
              "      <td>J2000</td>\n",
              "      <td>APO</td>\n",
              "      <td>Near-Earth asteroid orbits which cross the Ear...</td>\n",
              "      <td>a (semi-major axis) &gt; 1.0 AU; q (perihelion) &lt;...</td>\n",
              "    </tr>\n",
              "  </tbody>\n",
              "</table>\n",
              "</div>"
            ],
            "text/plain": [
              "        id  ...         orbital_data.orbit_class.orbit_class_range\n",
              "0  2140333  ...  a (semi-major axis) < 1.0 AU; q (perihelion) >...\n",
              "1  2140928  ...                 1.017 AU < q (perihelion) < 1.3 AU\n",
              "2  2141018  ...                 1.017 AU < q (perihelion) < 1.3 AU\n",
              "3  2141052  ...  a (semi-major axis) > 1.0 AU; q (perihelion) <...\n",
              "4  2141053  ...  a (semi-major axis) > 1.0 AU; q (perihelion) <...\n",
              "\n",
              "[5 rows x 43 columns]"
            ]
          },
          "metadata": {
            "tags": []
          },
          "execution_count": 33
        }
      ]
    },
    {
      "cell_type": "markdown",
      "metadata": {
        "id": "75FTBgXozygN"
      },
      "source": [
        "6. Pídele a tu experta la función de verificación `visualizar_diametros` (encontrada en el archivo `helpers.py` de la carpeta donde se encuentra este Reto), pégala debajo y corre la celda para verificar tu resultado:"
      ]
    },
    {
      "cell_type": "code",
      "metadata": {
        "id": "-2LQmRg3zygN",
        "colab": {
          "base_uri": "https://localhost:8080/",
          "height": 370
        },
        "outputId": "392fa661-7da6-4b29-b1df-931efe5cb17c"
      },
      "source": [
        "# Pega aquí la función de verificación\n",
        "\n",
        "def visualizar_diametros(objetos):\n",
        "    \n",
        "    import seaborn as sns\n",
        "    \n",
        "    sizes = objetos[['name', 'estimated_diameter.kilometers.estimated_diameter_max']].copy()\n",
        "    sizes.sort_values('estimated_diameter.kilometers.estimated_diameter_max', ascending=True, inplace=True)\n",
        "    sns.barplot(sizes['name'], sizes['estimated_diameter.kilometers.estimated_diameter_max'])\n",
        "\n",
        "visualizar_diametros(objetos)"
      ],
      "execution_count": 34,
      "outputs": [
        {
          "output_type": "stream",
          "text": [
            "/usr/local/lib/python3.7/dist-packages/seaborn/_decorators.py:43: FutureWarning: Pass the following variables as keyword args: x, y. From version 0.12, the only valid positional argument will be `data`, and passing other arguments without an explicit keyword will result in an error or misinterpretation.\n",
            "  FutureWarning\n"
          ],
          "name": "stderr"
        },
        {
          "output_type": "display_data",
          "data": {
            "image/png": "[encoded data removed]",
            "text/plain": [
              "<Figure size 432x288 with 1 Axes>"
            ]
          },
          "metadata": {
            "tags": [],
            "needs_background": "light"
          }
        }
      ]
    },
    {
      "cell_type": "markdown",
      "metadata": {
        "id": "en2vhmQnzygN"
      },
      "source": [
        "<details><summary>Solución</summary>\n",
        "\n",
        "```python\n",
        "import requests\n",
        "import pandas as pd\n",
        "    \n",
        "api_key = 'tu_api_key_va_aqui'\n",
        "    \n",
        "endpoint = 'https://api.nasa.gov/neo/rest/v1/neo/browse/'\n",
        "payload = {'api_key': api_key, 'page': 100, 'size': 5}\n",
        "    \n",
        "r = requests.get(endpoint, params=payload)\n",
        "r.status_code\n",
        "    \n",
        "data = r.json()['near_earth_objects']\n",
        "normalized = pd.json_normalize(data)\n",
        "objetos = pd.DataFrame.from_dict(normalized)\n",
        "```\n",
        "    \n",
        "</details>"
      ]
    },
    {
      "cell_type": "code",
      "metadata": {
        "id": "3Cpe0FXZzygN"
      },
      "source": [
        ""
      ],
      "execution_count": null,
      "outputs": []
    }
  ]
}