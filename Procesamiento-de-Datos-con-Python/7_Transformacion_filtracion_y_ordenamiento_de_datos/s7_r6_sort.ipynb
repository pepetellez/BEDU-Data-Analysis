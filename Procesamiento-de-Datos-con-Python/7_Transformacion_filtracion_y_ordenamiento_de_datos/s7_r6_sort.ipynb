{
  "nbformat": 4,
  "nbformat_minor": 0,
  "metadata": {
    "kernelspec": {
      "display_name": "Python 3",
      "language": "python",
      "name": "python3"
    },
    "language_info": {
      "codemirror_mode": {
        "name": "ipython",
        "version": 3
      },
      "file_extension": ".py",
      "mimetype": "text/x-python",
      "name": "python",
      "nbconvert_exporter": "python",
      "pygments_lexer": "ipython3",
      "version": "3.8.3"
    },
    "colab": {
      "name": "s7_r6_sort.ipynb",
      "provenance": [],
      "include_colab_link": true
    }
  },
  "cells": [
    {
      "cell_type": "markdown",
      "metadata": {
        "id": "view-in-github",
        "colab_type": "text"
      },
      "source": [
        "<a href=\"https://colab.research.google.com/github/pepetellez/BEDU-Data-Analysis/blob/main/Procesamiento-de-Datos-con-Python/7_Transformacion_filtracion_y_ordenamiento_de_datos/s7_r6_sort.ipynb\" target=\"_parent\"><img src=\"https://colab.research.google.com/assets/colab-badge.svg\" alt=\"Open In Colab\"/></a>"
      ]
    },
    {
      "cell_type": "markdown",
      "metadata": {
        "id": "3J18f-76hKN3"
      },
      "source": [
        "## Reto 6: Sort\n",
        "\n",
        "### 1. Objetivos:\n",
        "    - Practicar el uso de `sort_values` para obtener datos específicos\n",
        "    \n",
        "---\n",
        "    \n",
        "### 2. Desarrollo:"
      ]
    },
    {
      "cell_type": "markdown",
      "metadata": {
        "id": "2EyGxMNnhKN7"
      },
      "source": [
        "#### a) Reordenamiento para hallazgo de valores\n",
        "\n",
        "Vamos a trabajar sobre el dataset que guardaste en la sesión anterior. Tu Reto consiste en lo siguiente:\n",
        "\n",
        "1. Usa `sort_values` y `loc` para obtener el valor de la velocidad en kilómetros por segundo más lenta de todos los objetos que tenemos en el dataset y asígnalo a `velocidad_en_kilometros_por_segundo_de_objeto_mas_lento`.\n",
        "2. Usa `sort_values` y `loc` para obtener el valor del diámetro más grande medido que existe en nuestro dataset y asígnalo a `medida_de_diametro_mas_grande`"
      ]
    },
    {
      "cell_type": "code",
      "metadata": {
        "colab": {
          "base_uri": "https://localhost:8080/"
        },
        "id": "nEW4k9Jx0COR",
        "outputId": "174f7308-d2bc-4c07-a5dc-504463f240bd"
      },
      "source": [
        "from google.colab import drive\n",
        "drive.mount('/content/drive')"
      ],
      "execution_count": 3,
      "outputs": [
        {
          "output_type": "stream",
          "text": [
            "Drive already mounted at /content/drive; to attempt to forcibly remount, call drive.mount(\"/content/drive\", force_remount=True).\n"
          ],
          "name": "stdout"
        }
      ]
    },
    {
      "cell_type": "code",
      "metadata": {
        "id": "AcdjUY4QhKN8"
      },
      "source": [
        "import pandas as pd\n",
        "\n",
        "df_reto_6 = pd.read_csv('drive/MyDrive/df_reto_7_4.csv', index_col=0)\n",
        "\n",
        "#Usa sort_values y loc para obtener el valor de la velocidad en kilómetros por segundo más lenta de todos los objetos que tenemos \n",
        "#en el dataset y asígnalo a velocidad_en_kilometros_por_segundo_de_objeto_mas_lento.\n",
        "df_sorted_by_speed = df_reto_6.sort_values('relative_velocity.kilometers_per_second', ascending=True).reset_index(drop=True)\n",
        "velocidad_en_kilometros_por_segundo_de_objeto_mas_lento = df_sorted_by_speed.loc[0, 'relative_velocity.kilometers_per_second']\n",
        "\n",
        "#Usa sort_values y loc para obtener el valor del diámetro más grande medido que existe en nuestro dataset \n",
        "#y asígnalo a medida_de_diametro_mas_grande\n",
        "df_sorted_by_size = df_reto_6.sort_values('estimated_diameter.meters.estimated_diameter_max', ascending=False).reset_index(drop=True)\n",
        "medida_de_diametro_mas_grande = df_sorted_by_size.loc[0, 'estimated_diameter.meters.estimated_diameter_max']"
      ],
      "execution_count": 9,
      "outputs": []
    },
    {
      "cell_type": "markdown",
      "metadata": {
        "id": "sAW-JAHthKN8"
      },
      "source": [
        "Pídele a tu experta la función de verificación `corroborar_hallazgos` (encontrada en el archivo `helpers.py` de la carpeta donde se encuentra este Reto), pégala debajo y corre la celda para verificar tu resultado:"
      ]
    },
    {
      "cell_type": "code",
      "metadata": {
        "id": "IUNdaRLrhKN9",
        "colab": {
          "base_uri": "https://localhost:8080/"
        },
        "outputId": "0519ef2b-8247-4c30-cf5b-b374e1b7034f"
      },
      "source": [
        "# Pega aquí la función de verificación\n",
        "\n",
        "def corroborar_hallazgos(velocidad_en_kilometros_por_segundo_de_objeto_mas_lento, medida_de_diametro_mas_grande):\n",
        "    \n",
        "    assert velocidad_en_kilometros_por_segundo_de_objeto_mas_lento == 0.681436673, 'Esa no es la velocidad en kilómetros por segundo del objeto más lento'\n",
        "    assert medida_de_diametro_mas_grande == 6516.883821679, 'Ese no es el diámetro más grande medido en nuestro dataset'\n",
        "    \n",
        "    print('Tus hallazgos son correctos. ¡Bien hecho!')\n",
        "\n",
        "corroborar_hallazgos(velocidad_en_kilometros_por_segundo_de_objeto_mas_lento, medida_de_diametro_mas_grande)"
      ],
      "execution_count": 10,
      "outputs": [
        {
          "output_type": "stream",
          "text": [
            "Tus hallazgos son correctos. ¡Bien hecho!\n"
          ],
          "name": "stdout"
        }
      ]
    }
  ]
}