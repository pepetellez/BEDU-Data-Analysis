{
  "nbformat": 4,
  "nbformat_minor": 0,
  "metadata": {
    "kernelspec": {
      "display_name": "Python (data_science)",
      "language": "python",
      "name": "data_science"
    },
    "language_info": {
      "codemirror_mode": {
        "name": "ipython",
        "version": 3
      },
      "file_extension": ".py",
      "mimetype": "text/x-python",
      "name": "python",
      "nbconvert_exporter": "python",
      "pygments_lexer": "ipython3",
      "version": "3.8.5"
    },
    "colab": {
      "name": "s7_r2_regex.ipynb",
      "provenance": [],
      "include_colab_link": true
    }
  },
  "cells": [
    {
      "cell_type": "markdown",
      "metadata": {
        "id": "view-in-github",
        "colab_type": "text"
      },
      "source": [
        "<a href=\"https://colab.research.google.com/github/pepetellez/BEDU-Data-Analysis/blob/main/Analisis-de-Datos-con-Python/7_Pruebas_A_B_y_Procesamiento_de_Lenguaje_Natural/s7_r2_regex.ipynb\" target=\"_parent\"><img src=\"https://colab.research.google.com/assets/colab-badge.svg\" alt=\"Open In Colab\"/></a>"
      ]
    },
    {
      "cell_type": "markdown",
      "metadata": {
        "id": "NT5_7NYX_fsd"
      },
      "source": [
        "## Reto 2: Regex\n",
        "\n",
        "### 1. Objetivos:\n",
        "    - Practicar expresiones regulares con un conjunto de datos real\n",
        " \n",
        "---\n",
        "    \n",
        "### 2. Desarrollo:"
      ]
    },
    {
      "cell_type": "markdown",
      "metadata": {
        "id": "_rW4zB6b_fsj"
      },
      "source": [
        "Vamos a practicar expresiones regulares utilizando un conjunto de datos llamado 'amazon_fine_food_reviews-clean.csv'. Este conjunto de datos es en realidad un subconjunto de un conjunto más grande que proviene de [esta fuente](https://www.kaggle.com/snap/amazon-fine-food-reviews). Contiene evaluaciones de muchos diversos productos realizadas por usuarios de Amazon. La columna 'text' contiene el texto de la evaluación, y ésa es la columna que nos interesa.\n",
        "\n",
        "Vamos a practicar expresiones regulares con esa columna. Con cada búsqueda que realices vas a obtener un nuevo subconjunto de datos de un tamaño específico. Al terminar tus búsquedas compara el tamaño de tus subconjuntos de datos con los de tus compañeros, para checar que tus respuestas fueron correctas.\n",
        "\n",
        "Tu Reto es entonces obtener subconjunto de datos que tengan estas características:\n",
        "\n",
        "1. Todas las evaluaciones que contengan la palabra 'food' (en minúsculas).\n",
        "2. Todas las evaluaciones que contengan algún número de dos digitos.\n",
        "3. Todas las evaluaciones que contengan algún porcentaje (uno o más digitos seguidos de un signo de porcentaje).\n",
        "4. Todas las evaluaciones que comiencen con la palabra 'Dog' o 'dog'.\n",
        "5. Todas las evaluaciones que terminen con el fragmento 'awesome.' (fíjate que hay específicamente un punto después de la palabra 'awesome').\n",
        "6. Todas las evaluaciones que contengan las palabras 'horrible' **o** 'terrible'.\n",
        "7. Todas las evaluaciones que contengan **solamente** letras minúsculas.\n",
        "\n",
        "Después de realizar estas exploraciones, limpia tu conjunto de datos para remover lo siguiente de todos tus textos:\n",
        "\n",
        "1. Cualquier forma parecida a la siguiente: `<br>` o `<br/>` (revisa variaciones de estos tags, con espacios intermedios, por ejemplo)\n",
        "2. Signos en general\n",
        "3. Digitos\n",
        "4. Cualquier otra cosa que no te parezca relevante para nuestro análisis de lenguaje natural\n",
        "\n",
        "También convierte todas las letras en minúsculas para homogeneizar nuestro conjunto de datos.\n",
        "\n",
        "Guarda tu conjunto de datos como un archivo 'csv' para que lo puedas utilizar en los próximos retos (asegúrate de incluir **por lo menos** las columnas 'text' y 'score'."
      ]
    },
    {
      "cell_type": "code",
      "metadata": {
        "colab": {
          "base_uri": "https://localhost:8080/"
        },
        "id": "krI6iui8X7Ke",
        "outputId": "5395735d-8e7e-4fca-d0bb-6d25b577b5b2"
      },
      "source": [
        "from google.colab import drive\n",
        "drive.mount('/content/drive')"
      ],
      "execution_count": 3,
      "outputs": [
        {
          "output_type": "stream",
          "text": [
            "Mounted at /content/drive\n"
          ],
          "name": "stdout"
        }
      ]
    },
    {
      "cell_type": "code",
      "metadata": {
        "id": "QYRdZtYW_fsk"
      },
      "source": [
        "import pandas as pd\n",
        "import re"
      ],
      "execution_count": 1,
      "outputs": []
    },
    {
      "cell_type": "code",
      "metadata": {
        "colab": {
          "base_uri": "https://localhost:8080/",
          "height": 715
        },
        "id": "OanOl3CaYEZX",
        "outputId": "dec0a5b5-191f-428a-bd43-62cf76ed9ff2"
      },
      "source": [
        "df = pd.read_csv(\"/content/drive/MyDrive/Datasets/amazon_fine_food_reviews-clean.csv\", index_col=0)\n",
        "df.head()"
      ],
      "execution_count": 10,
      "outputs": [
        {
          "output_type": "execute_result",
          "data": {
            "text/html": [
              "<div>\n",
              "<style scoped>\n",
              "    .dataframe tbody tr th:only-of-type {\n",
              "        vertical-align: middle;\n",
              "    }\n",
              "\n",
              "    .dataframe tbody tr th {\n",
              "        vertical-align: top;\n",
              "    }\n",
              "\n",
              "    .dataframe thead th {\n",
              "        text-align: right;\n",
              "    }\n",
              "</style>\n",
              "<table border=\"1\" class=\"dataframe\">\n",
              "  <thead>\n",
              "    <tr style=\"text-align: right;\">\n",
              "      <th></th>\n",
              "      <th>product_id</th>\n",
              "      <th>user_id</th>\n",
              "      <th>profile_name</th>\n",
              "      <th>helpfulness_numerator</th>\n",
              "      <th>helpfulness_denominator</th>\n",
              "      <th>score</th>\n",
              "      <th>time</th>\n",
              "      <th>summary</th>\n",
              "      <th>text</th>\n",
              "    </tr>\n",
              "    <tr>\n",
              "      <th>id</th>\n",
              "      <th></th>\n",
              "      <th></th>\n",
              "      <th></th>\n",
              "      <th></th>\n",
              "      <th></th>\n",
              "      <th></th>\n",
              "      <th></th>\n",
              "      <th></th>\n",
              "      <th></th>\n",
              "    </tr>\n",
              "  </thead>\n",
              "  <tbody>\n",
              "    <tr>\n",
              "      <th>258510</th>\n",
              "      <td>B00168V34W</td>\n",
              "      <td>A1672LH9S1XO70</td>\n",
              "      <td>Lorna J. Loomis \"Canadian Dog Fancier\"</td>\n",
              "      <td>13</td>\n",
              "      <td>14</td>\n",
              "      <td>3</td>\n",
              "      <td>1266796800</td>\n",
              "      <td>Misleading to refer to \"PODS\"</td>\n",
              "      <td>This coffee does NOT come in individual \"PODS\"...</td>\n",
              "    </tr>\n",
              "    <tr>\n",
              "      <th>207915</th>\n",
              "      <td>B000CQID2Y</td>\n",
              "      <td>A42CJC66XO0H7</td>\n",
              "      <td>Scott Schimmel \"A Butterfly Dreaming\"</td>\n",
              "      <td>2</td>\n",
              "      <td>2</td>\n",
              "      <td>5</td>\n",
              "      <td>1279497600</td>\n",
              "      <td>Delicious</td>\n",
              "      <td>I was a little skeptical after looking at the ...</td>\n",
              "    </tr>\n",
              "    <tr>\n",
              "      <th>522649</th>\n",
              "      <td>B007TJGZ0Y</td>\n",
              "      <td>A16QZBG2UN6Z3X</td>\n",
              "      <td>Toology \"Toology\"</td>\n",
              "      <td>0</td>\n",
              "      <td>0</td>\n",
              "      <td>5</td>\n",
              "      <td>1335830400</td>\n",
              "      <td>One of my favs</td>\n",
              "      <td>Gloia Jeans Butter Toffee is one of my favorit...</td>\n",
              "    </tr>\n",
              "    <tr>\n",
              "      <th>393368</th>\n",
              "      <td>B000W7PUOW</td>\n",
              "      <td>A3J21CQZG60K35</td>\n",
              "      <td>Hsieh Pei Hsuan</td>\n",
              "      <td>2</td>\n",
              "      <td>2</td>\n",
              "      <td>5</td>\n",
              "      <td>1265673600</td>\n",
              "      <td>Tasty!!</td>\n",
              "      <td>My families and friends love Planters peanuts ...</td>\n",
              "    </tr>\n",
              "    <tr>\n",
              "      <th>178178</th>\n",
              "      <td>B002FX2IOQ</td>\n",
              "      <td>A1Z7XV6JU0EV8M</td>\n",
              "      <td>Barbara \"Barbara\"</td>\n",
              "      <td>1</td>\n",
              "      <td>6</td>\n",
              "      <td>1</td>\n",
              "      <td>1301788800</td>\n",
              "      <td>Organic Valley White 1 % Milkfat Lowfat Milk, ...</td>\n",
              "      <td>Organic Valley White 1 % Milkfat Lowfat Milk, ...</td>\n",
              "    </tr>\n",
              "  </tbody>\n",
              "</table>\n",
              "</div>"
            ],
            "text/plain": [
              "        product_id  ...                                               text\n",
              "id                  ...                                                   \n",
              "258510  B00168V34W  ...  This coffee does NOT come in individual \"PODS\"...\n",
              "207915  B000CQID2Y  ...  I was a little skeptical after looking at the ...\n",
              "522649  B007TJGZ0Y  ...  Gloia Jeans Butter Toffee is one of my favorit...\n",
              "393368  B000W7PUOW  ...  My families and friends love Planters peanuts ...\n",
              "178178  B002FX2IOQ  ...  Organic Valley White 1 % Milkfat Lowfat Milk, ...\n",
              "\n",
              "[5 rows x 9 columns]"
            ]
          },
          "metadata": {
            "tags": []
          },
          "execution_count": 10
        }
      ]
    },
    {
      "cell_type": "code",
      "metadata": {
        "id": "-jozbeYBeTbt"
      },
      "source": [
        "grouped_by_title = df.groupby('product_id')['text'].max()"
      ],
      "execution_count": 6,
      "outputs": []
    },
    {
      "cell_type": "code",
      "metadata": {
        "colab": {
          "base_uri": "https://localhost:8080/"
        },
        "id": "3XgMbUFNby1J",
        "outputId": "18b62c8a-1667-42fe-d0b0-5dd0206e1c4f"
      },
      "source": [
        "#Todas las evaluaciones que contengan la palabra 'food' (en minúsculas).\n",
        "\n",
        "grouped_by_title[grouped_by_title.str.contains('food', case=False)]"
      ],
      "execution_count": 7,
      "outputs": [
        {
          "output_type": "execute_result",
          "data": {
            "text/plain": [
              "product_id\n",
              "B00008433V    My Dalmatian mix has severe skin allergies. Th...\n",
              "B000084DWM    Wow if i knew how much cats would love this st...\n",
              "B000084E66    I was disappointed when the product arrived an...\n",
              "B000084EZ4    Wellness wet cat food is terrific.<br />My thr...\n",
              "B000084F0P    I have greyhounds and they have sensitive stom...\n",
              "                                    ...                        \n",
              "B008EXEMOU    We adopted our two year old, female german She...\n",
              "B008RWUHA6    This is a health food that reminds me a bit of...\n",
              "B00975HC9G    This is excellent, especially to mix with baby...\n",
              "B009AFJ3I6    I have purchased Ideal for about a year now bu...\n",
              "B009GHI5Q4    I'm not thrilled about the fillers and ground ...\n",
              "Name: text, Length: 1132, dtype: object"
            ]
          },
          "metadata": {
            "tags": []
          },
          "execution_count": 7
        }
      ]
    },
    {
      "cell_type": "code",
      "metadata": {
        "colab": {
          "base_uri": "https://localhost:8080/"
        },
        "id": "t8_v2t-werfk",
        "outputId": "b643a205-b53b-4795-b814-a4ec0ab3048a"
      },
      "source": [
        "#Todas las evaluaciones que contengan algún número de dos digitos.\n",
        "\n",
        "grouped_by_title[grouped_by_title.str.contains('[0-9]{2}', case=False)]"
      ],
      "execution_count": 8,
      "outputs": [
        {
          "output_type": "execute_result",
          "data": {
            "text/plain": [
              "product_id\n",
              "B00006L2ZT    This is a  beautiful repackaging of Camper Van...\n",
              "B00008433V    My Dalmatian mix has severe skin allergies. Th...\n",
              "B000084F0P    I have greyhounds and they have sensitive stom...\n",
              "B00008DFK5    When I want my dog to leave everyone alone for...\n",
              "B0000A1ODW    Wilton's Black Sparkle Gel icing looks and tas...\n",
              "                                    ...                        \n",
              "B009AFJ3I6    I have purchased Ideal for about a year now bu...\n",
              "B009HINSPK    We've tried many Tassimo flavors.  This is by ...\n",
              "B009J2GVPS    i am a fan of the tassimo machine, and many of...\n",
              "B009KAQZIM    I love coffee. Usually I would not recommend M...\n",
              "B009QEBGIQ    This is a great rice, tender when cooked and s...\n",
              "Name: text, Length: 1755, dtype: object"
            ]
          },
          "metadata": {
            "tags": []
          },
          "execution_count": 8
        }
      ]
    },
    {
      "cell_type": "code",
      "metadata": {
        "colab": {
          "base_uri": "https://localhost:8080/"
        },
        "id": "qqvixZUPfXxL",
        "outputId": "caee9401-5ac9-41e8-8da1-e49d26048515"
      },
      "source": [
        "#Todas las evaluaciones que contengan algún porcentaje (uno o más digitos seguidos de un signo de porcentaje).\n",
        "\n",
        "grouped_by_title[grouped_by_title.str.contains('[0-9]%', case=False)]"
      ],
      "execution_count": 11,
      "outputs": [
        {
          "output_type": "execute_result",
          "data": {
            "text/plain": [
              "product_id\n",
              "B00008433V    My Dalmatian mix has severe skin allergies. Th...\n",
              "B0000DG72U    I discovered Nueske's while working in a resta...\n",
              "B00019TVC8    If you see Vernors Ginger Ale in the store at ...\n",
              "B0001K5LN0    I've always loved this tea, even though it is ...\n",
              "B0002E2GQU    I visited some relatives this summer and was i...\n",
              "                                    ...                        \n",
              "B008BLFFAK    it's honey nut cheerios - you should know what...\n",
              "B008M845PI    After losing 30% of my hair due to thyroid and...\n",
              "B008UK8KQ8    This is the other half of the order with the o...\n",
              "B008YA1LQK    I've been percolating coffee for 30+ years. To...\n",
              "B009AFH6Y4    The product was shipped to me quickly. And yes...\n",
              "Name: text, Length: 217, dtype: object"
            ]
          },
          "metadata": {
            "tags": []
          },
          "execution_count": 11
        }
      ]
    },
    {
      "cell_type": "code",
      "metadata": {
        "colab": {
          "base_uri": "https://localhost:8080/"
        },
        "id": "oi1jFnaSff9p",
        "outputId": "f2f8a503-54c2-4158-a506-86ced555d1f8"
      },
      "source": [
        "#Todas las evaluaciones que comiencen con la palabra 'Dog' o 'dog'.\n",
        "\n",
        "grouped_by_title[grouped_by_title.str.contains('^Dog|^dog', case=False)]"
      ],
      "execution_count": 12,
      "outputs": [
        {
          "output_type": "execute_result",
          "data": {
            "text/plain": [
              "product_id\n",
              "B008FWOAXI    Dog loves these. Eats them quickly and without...\n",
              "Name: text, dtype: object"
            ]
          },
          "metadata": {
            "tags": []
          },
          "execution_count": 12
        }
      ]
    },
    {
      "cell_type": "code",
      "metadata": {
        "colab": {
          "base_uri": "https://localhost:8080/"
        },
        "id": "dwscoOSrff1S",
        "outputId": "d618db58-df26-4fbc-a8a5-3e5f21252c2d"
      },
      "source": [
        "#Todas las evaluaciones que terminen con el fragmento 'awesome.' (fíjate que hay específicamente un punto después de la palabra 'awesome').\n",
        "\n",
        "grouped_by_title[grouped_by_title.str.contains('awesome.$', case=False)]"
      ],
      "execution_count": null,
      "outputs": [
        {
          "output_type": "execute_result",
          "data": {
            "text/plain": [
              "product_id\n",
              "B0005ZUG86    I love Tiger Sauce! I eat it with cream cheese...\n",
              "B000EVG8HY    these are awesome. though they're gluten free,...\n",
              "B0032AM8JG    If you want to improve your milk production, t...\n",
              "B008S5KXTW    I had never heard of Dende Oil before I read a...\n",
              "Name: text, dtype: object"
            ]
          },
          "metadata": {
            "tags": []
          },
          "execution_count": 29
        }
      ]
    },
    {
      "cell_type": "code",
      "metadata": {
        "colab": {
          "base_uri": "https://localhost:8080/"
        },
        "id": "hLZjDTcbffuk",
        "outputId": "05edcc7d-e40c-4731-fd69-54086e3c011d"
      },
      "source": [
        "#Todas las evaluaciones que contengan las palabras 'horrible' o 'terrible'.\n",
        "\n",
        "grouped_by_title[grouped_by_title.str.contains('\\sterrible|\\shorrible', case=False)]"
      ],
      "execution_count": null,
      "outputs": [
        {
          "output_type": "execute_result",
          "data": {
            "text/plain": [
              "product_id\n",
              "B0000D94PA    Wow.<br />This gingerbread is terrible. Truly ...\n",
              "B0001392LO    Not a bad treat for what it does not have in i...\n",
              "B0001ZZIEC    Shipping was horrible. They claimed they could...\n",
              "B00020XNTS    First thing is their web site. It is terrible....\n",
              "B00024D9X4    Yup it's calorie free and carb free and boy ca...\n",
              "                                    ...                        \n",
              "B006R1SSBY    The description was not like the product.  It ...\n",
              "B007M832Y4    I bought these because I like chips and saw al...\n",
              "B008I1XPKA    This is not terrible coffee, but it is on the ...\n",
              "B008YA1LQK    I've been percolating coffee for 30+ years. To...\n",
              "B009AFJ3I6    I have purchased Ideal for about a year now bu...\n",
              "Name: text, Length: 124, dtype: object"
            ]
          },
          "metadata": {
            "tags": []
          },
          "execution_count": 30
        }
      ]
    },
    {
      "cell_type": "code",
      "metadata": {
        "colab": {
          "base_uri": "https://localhost:8080/"
        },
        "id": "6ocJPzTSffoz",
        "outputId": "5bbc8c35-96b1-4733-cab1-e036208adfa4"
      },
      "source": [
        "#Todas las evaluaciones que contengan solamente letras minúsculas.\n",
        "\n",
        "grouped_by_title[grouped_by_title.str.contains(\"/^[a-z]+$/\")]"
      ],
      "execution_count": 27,
      "outputs": [
        {
          "output_type": "execute_result",
          "data": {
            "text/plain": [
              "Series([], Name: text, dtype: object)"
            ]
          },
          "metadata": {
            "tags": []
          },
          "execution_count": 27
        }
      ]
    }
  ]
}