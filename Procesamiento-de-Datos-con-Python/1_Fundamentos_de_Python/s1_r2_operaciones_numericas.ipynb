{
  "nbformat": 4,
  "nbformat_minor": 0,
  "metadata": {
    "kernelspec": {
      "display_name": "Python 3",
      "language": "python",
      "name": "python3"
    },
    "language_info": {
      "codemirror_mode": {
        "name": "ipython",
        "version": 3
      },
      "file_extension": ".py",
      "mimetype": "text/x-python",
      "name": "python",
      "nbconvert_exporter": "python",
      "pygments_lexer": "ipython3",
      "version": "3.8.3"
    },
    "colab": {
      "name": "s1_r2_operaciones_numericas.ipynb",
      "provenance": [],
      "collapsed_sections": [],
      "include_colab_link": true
    }
  },
  "cells": [
    {
      "cell_type": "markdown",
      "metadata": {
        "id": "view-in-github",
        "colab_type": "text"
      },
      "source": [
        "<a href=\"https://colab.research.google.com/github/pepetellez/BEDU_Data_Analysis/blob/main/Procesamiento-de-Datos-con-Python/1_Fundamentos_de%20_Python/s1_r2_operaciones_numericas.ipynb\" target=\"_parent\"><img src=\"https://colab.research.google.com/assets/colab-badge.svg\" alt=\"Open In Colab\"/></a>"
      ]
    },
    {
      "cell_type": "markdown",
      "metadata": {
        "id": "f2sDkyChkavQ"
      },
      "source": [
        "## Reto 2: Operaciones numéricas\n",
        "\n",
        "### 1. Objetivos:\n",
        "    - Practicar asignación de variables y operaciones aritméticas en Python\n",
        " \n",
        "---\n",
        "    \n",
        "### 2. Desarrollo:"
      ]
    },
    {
      "cell_type": "markdown",
      "metadata": {
        "id": "kdlPvr8ekavX"
      },
      "source": [
        "#### 1. Asignación de los números correctos\n",
        "\n",
        "A continuación, verás unas variables que tienen nombre pero que todavía no tienen ningún valor asignado:"
      ]
    },
    {
      "cell_type": "code",
      "metadata": {
        "id": "AwlfeALukavY"
      },
      "source": [
        "var_1 = 4\n",
        "\n",
        "var_2 = 10\n",
        "\n",
        "var_3 = 6\n",
        "\n",
        "var_4 = 8\n",
        "\n",
        "var_5 = 2"
      ],
      "execution_count": null,
      "outputs": []
    },
    {
      "cell_type": "markdown",
      "metadata": {
        "id": "Syd38hyDkavZ"
      },
      "source": [
        "Ahora, tenemos debajo operaciones aritméticas que se han realizado con estas variables, junto a los resultados numéricos que esperamos obtener de estas operaciones:"
      ]
    },
    {
      "cell_type": "code",
      "metadata": {
        "id": "7TQyrvl0kava",
        "colab": {
          "base_uri": "https://localhost:8080/"
        },
        "outputId": "c1face3a-b98e-4938-826d-7a07720aae30"
      },
      "source": [
        "var_1 + var_2  # Resultado esperado: 14"
      ],
      "execution_count": null,
      "outputs": [
        {
          "output_type": "execute_result",
          "data": {
            "text/plain": [
              "14"
            ]
          },
          "metadata": {
            "tags": []
          },
          "execution_count": 14
        }
      ]
    },
    {
      "cell_type": "code",
      "metadata": {
        "id": "nZHLb7Gqkava",
        "colab": {
          "base_uri": "https://localhost:8080/"
        },
        "outputId": "b6b4b313-8d24-4e01-9064-c6ab65a51081"
      },
      "source": [
        "var_3 - var_2  # Resultado esperado: -4"
      ],
      "execution_count": null,
      "outputs": [
        {
          "output_type": "execute_result",
          "data": {
            "text/plain": [
              "-4"
            ]
          },
          "metadata": {
            "tags": []
          },
          "execution_count": 15
        }
      ]
    },
    {
      "cell_type": "code",
      "metadata": {
        "id": "HZ_ylb1hkava",
        "colab": {
          "base_uri": "https://localhost:8080/"
        },
        "outputId": "faa82a19-a910-4a93-f01d-82f30f869040"
      },
      "source": [
        "var_3 * var_1  # Resultado esperado: 24"
      ],
      "execution_count": null,
      "outputs": [
        {
          "output_type": "execute_result",
          "data": {
            "text/plain": [
              "24"
            ]
          },
          "metadata": {
            "tags": []
          },
          "execution_count": 16
        }
      ]
    },
    {
      "cell_type": "code",
      "metadata": {
        "id": "J6lvUwPlkava",
        "colab": {
          "base_uri": "https://localhost:8080/"
        },
        "outputId": "a012e26a-5a4d-4f4b-ee91-ea481684b5f6"
      },
      "source": [
        "var_5 + var_3  # Resultado esperado: 8"
      ],
      "execution_count": null,
      "outputs": [
        {
          "output_type": "execute_result",
          "data": {
            "text/plain": [
              "8"
            ]
          },
          "metadata": {
            "tags": []
          },
          "execution_count": 17
        }
      ]
    },
    {
      "cell_type": "code",
      "metadata": {
        "id": "A_NIVntgkavb",
        "colab": {
          "base_uri": "https://localhost:8080/"
        },
        "outputId": "ae61de12-463c-4335-b8f3-538ce2a88b6a"
      },
      "source": [
        "var_4 / var_5  # Resultado esperado: 4"
      ],
      "execution_count": null,
      "outputs": [
        {
          "output_type": "execute_result",
          "data": {
            "text/plain": [
              "4.0"
            ]
          },
          "metadata": {
            "tags": []
          },
          "execution_count": 18
        }
      ]
    },
    {
      "cell_type": "markdown",
      "metadata": {
        "id": "ydXbWgulkavb"
      },
      "source": [
        "El reto es asignar los números correctos a las variables de arriba de manera que al correr las celdas que contienen operaciones numéricas obtengamos los `Resultados esperados`.\n",
        "\n",
        ">*Tip*: Todos los números son pares"
      ]
    },
    {
      "cell_type": "code",
      "metadata": {
        "id": "-KKFZ4NNkavb"
      },
      "source": [
        ""
      ],
      "execution_count": null,
      "outputs": []
    }
  ]
}
