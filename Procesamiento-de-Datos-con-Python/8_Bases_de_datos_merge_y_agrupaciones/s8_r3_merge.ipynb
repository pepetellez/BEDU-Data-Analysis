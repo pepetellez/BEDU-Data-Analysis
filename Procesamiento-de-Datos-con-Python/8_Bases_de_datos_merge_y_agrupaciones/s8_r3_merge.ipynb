{
  "nbformat": 4,
  "nbformat_minor": 0,
  "metadata": {
    "kernelspec": {
      "display_name": "Python (data_science)",
      "language": "python",
      "name": "data_science"
    },
    "language_info": {
      "codemirror_mode": {
        "name": "ipython",
        "version": 3
      },
      "file_extension": ".py",
      "mimetype": "text/x-python",
      "name": "python",
      "nbconvert_exporter": "python",
      "pygments_lexer": "ipython3",
      "version": "3.8.1"
    },
    "colab": {
      "name": "s8_r3_merge.ipynb",
      "provenance": [],
      "include_colab_link": true
    }
  },
  "cells": [
    {
      "cell_type": "markdown",
      "metadata": {
        "id": "view-in-github",
        "colab_type": "text"
      },
      "source": [
        "<a href=\"https://colab.research.google.com/github/pepetellez/BEDU-Data-Analysis/blob/main/Procesamiento-de-Datos-con-Python/8_Bases_de_datos_merge_y_agrupaciones/s8_r3_merge.ipynb\" target=\"_parent\"><img src=\"https://colab.research.google.com/assets/colab-badge.svg\" alt=\"Open In Colab\"/></a>"
      ]
    },
    {
      "cell_type": "markdown",
      "metadata": {
        "id": "nMM2yWIf7_mN"
      },
      "source": [
        "## Reto 3: `merge` para completar información faltante\n",
        "\n",
        "### 1. Objetivos:\n",
        "    - Completar la tabla `users` usando la información contenida en las tablas `occupations` y `age_ranges`.\n",
        "    \n",
        "---\n",
        "    \n",
        "### 2. Desarrollo:"
      ]
    },
    {
      "cell_type": "markdown",
      "metadata": {
        "id": "QvEbYhtz7_mS"
      },
      "source": [
        "#### a) Complementado información usando el método `merge`\n",
        "\n",
        "No es muy práctico tener las tablas `occupations` y `age_range` por sí solas, ya que la información que contienen está íntimamente relacionada con al información de la tabla `users`. Vamos entonces a unir las tres tablas en una sola tabla para tener esa información mucho más accesible. Tu Reto consiste en los siguientes pasos:\n",
        "\n",
        "1. Lee tus archivos `users`, `occupations` y `age_range` (o como sea que les quisiste llamar) y conviértelos en `DataFrames`.\n",
        "2. Utiliza el método `merge` para agregar la información contenida en la tabla `occupations` a la tabla `users`.\n",
        "3. Utiliza el método `merge` para agregar la información contenida en la tabla `age_ranges` a la tabla `users`.\n",
        "4. Si lo consideras necesario, renombra y reordena las columnas para que la información sea clara.\n",
        "5. Guarda tu nuevo conjunto de datos en un nuevo archivo .csv."
      ]
    },
    {
      "cell_type": "code",
      "metadata": {
        "colab": {
          "base_uri": "https://localhost:8080/"
        },
        "id": "8s8L1TBTF6oM",
        "outputId": "98d5b5db-9deb-4a04-e2f4-2cf29170dc1e"
      },
      "source": [
        "from google.colab import drive\n",
        "drive.mount('/content/drive')"
      ],
      "execution_count": 1,
      "outputs": [
        {
          "output_type": "stream",
          "text": [
            "Mounted at /content/drive\n"
          ],
          "name": "stdout"
        }
      ]
    },
    {
      "cell_type": "code",
      "metadata": {
        "id": "3h-bvJpz7_mT"
      },
      "source": [
        "import pandas as pd\n",
        "\n",
        "users = pd.read_csv(r'drive/MyDrive/users.csv', index_col=0, names=['gender', 'age', 'occupation', 'cp'])\n",
        "occupations = pd.read_csv(r'drive/MyDrive/occupation.csv', index_col=0, names=['description'])\n",
        "age_ranges  = pd.read_csv(r'drive/MyDrive/age_ranges.csv', index_col=0, names=['age_id', 'range'])    \n",
        " \n",
        "users_full = pd.merge(users, occupations, left_on='occupation', right_index=True).sort_index()\n",
        "users_full = users_full.rename(columns={'description': 'occupation', 'occupation': 'occupation_id'})\n",
        "\n",
        "users_full = pd.merge(users_full, age_ranges, left_on='age', right_index=True).sort_index()\n",
        "users_full = users_full.rename(columns={'age': 'age_id', 'range': 'age_range'})\n",
        "\n",
        "users_full = users_full[['gender', 'age_id', 'age_range', 'occupation_id', 'occupation', 'cp' ]]\n",
        "\n",
        "users_full.to_csv(r'drive/MyDrive/users_full.csv')"
      ],
      "execution_count": 5,
      "outputs": []
    },
    {
      "cell_type": "markdown",
      "metadata": {
        "id": "JAhVGvOP7_mT"
      },
      "source": [
        "Compara tus resultados con tus compañeros y tu experta para asegurarse de que todos tengan un conjunto similar que contenga toda la información requerida."
      ]
    },
    {
      "cell_type": "markdown",
      "metadata": {
        "id": "-Za6vCDq7_mT"
      },
      "source": [
        "<details><summary>Solución</summary>\n",
        "\n",
        "```python\n",
        "users = pd.read_csv('../../Datasets/MovieLens/users-raw.csv', index_col=0, names=['gender', 'age', 'occupation', 'cp'])\n",
        "occupations = pd.read_csv('../../Datasets/MovieLens/occupations-raw.csv', index_col=0, names=['description'])\n",
        "age_ranges  = pd.read_csv('../../Datasets/MovieLens/age_ranges-raw.csv', index_col=0, names=['age_id', 'range'])    \n",
        "    \n",
        "users_full = pd.merge(users, occupations, left_on='occupation', right_index=True).sort_index()\n",
        "users_full = users_full.rename(columns={'description': 'occupation', 'occupation': 'occupation_id'})\n",
        "users_full = pd.merge(users_full, age_ranges, left_on='age', right_index=True).sort_index()\n",
        "users_full = users_full.rename(columns={'age': 'age_id', 'range': 'age_range'})\n",
        "users_full = users_full[['gender', 'age_id', 'age_range', 'occupation_id', 'occupation', 'cp' ]]\n",
        "users_full.to_csv('ruta')\n",
        "```\n",
        "    \n",
        "</details>"
      ]
    }
  ]
}