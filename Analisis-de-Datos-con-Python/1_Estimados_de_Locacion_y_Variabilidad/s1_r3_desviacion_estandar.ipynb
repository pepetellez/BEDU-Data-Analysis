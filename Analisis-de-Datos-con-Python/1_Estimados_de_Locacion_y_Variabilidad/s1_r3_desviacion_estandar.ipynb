{
  "nbformat": 4,
  "nbformat_minor": 0,
  "metadata": {
    "kernelspec": {
      "display_name": "Python (data_science)",
      "language": "python",
      "name": "data_science"
    },
    "language_info": {
      "codemirror_mode": {
        "name": "ipython",
        "version": 3
      },
      "file_extension": ".py",
      "mimetype": "text/x-python",
      "name": "python",
      "nbconvert_exporter": "python",
      "pygments_lexer": "ipython3",
      "version": "3.8.5"
    },
    "colab": {
      "name": "s1_r3_desviacion_estandar.ipynb",
      "provenance": [],
      "include_colab_link": true
    }
  },
  "cells": [
    {
      "cell_type": "markdown",
      "metadata": {
        "id": "view-in-github",
        "colab_type": "text"
      },
      "source": [
        "<a href=\"https://colab.research.google.com/github/pepetellez/BEDU-Data-Analysis/blob/main/Analisis-de-Datos-con-Python/1_Estimados_de_Locacion_y_Variabilidad/s1_r3_desviacion_estandar.ipynb\" target=\"_parent\"><img src=\"https://colab.research.google.com/assets/colab-badge.svg\" alt=\"Open In Colab\"/></a>"
      ]
    },
    {
      "cell_type": "markdown",
      "metadata": {
        "id": "ueof5FAbtA7C"
      },
      "source": [
        "## Reto 3: Desviación estándar\n",
        "\n",
        "### 1. Objetivos:\n",
        "    - Utilizar la desviación estándar para realizar un análisis de dispersión de nuestros datos\n",
        " \n",
        "---\n",
        "    \n",
        "### 2. Desarrollo:"
      ]
    },
    {
      "cell_type": "markdown",
      "metadata": {
        "id": "GH19zcBPtA7I"
      },
      "source": [
        "#### a) Desviación estándar y distribución de los datos\n",
        "\n",
        "Como ya vimos, la desviación estándar es la medida que nos da la \"desviación típica\" (o esperada) de nuestros datos a comparación del promedio. Eso quiere decir que normalmente vamos a esperar que una gran parte de nuestros datos se encuentren a 1 desviación estándar de distancia del promedio. Entre más nos alejamos, menos muestras deberíamos de encontrar.\n",
        "\n",
        "Vamos a comprobar esto usando nuestro dataset de meteoritos que orbitan cerca de la Tierra. Tu Reto consiste en los siguientes pasos:\n",
        "\n",
        "1. Crea un DataFrame con el dataset 'near_earth_objects-jan_feb_1995-clean.csv'.\n",
        "2. Obtén la cantidad total de muestras en tu DataFrame.\n",
        "3. Obtén la desviación estándar de la columna 'estimated_diameter.meters.estimated_diameter_max'. Los siguientes pasos realízalos todos utilizando esta columna.\n",
        "4. Obtén el porcentaje de muestras que están a una distancia de 1 desviación estándar del promedio.\n",
        "5. Obtén el porcentaje de muestras que están a una distancia de 2 desviaciones estándares del promedio.\n",
        "6. Obtén el porcentaje de muestras que están a una distancia de 3 desviaciones estándares del promedio.\n",
        "7. Compara los porcentajes obtenidos y comenta con tus compañeros y la experta tus hallazgos. ¿Qué significa esto? ¿La definición de desviación estándar tiene sentido? ¿Qué puedo inferir acerca de la dispersión de mis datos a partir de los valores obtenidos?\n",
        "\n",
        "> Nota: Para obtener los porcentajes de los subconjuntos primero necesitas filtrar el DataFrame original para que sólo permanezcan las muestras que cumplan con los requisitos.\n",
        "\n",
        "> Nota: Este Reto está diseñado para tener una dificultad media. No te frustres si al principio parece demasiado difícil. Comienza poco a poco, resolviendo el problema en pedazos pequeños, y si no tienes la menor idea de cómo proceder recuerda que la experta está ahí para ayudarte."
      ]
    },
    {
      "cell_type": "code",
      "metadata": {
        "colab": {
          "base_uri": "https://localhost:8080/"
        },
        "id": "vqAAXEew2YKJ",
        "outputId": "1baddf74-912b-4002-831a-b0a48f5251f9"
      },
      "source": [
        "from google.colab import drive\n",
        "drive.mount('/content/drive')"
      ],
      "execution_count": 1,
      "outputs": [
        {
          "output_type": "stream",
          "text": [
            "Mounted at /content/drive\n"
          ],
          "name": "stdout"
        }
      ]
    },
    {
      "cell_type": "code",
      "metadata": {
        "id": "OmOVFyyGtA7K",
        "colab": {
          "base_uri": "https://localhost:8080/"
        },
        "outputId": "9c29a2c2-a54e-40c2-f986-fd8e0595aefa"
      },
      "source": [
        "### Tu código va aquí\n",
        "import pandas as pd\n",
        "df = pd.read_csv(\"/content/drive/MyDrive/Datasets/near_earth_objects-jan_feb_1995-clean.csv\")\n",
        "\n",
        "diameter_column = 'estimated_diameter.meters.estimated_diameter_max'\n",
        "total_count = df.shape[0]\n",
        "mean = df[diameter_column].mean()\n",
        "std = df[diameter_column].std()\n",
        "\n",
        "print(mean)\n",
        "print(std)\n",
        " \n",
        "within_one_std_filter_bottom = df[diameter_column] >= (mean - std)\n",
        "within_one_std_filter_top = df[diameter_column] <= (mean + std)\n",
        "within_one_std = df[within_one_std_filter_bottom & within_one_std_filter_top]\n",
        "percentage_of_data_within_one_std = within_one_std.shape[0] * 100 / total_count\n",
        "print(percentage_of_data_within_one_std)\n",
        " \n",
        "within_two_std_filter_bottom = df[diameter_column] >= (mean - 2 * std)\n",
        "within_two_std_filter_top = df[diameter_column] <= (mean + 2 * std)\n",
        "within_two_std = df[within_two_std_filter_bottom & within_two_std_filter_top]\n",
        "percentage_of_data_within_two_std = within_two_std.shape[0] * 100 / total_count\n",
        "print(percentage_of_data_within_two_std)\n",
        " \n",
        "within_three_std_filter_bottom = df[diameter_column] >= (mean - 3 * std)\n",
        "within_three_std_filter_top = df[diameter_column] <= (mean + 3 * std)\n",
        "within_three_std = df[within_three_std_filter_bottom & within_three_std_filter_top]\n",
        "percentage_of_data_within_three_std = within_three_std.shape[0] * 100 / total_count\n",
        "print(percentage_of_data_within_three_std)\n"
      ],
      "execution_count": 5,
      "outputs": [
        {
          "output_type": "stream",
          "text": [
            "410.0860422397653\n",
            "614.691591855223\n",
            "90.3903903903904\n",
            "96.3963963963964\n",
            "97.89789789789789\n"
          ],
          "name": "stdout"
        }
      ]
    },
    {
      "cell_type": "markdown",
      "metadata": {
        "id": "R8-9Tx8itA7L"
      },
      "source": [
        "<details><summary>Solución</summary>\n",
        "\n",
        "```python\n",
        "import pandas as pd\n",
        "\n",
        "df = pd.read_csv('../../Datasets/near_earth_objects-jan_feb_1995-clean.csv', index_col=0)\n",
        "diameter_column = 'estimated_diameter.meters.estimated_diameter_max'\n",
        "total_count = df.shape[0]\n",
        "mean = df[diameter_column].mean()\n",
        "std = df[diameter_column].std()\n",
        "\n",
        "within_one_std_filter_bottom = df[diameter_column] >= (mean - std)\n",
        "within_one_std_filter_top = df[diameter_column] <= (mean + std)\n",
        "within_one_std = df[within_one_std_filter_bottom & within_one_std_filter_top]\n",
        "percentage_of_data_within_one_std = within_one_std.shape[0] * 100 / total_count\n",
        "\n",
        "within_two_std_filter_bottom = df[diameter_column] >= (mean - 2 * std)\n",
        "within_two_std_filter_top = df[diameter_column] <= (mean + 2 * std)\n",
        "within_two_std = df[within_two_std_filter_bottom & within_two_std_filter_top]\n",
        "percentage_of_data_within_two_std = within_two_std.shape[0] * 100 / total_count\n",
        "\n",
        "within_three_std_filter_bottom = df[diameter_column] >= (mean - 3 * std)\n",
        "within_three_std_filter_top = df[diameter_column] <= (mean + 3 * std)\n",
        "within_three_std = df[within_three_std_filter_bottom & within_three_std_filter_top]\n",
        "percentage_of_data_within_three_std = within_three_std.shape[0] * 100 / total_count\n",
        "```\n",
        "    \n",
        "</details>"
      ]
    },
    {
      "cell_type": "code",
      "metadata": {
        "id": "umTXPcXXtA7L"
      },
      "source": [
        ""
      ],
      "execution_count": null,
      "outputs": []
    }
  ]
}