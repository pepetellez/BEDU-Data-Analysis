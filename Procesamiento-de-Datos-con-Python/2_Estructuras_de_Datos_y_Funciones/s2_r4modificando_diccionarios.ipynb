{
  "nbformat": 4,
  "nbformat_minor": 0,
  "metadata": {
    "kernelspec": {
      "display_name": "Python 3",
      "language": "python",
      "name": "python3"
    },
    "language_info": {
      "codemirror_mode": {
        "name": "ipython",
        "version": 3
      },
      "file_extension": ".py",
      "mimetype": "text/x-python",
      "name": "python",
      "nbconvert_exporter": "python",
      "pygments_lexer": "ipython3",
      "version": "3.8.3"
    },
    "colab": {
      "name": "s2_r4modificando_diccionarios.ipynb",
      "provenance": [],
      "include_colab_link": true
    }
  },
  "cells": [
    {
      "cell_type": "markdown",
      "metadata": {
        "id": "view-in-github",
        "colab_type": "text"
      },
      "source": [
        "<a href=\"https://colab.research.google.com/github/pepetellez/BEDU-Data-Analysis/blob/main/Procesamiento-de-Datos-con-Python/2_Estructuras_de_Datos_y_Funciones/s2_r4modificando_diccionarios.ipynb\" target=\"_parent\"><img src=\"https://colab.research.google.com/assets/colab-badge.svg\" alt=\"Open In Colab\"/></a>"
      ]
    },
    {
      "cell_type": "markdown",
      "metadata": {
        "id": "brm2DrDbD9NB"
      },
      "source": [
        "## Reto 4: Modificando diccionarios\n",
        "\n",
        "### 1. Objetivos:\n",
        "    - Practicar agregar datos, modificar datos y eliminar datos de diccionarios\n",
        " \n",
        "---\n",
        "    \n",
        "### 2. Desarrollo:"
      ]
    },
    {
      "cell_type": "markdown",
      "metadata": {
        "id": "Iwn9A4cfD9NI"
      },
      "source": [
        "Debajo tienes un diccionario que contiene algo de información sobre una persona:"
      ]
    },
    {
      "cell_type": "code",
      "metadata": {
        "id": "6cW11zxDD9NL",
        "colab": {
          "base_uri": "https://localhost:8080/"
        },
        "outputId": "c8d36dad-ee26-414d-d65b-7145d01e41c6"
      },
      "source": [
        "registro = {\n",
        "    \"id\": \"23f-58j-kju7-54re\",\n",
        "    \"nombre\": \"Alberto\",\n",
        "    \"apellido_materno\": \"Gutierrez\",\n",
        "    \"apellido_paterno\": \"Sosa\",\n",
        "    \"profesion\": \"Contador\",\n",
        "    \"ultimo_nivel_de_estudios\": \"Maestría\",\n",
        "    \"lugar_de_estudios\": \"UAM\",\n",
        "    \"numero_de_cuenta\": \"25367890\",\n",
        "    \"nip_de_cajero\": \"142\"\n",
        "}\n",
        "\n",
        "#Modificar datos existintes\n",
        "registro[\"nombre\"] = \"José Antonio\"\n",
        "registro[\"apellido_materno\"] = \"Téllez\"\n",
        "registro[\"apellido_paterno\"] = \"Aguilar\"\n",
        "registro[\"profesion\"] = \"Estudiante\"\n",
        "registro[\"ultimo_nivel_de_estudios\"] = \"Maestría\"\n",
        "registro[\"lugar_de_estudios\"] = \"La Salle\"\n",
        "registro[\"numero_de_cuenta\"] = \"123456789\"\n",
        "registro[\"nip_de_cajero\"] = \"1234\"\n",
        "\n",
        "#Agregar nuevos datos\n",
        "registro[\"fecha_de_nacimiento\"] = \"21/09/1996\"\n",
        "registro[\"lugar_de_nacimiento\"] = \"Cuernavaca\"\n",
        "\n",
        "#Eliminar datos\n",
        "registro.pop(\"numero_de_cuenta\")\n",
        "registro.pop(\"nip_de_cajero\")\n",
        "\n",
        "print(registro)"
      ],
      "execution_count": 17,
      "outputs": [
        {
          "output_type": "stream",
          "text": [
            "{'id': '23f-58j-kju7-54re', 'nombre': 'José Antonio', 'apellido_materno': 'Téllez', 'apellido_paterno': 'Aguilar', 'profesion': 'Estudiante', 'ultimo_nivel_de_estudios': 'Maestría', 'lugar_de_estudios': 'La Salle', 'fecha_de_nacimiento': '21/09/1996', 'lugar_de_nacimiento': 'Cuernavaca'}\n"
          ],
          "name": "stdout"
        }
      ]
    },
    {
      "cell_type": "markdown",
      "metadata": {
        "id": "txBIYVjvD9NM"
      },
      "source": [
        "Ahora, tenemos una serie de `prints` que imprimen esta información en forma de tabla:"
      ]
    },
    {
      "cell_type": "code",
      "metadata": {
        "id": "bz6cHl9mD9NM",
        "colab": {
          "base_uri": "https://localhost:8080/"
        },
        "outputId": "68981707-2a2e-40a2-a98f-fe5edad165c2"
      },
      "source": [
        "print(f'Registro con id: {registro[\"id\"]}\\n')\n",
        "print(f'---------------------------------------\\n')\n",
        "print(f'{(\"Nombre\"):25} | {registro[\"nombre\"]:25}')\n",
        "print(f'{(\"Apellido Materno\"):25} | {registro[\"apellido_materno\"]:25}')\n",
        "print(f'{(\"Apellido Paterno\"):25} | {registro[\"apellido_paterno\"]:25}')\n",
        "print(f'{(\"Profesión\"):25} | {registro[\"profesion\"]:25}')\n",
        "print(f'{(\"Último nivel de estudios\"):25} | {registro[\"ultimo_nivel_de_estudios\"]:25}')\n",
        "print(f'{(\"Lugar de estudios\"):25} | {registro[\"lugar_de_estudios\"]:25}')\n",
        "print(f'{(\"Fecha de nacimiento\"):25} | {registro[\"fecha_de_nacimiento\"]:25}')\n",
        "print(f'{(\"Lugar de nacimiento\"):25} | {registro[\"lugar_de_nacimiento\"]:25}')"
      ],
      "execution_count": 13,
      "outputs": [
        {
          "output_type": "stream",
          "text": [
            "Registro con id: 23f-58j-kju7-54re\n",
            "\n",
            "---------------------------------------\n",
            "\n",
            "Nombre                    | José Antonio             \n",
            "Apellido Materno          | Téllez                   \n",
            "Apellido Paterno          | Aguilar                  \n",
            "Profesión                 | Estudiante               \n",
            "Último nivel de estudios  | Maestría                 \n",
            "Lugar de estudios         | La Salle                 \n",
            "Fecha de nacimiento       | 21/09/1996               \n",
            "Lugar de nacimiento       | Cuernavaca               \n"
          ],
          "name": "stdout"
        }
      ]
    },
    {
      "cell_type": "markdown",
      "metadata": {
        "id": "pZ-wo5qiD9NM"
      },
      "source": [
        "La actividad tienen 3 partes:\n",
        "\n",
        "1. Usando la técnica para modificar valores en un diccionario, cambia la información del diccionario para que sea la tuya.\n",
        "2. Usando la técnica para agregar datos al diccionario agrega las llaves que estén siendo accesadas en el `print` pero que no han sido agregadas al diccionario.\n",
        "3. Usando la técnica para eliminar datos del diccionario, elimina los datos sensibles que no quieras que estén incluidos en el diccionario.\n",
        "\n",
        "Recuerda sólo utilizar métodos y operadores para realizar el ejercicio. **No reescribas el diccionario directamente**."
      ]
    },
    {
      "cell_type": "code",
      "metadata": {
        "id": "f3hcyHdzD9NN"
      },
      "source": [
        ""
      ],
      "execution_count": null,
      "outputs": []
    }
  ]
}