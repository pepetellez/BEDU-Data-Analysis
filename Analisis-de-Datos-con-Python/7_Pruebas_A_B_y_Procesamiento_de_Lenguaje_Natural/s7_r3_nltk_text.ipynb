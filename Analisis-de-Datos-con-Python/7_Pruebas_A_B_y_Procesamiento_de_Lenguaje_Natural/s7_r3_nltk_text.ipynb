{
  "nbformat": 4,
  "nbformat_minor": 0,
  "metadata": {
    "kernelspec": {
      "display_name": "Python (data_science)",
      "language": "python",
      "name": "data_science"
    },
    "language_info": {
      "codemirror_mode": {
        "name": "ipython",
        "version": 3
      },
      "file_extension": ".py",
      "mimetype": "text/x-python",
      "name": "python",
      "nbconvert_exporter": "python",
      "pygments_lexer": "ipython3",
      "version": "3.8.5"
    },
    "colab": {
      "name": "s7_r3_nltk_text.ipynb",
      "provenance": [],
      "include_colab_link": true
    }
  },
  "cells": [
    {
      "cell_type": "markdown",
      "metadata": {
        "id": "view-in-github",
        "colab_type": "text"
      },
      "source": [
        "<a href=\"https://colab.research.google.com/github/pepetellez/BEDU-Data-Analysis/blob/main/Analisis-de-Datos-con-Python/7_Pruebas_A_B_y_Procesamiento_de_Lenguaje_Natural/s7_r3_nltk_text.ipynb\" target=\"_parent\"><img src=\"https://colab.research.google.com/assets/colab-badge.svg\" alt=\"Open In Colab\"/></a>"
      ]
    },
    {
      "cell_type": "markdown",
      "metadata": {
        "id": "iDAVOQEr_gDM"
      },
      "source": [
        "## Reto 3: Nltk Text\n",
        "\n",
        "### 1. Objetivos:\n",
        "    - Practicar el uso del objeto Text de la librería Nltk\n",
        " \n",
        "---\n",
        "    \n",
        "### 2. Desarrollo:"
      ]
    },
    {
      "cell_type": "markdown",
      "metadata": {
        "id": "xVvTN5Ic_gDR"
      },
      "source": [
        "Vamos a practicar utilizar el objeto Text de la librería Nltk. Para practicar utilizaremos el conjunto de datos que limpiaste en el Reto anterior. Este conjunto de datos debería de contener todas las evaluaciones registradas en el dataset 'amazon_fine_food_reviews-clean.csv' ya limpias y listas para el análisis.\n",
        "\n",
        "Tu Reto consiste en lo siguiente:\n",
        "\n",
        "1. Aplica el método 'word_tokenize' de nltk para separar todas las evaluaciones por palabras (esto puede tardar un ratito).\n",
        "2. Genera una sola lista con todas las listas que obtuviste en el paso 1 y úsala para crear un objeto `nltk.Text` (esto también puede tardar un ratito, sé paciente).\n",
        "3. Busca las concordancias de las palabras 'boy' y 'girl'.\n",
        "4. Busca las palabras que tengan contextos similares a las palabras 'boy' y 'girl'.\n",
        "5. Busca los contextos que tengan en común las palabras 'boy' y 'girl'.\n",
        "6. Cuantifica la riqueza léxica de tu conjunto de datos\n",
        "7. Sigue tu curiosidad y realiza algunas otras exploraciones por tu cuenta.\n",
        "8. Comenta tus hallazgos con tus compañeros y la experta."
      ]
    },
    {
      "cell_type": "code",
      "metadata": {
        "colab": {
          "base_uri": "https://localhost:8080/"
        },
        "id": "3YyhQvtSkYM4",
        "outputId": "1961394b-cd94-4a64-e74d-ef577c21c56a"
      },
      "source": [
        "from google.colab import drive\n",
        "drive.mount('/content/drive')"
      ],
      "execution_count": 1,
      "outputs": [
        {
          "output_type": "stream",
          "text": [
            "Mounted at /content/drive\n"
          ],
          "name": "stdout"
        }
      ]
    },
    {
      "cell_type": "code",
      "metadata": {
        "id": "-6xjQpkT_gDS",
        "colab": {
          "base_uri": "https://localhost:8080/"
        },
        "outputId": "60d91030-da4c-483e-b185-acda76dc201f"
      },
      "source": [
        "import pandas as pd\n",
        "import nltk\n",
        "nltk.download('punkt')\n",
        "nltk.download('stopwords')\n",
        "import seaborn as sns\n",
        "import matplotlib.pyplot as plt\n",
        "import numpy as np"
      ],
      "execution_count": 44,
      "outputs": [
        {
          "output_type": "stream",
          "text": [
            "[nltk_data] Downloading package punkt to /root/nltk_data...\n",
            "[nltk_data]   Package punkt is already up-to-date!\n",
            "[nltk_data] Downloading package stopwords to /root/nltk_data...\n",
            "[nltk_data]   Unzipping corpora/stopwords.zip.\n"
          ],
          "name": "stdout"
        }
      ]
    },
    {
      "cell_type": "code",
      "metadata": {
        "colab": {
          "base_uri": "https://localhost:8080/",
          "height": 715
        },
        "id": "nnZkwJkSkkUU",
        "outputId": "67375d19-756b-4149-b27c-0c84af23a122"
      },
      "source": [
        "df = pd.read_csv(\"/content/drive/MyDrive/Datasets/amazon_fine_food_reviews-clean.csv\", index_col=0)\n",
        "df.head()"
      ],
      "execution_count": 4,
      "outputs": [
        {
          "output_type": "execute_result",
          "data": {
            "text/html": [
              "<div>\n",
              "<style scoped>\n",
              "    .dataframe tbody tr th:only-of-type {\n",
              "        vertical-align: middle;\n",
              "    }\n",
              "\n",
              "    .dataframe tbody tr th {\n",
              "        vertical-align: top;\n",
              "    }\n",
              "\n",
              "    .dataframe thead th {\n",
              "        text-align: right;\n",
              "    }\n",
              "</style>\n",
              "<table border=\"1\" class=\"dataframe\">\n",
              "  <thead>\n",
              "    <tr style=\"text-align: right;\">\n",
              "      <th></th>\n",
              "      <th>product_id</th>\n",
              "      <th>user_id</th>\n",
              "      <th>profile_name</th>\n",
              "      <th>helpfulness_numerator</th>\n",
              "      <th>helpfulness_denominator</th>\n",
              "      <th>score</th>\n",
              "      <th>time</th>\n",
              "      <th>summary</th>\n",
              "      <th>text</th>\n",
              "    </tr>\n",
              "    <tr>\n",
              "      <th>id</th>\n",
              "      <th></th>\n",
              "      <th></th>\n",
              "      <th></th>\n",
              "      <th></th>\n",
              "      <th></th>\n",
              "      <th></th>\n",
              "      <th></th>\n",
              "      <th></th>\n",
              "      <th></th>\n",
              "    </tr>\n",
              "  </thead>\n",
              "  <tbody>\n",
              "    <tr>\n",
              "      <th>258510</th>\n",
              "      <td>B00168V34W</td>\n",
              "      <td>A1672LH9S1XO70</td>\n",
              "      <td>Lorna J. Loomis \"Canadian Dog Fancier\"</td>\n",
              "      <td>13</td>\n",
              "      <td>14</td>\n",
              "      <td>3</td>\n",
              "      <td>1266796800</td>\n",
              "      <td>Misleading to refer to \"PODS\"</td>\n",
              "      <td>This coffee does NOT come in individual \"PODS\"...</td>\n",
              "    </tr>\n",
              "    <tr>\n",
              "      <th>207915</th>\n",
              "      <td>B000CQID2Y</td>\n",
              "      <td>A42CJC66XO0H7</td>\n",
              "      <td>Scott Schimmel \"A Butterfly Dreaming\"</td>\n",
              "      <td>2</td>\n",
              "      <td>2</td>\n",
              "      <td>5</td>\n",
              "      <td>1279497600</td>\n",
              "      <td>Delicious</td>\n",
              "      <td>I was a little skeptical after looking at the ...</td>\n",
              "    </tr>\n",
              "    <tr>\n",
              "      <th>522649</th>\n",
              "      <td>B007TJGZ0Y</td>\n",
              "      <td>A16QZBG2UN6Z3X</td>\n",
              "      <td>Toology \"Toology\"</td>\n",
              "      <td>0</td>\n",
              "      <td>0</td>\n",
              "      <td>5</td>\n",
              "      <td>1335830400</td>\n",
              "      <td>One of my favs</td>\n",
              "      <td>Gloia Jeans Butter Toffee is one of my favorit...</td>\n",
              "    </tr>\n",
              "    <tr>\n",
              "      <th>393368</th>\n",
              "      <td>B000W7PUOW</td>\n",
              "      <td>A3J21CQZG60K35</td>\n",
              "      <td>Hsieh Pei Hsuan</td>\n",
              "      <td>2</td>\n",
              "      <td>2</td>\n",
              "      <td>5</td>\n",
              "      <td>1265673600</td>\n",
              "      <td>Tasty!!</td>\n",
              "      <td>My families and friends love Planters peanuts ...</td>\n",
              "    </tr>\n",
              "    <tr>\n",
              "      <th>178178</th>\n",
              "      <td>B002FX2IOQ</td>\n",
              "      <td>A1Z7XV6JU0EV8M</td>\n",
              "      <td>Barbara \"Barbara\"</td>\n",
              "      <td>1</td>\n",
              "      <td>6</td>\n",
              "      <td>1</td>\n",
              "      <td>1301788800</td>\n",
              "      <td>Organic Valley White 1 % Milkfat Lowfat Milk, ...</td>\n",
              "      <td>Organic Valley White 1 % Milkfat Lowfat Milk, ...</td>\n",
              "    </tr>\n",
              "  </tbody>\n",
              "</table>\n",
              "</div>"
            ],
            "text/plain": [
              "        product_id  ...                                               text\n",
              "id                  ...                                                   \n",
              "258510  B00168V34W  ...  This coffee does NOT come in individual \"PODS\"...\n",
              "207915  B000CQID2Y  ...  I was a little skeptical after looking at the ...\n",
              "522649  B007TJGZ0Y  ...  Gloia Jeans Butter Toffee is one of my favorit...\n",
              "393368  B000W7PUOW  ...  My families and friends love Planters peanuts ...\n",
              "178178  B002FX2IOQ  ...  Organic Valley White 1 % Milkfat Lowfat Milk, ...\n",
              "\n",
              "[5 rows x 9 columns]"
            ]
          },
          "metadata": {
            "tags": []
          },
          "execution_count": 4
        }
      ]
    },
    {
      "cell_type": "code",
      "metadata": {
        "colab": {
          "base_uri": "https://localhost:8080/"
        },
        "id": "I44DMIQ2lYJ1",
        "outputId": "ca5051cc-d12a-405e-c3f8-c3e3802af552"
      },
      "source": [
        "grouped_by_title = df.groupby('product_id')['text'].max()\n",
        "grouped_by_title"
      ],
      "execution_count": 8,
      "outputs": [
        {
          "output_type": "execute_result",
          "data": {
            "text/plain": [
              "product_id\n",
              "0006641040    TITLE: Chicken Soup with Rice<br />AUTHOR: Mau...\n",
              "7310172001    I buy a big tub of these for my dog about ever...\n",
              "7310172101    This is a great treat for dogs, but do read th...\n",
              "B00004CI84    well one of the best you just have to have a c...\n",
              "B00004CXX9    What happens when you say his name three times...\n",
              "                                    ...                        \n",
              "B009M2LUEW    When I found out about this product from Jorge...\n",
              "B009NTCO4O    I purchased this item for a christmas<br />gif...\n",
              "B009NY1MC4    This is fantastic! It is more of a syrup than ...\n",
              "B009QEBGIQ    This is a great rice, tender when cooked and s...\n",
              "B009RB4GO4    Yes, it does have artificial sweetener.  Yes, ...\n",
              "Name: text, Length: 8629, dtype: object"
            ]
          },
          "metadata": {
            "tags": []
          },
          "execution_count": 8
        }
      ]
    },
    {
      "cell_type": "code",
      "metadata": {
        "colab": {
          "base_uri": "https://localhost:8080/"
        },
        "id": "pIVeD8nLlaw4",
        "outputId": "323362c7-4004-4048-f118-7027d7cc8e4b"
      },
      "source": [
        "grouped_by_title = grouped_by_title.str.lower()\n",
        "grouped_by_title = grouped_by_title.str.strip()\n",
        "grouped_by_title = grouped_by_title.str.replace('[^\\w\\s]', '')\n",
        "grouped_by_title = grouped_by_title.str.replace('\\d', '')\n",
        "grouped_by_title = grouped_by_title.str.replace('\\\\n', '')\n",
        "grouped_by_title = grouped_by_title.dropna()\n",
        "\n",
        "grouped_by_title"
      ],
      "execution_count": 17,
      "outputs": [
        {
          "output_type": "execute_result",
          "data": {
            "text/plain": [
              "product_id\n",
              "0006641040    title chicken soup with ricebr author maurice ...\n",
              "7310172001    i buy a big tub of these for my dog about ever...\n",
              "7310172101    this is a great treat for dogs but do read the...\n",
              "B00004CI84    well one of the best you just have to have a c...\n",
              "B00004CXX9    what happens when you say his name three times...\n",
              "                                    ...                        \n",
              "B009M2LUEW    when i found out about this product from jorge...\n",
              "B009NTCO4O    i purchased this item for a christmasbr gift f...\n",
              "B009NY1MC4    this is fantastic it is more of a syrup than w...\n",
              "B009QEBGIQ    this is a great rice tender when cooked and st...\n",
              "B009RB4GO4    yes it does have artificial sweetener  yes you...\n",
              "Name: text, Length: 8629, dtype: object"
            ]
          },
          "metadata": {
            "tags": []
          },
          "execution_count": 17
        }
      ]
    },
    {
      "cell_type": "code",
      "metadata": {
        "id": "Lv6A_lJ9lina"
      },
      "source": [
        "tokenized = grouped_by_title.apply(nltk.word_tokenize)"
      ],
      "execution_count": 18,
      "outputs": []
    },
    {
      "cell_type": "code",
      "metadata": {
        "colab": {
          "base_uri": "https://localhost:8080/"
        },
        "id": "sgpVxFtpmCtC",
        "outputId": "03f05b17-9068-46bf-a3ea-dab41dddad56"
      },
      "source": [
        "tokenized"
      ],
      "execution_count": 19,
      "outputs": [
        {
          "output_type": "execute_result",
          "data": {
            "text/plain": [
              "product_id\n",
              "0006641040    [title, chicken, soup, with, ricebr, author, m...\n",
              "7310172001    [i, buy, a, big, tub, of, these, for, my, dog,...\n",
              "7310172101    [this, is, a, great, treat, for, dogs, but, do...\n",
              "B00004CI84    [well, one, of, the, best, you, just, have, to...\n",
              "B00004CXX9    [what, happens, when, you, say, his, name, thr...\n",
              "                                    ...                        \n",
              "B009M2LUEW    [when, i, found, out, about, this, product, fr...\n",
              "B009NTCO4O    [i, purchased, this, item, for, a, christmasbr...\n",
              "B009NY1MC4    [this, is, fantastic, it, is, more, of, a, syr...\n",
              "B009QEBGIQ    [this, is, a, great, rice, tender, when, cooke...\n",
              "B009RB4GO4    [yes, it, does, have, artificial, sweetener, y...\n",
              "Name: text, Length: 8629, dtype: object"
            ]
          },
          "metadata": {
            "tags": []
          },
          "execution_count": 19
        }
      ]
    },
    {
      "cell_type": "code",
      "metadata": {
        "colab": {
          "base_uri": "https://localhost:8080/"
        },
        "id": "8aABe-FBmOKD",
        "outputId": "0979c295-0f71-4d6c-ac95-274d8894b834"
      },
      "source": [
        "all_words = tokenized.sum()\n",
        "text = nltk.Text(all_words)\n",
        "\n",
        "text"
      ],
      "execution_count": 20,
      "outputs": [
        {
          "output_type": "execute_result",
          "data": {
            "text/plain": [
              "<Text: title chicken soup with ricebr author maurice sendakbr...>"
            ]
          },
          "metadata": {
            "tags": []
          },
          "execution_count": 20
        }
      ]
    },
    {
      "cell_type": "code",
      "metadata": {
        "colab": {
          "base_uri": "https://localhost:8080/"
        },
        "id": "HiBE-P6AmcLv",
        "outputId": "75ddd912-7955-485b-f6f3-3fd184f87869"
      },
      "source": [
        "text.concordance('boy', lines=20)"
      ],
      "execution_count": 21,
      "outputs": [
        {
          "output_type": "stream",
          "text": [
            "Displaying 20 of 54 matches:\n",
            "h by telling his teammates that every boy at the academy gets a shot at playing\n",
            "ng and jameson can barely look at the boy without cringing coopersmiths dark di\n",
            "up its calorie free and carb free and boy can you tell i tried this twice wante\n",
            "ar on your creme of wheat and oatmeal boy do i pour this stuff on want to make \n",
            " making of one down to the letter and boy oh boy not only was my husband thrill\n",
            " of one down to the letter and boy oh boy not only was my husband thrilled i no\n",
            "nyone knows of one please let me know boy oh boy walden farms is really a hit a\n",
            "nows of one please let me know boy oh boy walden farms is really a hit and miss\n",
            "e and more scarce when we adopted our boy nemo he was a few pounds overweight a\n",
            "me vet after my year old russian blue boy developed chrystals in hir urine and \n",
            "ngest sons favorite lunch as my older boy cant have cheese the microwave packet\n",
            "sugar and water stir and put that bad boy in your fridge or out on the porch fo\n",
            "ese and keeps coming back for more my boy loved themhe kept on coming back for \n",
            " for him after about two days the old boy had some real pep in his step he does\n",
            " them to be dry and bland tasting our boy ate the bars but somewhat reluctantly\n",
            " out and luckily found this on amazon boy am i glad i did the flavor is awesome\n",
            "ery way that a hersheys kiss could be boy like everythingshrinked in sizebazook\n",
            "orebought treats are and they make my boy happy and theres no putting a price o\n",
            "for when you take that first bite and boy is it good the flavor blooms on the t\n",
            "ckers dont they well our threeyearold boy certainly does so my wife picked up a\n"
          ],
          "name": "stdout"
        }
      ]
    },
    {
      "cell_type": "code",
      "metadata": {
        "colab": {
          "base_uri": "https://localhost:8080/"
        },
        "id": "SA3NO3q2m7lD",
        "outputId": "80e8503b-e953-47d9-de5b-3c695a179c9c"
      },
      "source": [
        "text.similar('boy')"
      ],
      "execution_count": 32,
      "outputs": [
        {
          "output_type": "stream",
          "text": [
            "i it that there this he she so and flavor cat taste dog price but just\n",
            "what product cats can\n"
          ],
          "name": "stdout"
        }
      ]
    },
    {
      "cell_type": "code",
      "metadata": {
        "colab": {
          "base_uri": "https://localhost:8080/"
        },
        "id": "mPWbOYQ3mfY4",
        "outputId": "f0248610-98ff-4408-db53-160af35ba401"
      },
      "source": [
        "text.concordance('girl', lines=20)"
      ],
      "execution_count": 28,
      "outputs": [
        {
          "output_type": "stream",
          "text": [
            "Displaying 20 of 41 matches:\n",
            "s to begin with since i was a little girl i have always love this stuff i even\n",
            " to go back inside and ask the sales girl for assistance which she very gracio\n",
            "t it tastes great recommended my chi girl loves these she gets excited when sh\n",
            "at were made in chinabr br my little girl was having trouble with dry stools s\n",
            "vegans and vegetarians being a texas girl growing up on mexican food i add cho\n",
            "lar cookiesbr they taste almost like girl scout thin mint patty cookies they a\n",
            "dry no complaints on this product my girl has loved these for two years when t\n",
            " this is one of the few treats wilhi girl enjoys my yorkies loves these better\n",
            " on purpose mine was as a gift to my girl so we ended up cutting and placing i\n",
            "ut the taste of the food and even my girl who we used to have to push to finis\n",
            " the storethe employee a nice korean girl comes into play later and a young co\n",
            "ut at home i walked up and asked the girl if we could try the last one the dud\n",
            "corn making sweet love to my tonguea girl unicorn of courseit is the cure for \n",
            "ts that we have ever seen our little girl literery goes nuts when we take thes\n",
            " up he was an eater fat and a pig my girl on the other had had always been ver\n",
            "tinky in the last weeks with the new girl i was steadily switching over her fr\n",
            "witch to natural balance lid for the girl and within days of switching foods i\n",
            " it much better my overweight little girl not only got down to a healthy size \n",
            "this is a perfect size for my little girl the vet gave her a sample but it was\n",
            "e great they are very similar to the girl scout cookies that i grew up on and \n"
          ],
          "name": "stdout"
        }
      ]
    },
    {
      "cell_type": "code",
      "metadata": {
        "colab": {
          "base_uri": "https://localhost:8080/"
        },
        "id": "YMuzx4OjnXQt",
        "outputId": "3ec2b2ae-68d4-417b-cac2-b7b789800d65"
      },
      "source": [
        "text.similar('girl')"
      ],
      "execution_count": 34,
      "outputs": [
        {
          "output_type": "stream",
          "text": [
            "dog product flavor food taste tea time cat door wife one price store\n",
            "dogs bit world money mouth bag order\n"
          ],
          "name": "stdout"
        }
      ]
    },
    {
      "cell_type": "code",
      "metadata": {
        "colab": {
          "base_uri": "https://localhost:8080/"
        },
        "id": "ahZbY358nuIA",
        "outputId": "7398a737-601a-4723-e238-d7b9f05c766a"
      },
      "source": [
        "text.common_contexts(['boy', 'girl'])"
      ],
      "execution_count": 39,
      "outputs": [
        {
          "output_type": "stream",
          "text": [
            "little_i\n"
          ],
          "name": "stdout"
        }
      ]
    },
    {
      "cell_type": "code",
      "metadata": {
        "colab": {
          "base_uri": "https://localhost:8080/"
        },
        "id": "7mirAZs3n6p2",
        "outputId": "e313c405-5ed3-493b-8214-b22752474ed4"
      },
      "source": [
        "#Total de palabras\n",
        "len(text)"
      ],
      "execution_count": 40,
      "outputs": [
        {
          "output_type": "execute_result",
          "data": {
            "text/plain": [
              "649910"
            ]
          },
          "metadata": {
            "tags": []
          },
          "execution_count": 40
        }
      ]
    },
    {
      "cell_type": "code",
      "metadata": {
        "colab": {
          "base_uri": "https://localhost:8080/"
        },
        "id": "qr-7qapZn-JV",
        "outputId": "cbf86ea1-af5e-4bd9-dedd-c730a59c436b"
      },
      "source": [
        "#Total de palabras diferentes\n",
        "len(set(text))"
      ],
      "execution_count": 41,
      "outputs": [
        {
          "output_type": "execute_result",
          "data": {
            "text/plain": [
              "24206"
            ]
          },
          "metadata": {
            "tags": []
          },
          "execution_count": 41
        }
      ]
    },
    {
      "cell_type": "code",
      "metadata": {
        "colab": {
          "base_uri": "https://localhost:8080/"
        },
        "id": "Phw7XKIBoBd4",
        "outputId": "6f410496-e2df-4805-ddc8-ec5fea741291"
      },
      "source": [
        "#Riqueza léxica\n",
        "len(set(text)) / len(text)"
      ],
      "execution_count": 42,
      "outputs": [
        {
          "output_type": "execute_result",
          "data": {
            "text/plain": [
              "0.03724515702174147"
            ]
          },
          "metadata": {
            "tags": []
          },
          "execution_count": 42
        }
      ]
    },
    {
      "cell_type": "code",
      "metadata": {
        "colab": {
          "base_uri": "https://localhost:8080/"
        },
        "id": "Abl5N6dLoFbK",
        "outputId": "fc4400af-80bd-43dc-9049-d342b15711d0"
      },
      "source": [
        "text.collocations()"
      ],
      "execution_count": 45,
      "outputs": [
        {
          "output_type": "stream",
          "text": [
            "highly recommend; peanut butter; grocery store; gluten free; green\n",
            "tea; year old; olive oil; years ago; much better; dont know; dog food;\n",
            "ive tried; local grocery; dark chocolate; long time; cat food; even\n",
            "though; ive ever; ice cream; earl grey\n"
          ],
          "name": "stdout"
        }
      ]
    }
  ]
}