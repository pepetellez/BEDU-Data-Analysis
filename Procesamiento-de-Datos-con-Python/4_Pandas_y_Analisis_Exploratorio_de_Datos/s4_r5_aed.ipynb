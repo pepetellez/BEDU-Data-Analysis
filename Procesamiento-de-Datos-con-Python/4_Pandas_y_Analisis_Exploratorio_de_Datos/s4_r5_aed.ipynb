{
  "nbformat": 4,
  "nbformat_minor": 0,
  "metadata": {
    "kernelspec": {
      "display_name": "Python (data_science)",
      "language": "python",
      "name": "data_science"
    },
    "language_info": {
      "codemirror_mode": {
        "name": "ipython",
        "version": 3
      },
      "file_extension": ".py",
      "mimetype": "text/x-python",
      "name": "python",
      "nbconvert_exporter": "python",
      "pygments_lexer": "ipython3",
      "version": "3.8.5"
    },
    "colab": {
      "name": "s4_r5_aed.ipynb",
      "provenance": [],
      "toc_visible": true,
      "include_colab_link": true
    }
  },
  "cells": [
    {
      "cell_type": "markdown",
      "metadata": {
        "id": "view-in-github",
        "colab_type": "text"
      },
      "source": [
        "<a href=\"https://colab.research.google.com/github/pepetellez/BEDU-Data-Analysis/blob/main/Procesamiento-de-Datos-con-Python/4_Pandas_y_Analisis_Exploratorio_de_Datos/s4_r5_aed.ipynb\" target=\"_parent\"><img src=\"https://colab.research.google.com/assets/colab-badge.svg\" alt=\"Open In Colab\"/></a>"
      ]
    },
    {
      "cell_type": "markdown",
      "metadata": {
        "id": "UNiXfCXOx1jQ"
      },
      "source": [
        "## Reto 5: Análisis Exploratorio de Datos\n",
        "\n",
        "### 1. Objetivos:\n",
        "    - Practicar leer archivos JSON usando pandas\n",
        "    - Practicar hacerse preguntas acerca de los conjuntos de datos que tenemos\n",
        " \n",
        "---\n",
        "    \n",
        "### 2. Desarrollo:"
      ]
    },
    {
      "cell_type": "markdown",
      "metadata": {
        "id": "FrUOK-crx1jU"
      },
      "source": [
        "Vamos a practicar explorar conjuntos de datos y hacernos preguntas acerca de ellos.\n",
        "\n",
        "Tenemos un conjunto de datos en formato JSON almacenado en '../../Datasets/new_york_times_bestsellers-clean.json' (en la carpeta /Datasets en el directorio raíz del módulo).\n",
        "\n",
        "Primero que nada, lee el archivo JSON y crea un `DataFrame` con él:"
      ]
    },
    {
      "cell_type": "code",
      "metadata": {
        "id": "IO-dijyLx1jV",
        "colab": {
          "base_uri": "https://localhost:8080/",
          "height": 993
        },
        "outputId": "3dee64b6-daff-4dcc-ecba-49552aef0932"
      },
      "source": [
        "## Realiza aquí los imports que necesites\n",
        "import pandas as pd\n",
        "import json\n",
        "\n",
        "## Lee aquí tu archivo JSON\n",
        "f = open(\"drive/MyDrive/Colab Notebooks/Datasets/new_york_times_bestsellers-clean.json\")\n",
        "json_data = json.load(f)\n",
        "f.close()\n",
        "\n",
        "## Crea aquí tu DataFrame\n",
        "df = pd.DataFrame.from_dict(json_data)\n",
        "\n",
        "df"
      ],
      "execution_count": 19,
      "outputs": [
        {
          "output_type": "execute_result",
          "data": {
            "text/html": [
              "<div>\n",
              "<style scoped>\n",
              "    .dataframe tbody tr th:only-of-type {\n",
              "        vertical-align: middle;\n",
              "    }\n",
              "\n",
              "    .dataframe tbody tr th {\n",
              "        vertical-align: top;\n",
              "    }\n",
              "\n",
              "    .dataframe thead th {\n",
              "        text-align: right;\n",
              "    }\n",
              "</style>\n",
              "<table border=\"1\" class=\"dataframe\">\n",
              "  <thead>\n",
              "    <tr style=\"text-align: right;\">\n",
              "      <th></th>\n",
              "      <th>amazon_product_url</th>\n",
              "      <th>author</th>\n",
              "      <th>description</th>\n",
              "      <th>publisher</th>\n",
              "      <th>title</th>\n",
              "      <th>oid</th>\n",
              "      <th>bestsellers_date.numberLong</th>\n",
              "      <th>published_date.numberLong</th>\n",
              "      <th>rank.numberInt</th>\n",
              "      <th>rank_last_week.numberInt</th>\n",
              "      <th>weeks_on_list.numberInt</th>\n",
              "      <th>price.numberDouble</th>\n",
              "    </tr>\n",
              "  </thead>\n",
              "  <tbody>\n",
              "    <tr>\n",
              "      <th>0</th>\n",
              "      <td>http://www.amazon.com/The-Host-Novel-Stephenie...</td>\n",
              "      <td>Stephenie Meyer</td>\n",
              "      <td>Aliens have taken control of the minds and bod...</td>\n",
              "      <td>Little, Brown</td>\n",
              "      <td>THE HOST</td>\n",
              "      <td>5b4aa4ead3089013507db18c</td>\n",
              "      <td>1211587200000</td>\n",
              "      <td>1212883200000</td>\n",
              "      <td>2</td>\n",
              "      <td>1</td>\n",
              "      <td>3</td>\n",
              "      <td>25.99</td>\n",
              "    </tr>\n",
              "    <tr>\n",
              "      <th>1</th>\n",
              "      <td>http://www.amazon.com/Love-Youre-With-Emily-Gi...</td>\n",
              "      <td>Emily Giffin</td>\n",
              "      <td>A woman's happy marriage is shaken when she en...</td>\n",
              "      <td>St. Martin's</td>\n",
              "      <td>LOVE THE ONE YOU'RE WITH</td>\n",
              "      <td>5b4aa4ead3089013507db18d</td>\n",
              "      <td>1211587200000</td>\n",
              "      <td>1212883200000</td>\n",
              "      <td>3</td>\n",
              "      <td>2</td>\n",
              "      <td>2</td>\n",
              "      <td>24.95</td>\n",
              "    </tr>\n",
              "    <tr>\n",
              "      <th>2</th>\n",
              "      <td>http://www.amazon.com/The-Front-Garano-Patrici...</td>\n",
              "      <td>Patricia Cornwell</td>\n",
              "      <td>A Massachusetts state investigator and his tea...</td>\n",
              "      <td>Putnam</td>\n",
              "      <td>THE FRONT</td>\n",
              "      <td>5b4aa4ead3089013507db18e</td>\n",
              "      <td>1211587200000</td>\n",
              "      <td>1212883200000</td>\n",
              "      <td>4</td>\n",
              "      <td>0</td>\n",
              "      <td>1</td>\n",
              "      <td>22.95</td>\n",
              "    </tr>\n",
              "    <tr>\n",
              "      <th>3</th>\n",
              "      <td>http://www.amazon.com/Snuff-Chuck-Palahniuk/dp...</td>\n",
              "      <td>Chuck Palahniuk</td>\n",
              "      <td>An aging porn queens aims to cap her career by...</td>\n",
              "      <td>Doubleday</td>\n",
              "      <td>SNUFF</td>\n",
              "      <td>5b4aa4ead3089013507db18f</td>\n",
              "      <td>1211587200000</td>\n",
              "      <td>1212883200000</td>\n",
              "      <td>5</td>\n",
              "      <td>0</td>\n",
              "      <td>1</td>\n",
              "      <td>24.95</td>\n",
              "    </tr>\n",
              "    <tr>\n",
              "      <th>4</th>\n",
              "      <td>http://www.amazon.com/Sundays-at-Tiffanys-Jame...</td>\n",
              "      <td>James Patterson and Gabrielle Charbonnet</td>\n",
              "      <td>A woman finds an unexpected love</td>\n",
              "      <td>Little, Brown</td>\n",
              "      <td>SUNDAYS AT TIFFANY’S</td>\n",
              "      <td>5b4aa4ead3089013507db190</td>\n",
              "      <td>1211587200000</td>\n",
              "      <td>1212883200000</td>\n",
              "      <td>6</td>\n",
              "      <td>3</td>\n",
              "      <td>4</td>\n",
              "      <td>24.99</td>\n",
              "    </tr>\n",
              "    <tr>\n",
              "      <th>...</th>\n",
              "      <td>...</td>\n",
              "      <td>...</td>\n",
              "      <td>...</td>\n",
              "      <td>...</td>\n",
              "      <td>...</td>\n",
              "      <td>...</td>\n",
              "      <td>...</td>\n",
              "      <td>...</td>\n",
              "      <td>...</td>\n",
              "      <td>...</td>\n",
              "      <td>...</td>\n",
              "      <td>...</td>\n",
              "    </tr>\n",
              "    <tr>\n",
              "      <th>3028</th>\n",
              "      <td>http://www.amazon.com/Six-Years-Harlan-Coben/d...</td>\n",
              "      <td>Harlan Coben</td>\n",
              "      <td>Jake Fisher discovers that neither the woman h...</td>\n",
              "      <td>Dutton</td>\n",
              "      <td>SIX YEARS</td>\n",
              "      <td>5b4aa4ead3089013507dc593</td>\n",
              "      <td>1366416000000</td>\n",
              "      <td>1367712000000</td>\n",
              "      <td>9</td>\n",
              "      <td>8</td>\n",
              "      <td>5</td>\n",
              "      <td>27.95</td>\n",
              "    </tr>\n",
              "    <tr>\n",
              "      <th>3029</th>\n",
              "      <td>http://www.amazon.com/The-Interestings-Novel-M...</td>\n",
              "      <td>Meg Wolitzer</td>\n",
              "      <td>Six friends meet in the 1970s at a summer arts...</td>\n",
              "      <td>Riverhead</td>\n",
              "      <td>THE INTERESTINGS</td>\n",
              "      <td>5b4aa4ead3089013507dc595</td>\n",
              "      <td>1366416000000</td>\n",
              "      <td>1367712000000</td>\n",
              "      <td>11</td>\n",
              "      <td>11</td>\n",
              "      <td>2</td>\n",
              "      <td>27.95</td>\n",
              "    </tr>\n",
              "    <tr>\n",
              "      <th>3030</th>\n",
              "      <td>http://www.amazon.com/Man-Without-Breath-Berni...</td>\n",
              "      <td>Philip Kerr</td>\n",
              "      <td>Bernie Gunther, the Berlin cop, is sent to Smo...</td>\n",
              "      <td>Marian Wood/Putnam</td>\n",
              "      <td>A MAN WITHOUT BREATH</td>\n",
              "      <td>5b4aa4ead3089013507dc597</td>\n",
              "      <td>1366416000000</td>\n",
              "      <td>1367712000000</td>\n",
              "      <td>13</td>\n",
              "      <td>0</td>\n",
              "      <td>1</td>\n",
              "      <td>26.95</td>\n",
              "    </tr>\n",
              "    <tr>\n",
              "      <th>3031</th>\n",
              "      <td>http://www.amazon.com/The-Storyteller-Jodi-Pic...</td>\n",
              "      <td>Jodi Picoult</td>\n",
              "      <td>A New Hampshire baker finds herself in the mid...</td>\n",
              "      <td>Emily Bestler/Atria</td>\n",
              "      <td>THE STORYTELLER</td>\n",
              "      <td>5b4aa4ead3089013507dc598</td>\n",
              "      <td>1366416000000</td>\n",
              "      <td>1367712000000</td>\n",
              "      <td>14</td>\n",
              "      <td>10</td>\n",
              "      <td>8</td>\n",
              "      <td>28.99</td>\n",
              "    </tr>\n",
              "    <tr>\n",
              "      <th>3032</th>\n",
              "      <td>http://www.amazon.com/Z-A-Novel-Zelda-Fitzgera...</td>\n",
              "      <td>Therese Anne Fowler</td>\n",
              "      <td>A novel based on the lives of Zelda and F. Sco...</td>\n",
              "      <td>St. Martin's</td>\n",
              "      <td>Z</td>\n",
              "      <td>5b4aa4ead3089013507dc59a</td>\n",
              "      <td>1366416000000</td>\n",
              "      <td>1367712000000</td>\n",
              "      <td>16</td>\n",
              "      <td>0</td>\n",
              "      <td>3</td>\n",
              "      <td>25.99</td>\n",
              "    </tr>\n",
              "  </tbody>\n",
              "</table>\n",
              "<p>3033 rows × 12 columns</p>\n",
              "</div>"
            ],
            "text/plain": [
              "                                     amazon_product_url  ... price.numberDouble\n",
              "0     http://www.amazon.com/The-Host-Novel-Stephenie...  ...              25.99\n",
              "1     http://www.amazon.com/Love-Youre-With-Emily-Gi...  ...              24.95\n",
              "2     http://www.amazon.com/The-Front-Garano-Patrici...  ...              22.95\n",
              "3     http://www.amazon.com/Snuff-Chuck-Palahniuk/dp...  ...              24.95\n",
              "4     http://www.amazon.com/Sundays-at-Tiffanys-Jame...  ...              24.99\n",
              "...                                                 ...  ...                ...\n",
              "3028  http://www.amazon.com/Six-Years-Harlan-Coben/d...  ...              27.95\n",
              "3029  http://www.amazon.com/The-Interestings-Novel-M...  ...              27.95\n",
              "3030  http://www.amazon.com/Man-Without-Breath-Berni...  ...              26.95\n",
              "3031  http://www.amazon.com/The-Storyteller-Jodi-Pic...  ...              28.99\n",
              "3032  http://www.amazon.com/Z-A-Novel-Zelda-Fitzgera...  ...              25.99\n",
              "\n",
              "[3033 rows x 12 columns]"
            ]
          },
          "metadata": {
            "tags": []
          },
          "execution_count": 19
        }
      ]
    },
    {
      "cell_type": "markdown",
      "metadata": {
        "id": "XgnKVdODx1jW"
      },
      "source": [
        "Ahora, usando todas las herramientas que hemos aprendido en esta sesión (indexación de filas y columnas, `shape`, `dtypes`, `head`, `tail`, `columns`, `info`, etc) explora tu dataset y debate con el experto y tus compañeros las siguientes preguntas:\n",
        "\n",
        "1. ¿Qué podemos saber de este dataset con tan sólo leer el nombre del archivo y los nombres de las columnas?\n",
        "2. ¿Cuál es el tamaño (forma) de nuestro DataFrame? ¿Podríamos considerarlo un dataset grande o pequeño?\n",
        "3. ¿Crees que los nombres de las columnas son suficientemente descriptivos? ¿Podrían ser más claros o limpios?\n",
        "4. ¿Qué tipos de datos tenemos?\n",
        "5. ¿Qué significa el formato en el que tenemos las fechas?\n",
        "6. ¿Qué tipo de preguntas podríamos responder usando los datos numéricos de este dataset?\n",
        "7. ¿Qué tipo de preguntas podríamos responder usando los datos no-numéricos? "
      ]
    },
    {
      "cell_type": "code",
      "metadata": {
        "id": "jtxrrv-mx1jW",
        "colab": {
          "base_uri": "https://localhost:8080/"
        },
        "outputId": "ce148c1c-6472-4b07-bb1f-a39a8da03430"
      },
      "source": [
        "df.head()\r\n",
        "df.shape\r\n",
        "df.dtypes"
      ],
      "execution_count": 18,
      "outputs": [
        {
          "output_type": "execute_result",
          "data": {
            "text/plain": [
              "amazon_product_url              object\n",
              "author                          object\n",
              "description                     object\n",
              "publisher                       object\n",
              "title                           object\n",
              "oid                             object\n",
              "bestsellers_date.numberLong      int64\n",
              "published_date.numberLong        int64\n",
              "rank.numberInt                   int64\n",
              "rank_last_week.numberInt         int64\n",
              "weeks_on_list.numberInt          int64\n",
              "price.numberDouble             float64\n",
              "dtype: object"
            ]
          },
          "metadata": {
            "tags": []
          },
          "execution_count": 18
        }
      ]
    }
  ]
}