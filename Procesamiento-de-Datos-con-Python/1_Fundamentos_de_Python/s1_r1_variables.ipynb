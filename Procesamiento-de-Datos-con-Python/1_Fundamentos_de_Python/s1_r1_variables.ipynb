{
  "nbformat": 4,
  "nbformat_minor": 0,
  "metadata": {
    "kernelspec": {
      "display_name": "Python 3",
      "language": "python",
      "name": "python3"
    },
    "language_info": {
      "codemirror_mode": {
        "name": "ipython",
        "version": 3
      },
      "file_extension": ".py",
      "mimetype": "text/x-python",
      "name": "python",
      "nbconvert_exporter": "python",
      "pygments_lexer": "ipython3",
      "version": "3.8.3"
    },
    "colab": {
      "name": "s1_r1_variables.ipynb",
      "provenance": [],
      "collapsed_sections": [],
      "include_colab_link": true
    }
  },
  "cells": [
    {
      "cell_type": "markdown",
      "metadata": {
        "id": "view-in-github",
        "colab_type": "text"
      },
      "source": [
        "<a href=\"https://colab.research.google.com/github/pepetellez/BEDU_Data_Analysis/blob/main/Procesamiento-de-Datos-con-Python/1_Fundamentos_de%20_Python/s1_r1_variables.ipynb\" target=\"_parent\"><img src=\"https://colab.research.google.com/assets/colab-badge.svg\" alt=\"Open In Colab\"/></a>"
      ]
    },
    {
      "cell_type": "markdown",
      "metadata": {
        "id": "v-_2dFs6gqyc"
      },
      "source": [
        "## Reto 1: Variables\n",
        "\n",
        "### 1. Objetivos:\n",
        "    - Practicar convención de nombramiento y asignación de variables\n",
        " \n",
        "---\n",
        "    \n",
        "### 2. Desarrollo:"
      ]
    },
    {
      "cell_type": "markdown",
      "metadata": {
        "id": "1-TGp57ngqyh"
      },
      "source": [
        "Indica cuáles nombres de variables son válidos y cuáles con inválidos. Puedes hacerlo colocando un comentario al lado de cada asignación (`# esto es un comentario`). Los comentarios son texto que Python ignora a la hora de correr una celda. Nos sirven para hacer anotaciones."
      ]
    },
    {
      "cell_type": "code",
      "metadata": {
        "id": "Xa9GnByLgqyi"
      },
      "source": [
        "# Todas son ejecutables, simplemente cambia la convención. Se recomienda utilizar Snake Case (guión bajo)\n",
        "\n",
        "var_1 = 5 #Snake\n",
        "\n",
        "variable_nueva_2 = 10 #Snake\n",
        "\n",
        "Variable_nueva_3 = 11 #Camel & Snake\n",
        "\n",
        "var_3_1 = 14 #Snake\n",
        "\n",
        "varNueva4 = 44 #Camel\n",
        "\n",
        "var_nuevaNumero = 98 #Snake & Camel\n",
        "\n",
        "var_num = 22 #Snake\n",
        "\n",
        "VarNum = 11 #Camel\n",
        "\n",
        "soyUnaVariable = 14 #Camel"
      ],
      "execution_count": null,
      "outputs": []
    },
    {
      "cell_type": "markdown",
      "metadata": {
        "id": "aEJpDFYygqyi"
      },
      "source": [
        "Ahora practica realizar algunas asignaciones en la celda de abajo. ¡Puedes asignarle a tus variables números enteros y también decimales!"
      ]
    },
    {
      "cell_type": "code",
      "metadata": {
        "id": "jLOvjEv7gqyi"
      },
      "source": [
        "# Asigna el número 12345 a una variable llamada variable_locochona\n",
        "\n",
        "variable_locochona = 12345\n",
        "\n",
        "# Asigna el número 14.567 a una variable llamada var_decimal\n",
        "\n",
        "var_decimal = 14.567\n",
        "\n",
        "# Asigna cualquier número a una varible que tenga 5 palabras en su nombre (recuerda las convenciones)\n",
        "\n",
        "uno_dos_tres_cuatro_cinco = 5\n",
        "\n",
        "# Asigna cualquier número a una variable que incluya palabras y números en su nombre\n",
        "\n",
        "siete_7 = 7\n",
        "\n",
        "# Asigna variables a discreción\n",
        "\n",
        "uno_punto_dos = 1.2\n",
        "pi_decimal = 3.14159\n"
      ],
      "execution_count": null,
      "outputs": []
    },
    {
      "cell_type": "code",
      "metadata": {
        "id": "PFRANcwxgqyj"
      },
      "source": [
        ""
      ],
      "execution_count": null,
      "outputs": []
    }
  ]
}
