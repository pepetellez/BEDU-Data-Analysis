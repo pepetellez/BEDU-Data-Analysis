{
  "nbformat": 4,
  "nbformat_minor": 0,
  "metadata": {
    "kernelspec": {
      "display_name": "Python (data_science)",
      "language": "python",
      "name": "data_science"
    },
    "language_info": {
      "codemirror_mode": {
        "name": "ipython",
        "version": 3
      },
      "file_extension": ".py",
      "mimetype": "text/x-python",
      "name": "python",
      "nbconvert_exporter": "python",
      "pygments_lexer": "ipython3",
      "version": "3.8.1"
    },
    "colab": {
      "name": "s6_r2_for_loop.ipynb",
      "provenance": [],
      "include_colab_link": true
    }
  },
  "cells": [
    {
      "cell_type": "markdown",
      "metadata": {
        "id": "view-in-github",
        "colab_type": "text"
      },
      "source": [
        "<a href=\"https://colab.research.google.com/github/pepetellez/BEDU-Data-Analysis/blob/main/Procesamiento-de-Datos-con-Python/6_APIs_automatizaci%C3%B3n_y_concatenacion_de_DataFrames/s6_r2_for_loop.ipynb\" target=\"_parent\"><img src=\"https://colab.research.google.com/assets/colab-badge.svg\" alt=\"Open In Colab\"/></a>"
      ]
    },
    {
      "cell_type": "markdown",
      "metadata": {
        "id": "pwrphkUnz7ff"
      },
      "source": [
        "## Reto 2: Automatizando con `for loops`\n",
        "\n",
        "### 1. Objetivos:\n",
        "    - Automatizar un proceso sencillo usando `for loops`\n",
        " \n",
        "---\n",
        "    \n",
        "### 2. Desarrollo:"
      ]
    },
    {
      "cell_type": "markdown",
      "metadata": {
        "id": "JaY-WnzGz7fk"
      },
      "source": [
        "### a) Potencias de 2\n",
        "\n",
        "Las potencias de 2 son sumamente importantes en el mundo computacional. Dado que las computadoras trabajan con lenguaje binario, gran parte del funcionamiento interno de las computadoras funciona con potencias de 2. He aquí una pequeña muestra de las primeras potencias de 2:\n",
        "\n",
        "- 2<sup>0</sup> = 1\n",
        "- 2<sup>1</sup> = 2\n",
        "- 2<sup>2</sup> = 4\n",
        "- 2<sup>3</sup> = 8\n",
        "- 2<sup>4</sup> = 16\n",
        "- 2<sup>5</sup> = 32\n",
        "- 2<sup>6</sup> = 64\n",
        "- 2<sup>7</sup> = 128\n",
        "- 2<sup>8</sup> = 256"
      ]
    },
    {
      "cell_type": "markdown",
      "metadata": {
        "id": "gWE7Npj4z7fk"
      },
      "source": [
        "Tu reto es completar la función `potencia_de_dos`. Esta función recibe el exponente (el número pequeño al lado del 2) y regresa el resultado de 2 elevado a esa potencia. El detalle es que no puedes usar ningún operador o función que compute exponentes (como `**` o `np.power`), sino que tienes que realizar el cálculo utilizando 1 `bloque if` y 1 `for loop`. Completa el código debajo.\n",
        "\n",
        "> **Nota**: Tu función sólo debe computar exponentes positivos"
      ]
    },
    {
      "cell_type": "code",
      "metadata": {
        "id": "eR30L37jz7fl"
      },
      "source": [
        "def potencia_de_dos(exponente):\n",
        "    \n",
        "    resultado = 2\n",
        "    \n",
        "    ## Tu código va aquí\n",
        "    if exponente == 0:\n",
        "      resultado = 1\n",
        "    else:\n",
        "      for i in range(exponente-1):\n",
        "        resultado = resultado * 2\n",
        "        \n",
        "    return resultado"
      ],
      "execution_count": 5,
      "outputs": []
    },
    {
      "cell_type": "markdown",
      "metadata": {
        "id": "g8plgYo5z7fl"
      },
      "source": [
        "Pídele a tu experta la función de verificación `revisar_potencia_de_dos` (encontrada en el archivo `helpers.py` de la carpeta donde se encuentra este Reto), pégala debajo y corre la celda para verificar tu resultado:"
      ]
    },
    {
      "cell_type": "code",
      "metadata": {
        "id": "fnHMFXJVz7fl",
        "colab": {
          "base_uri": "https://localhost:8080/"
        },
        "outputId": "dcc213b2-cddc-45d2-bd12-6028ba029e3a"
      },
      "source": [
        "# Pega aquí la función de verificación\n",
        "def revisar_potencia_de_dos(potencia_de_dos):\n",
        "    \n",
        "    import numpy as np\n",
        "    \n",
        "    if potencia_de_dos(0) != np.power(2, 0):\n",
        "        print(f'Error!')\n",
        "        print(f'Computando 2^0 ... Resultado esperado: {np.power(2, 0)} - Resultado obtenido {potencia_de_dos(0)}')\n",
        "        return\n",
        "    \n",
        "    if potencia_de_dos(2) != np.power(2, 2):\n",
        "        print(f'Error!')\n",
        "        print(f'Computando 2^2 ... Resultado esperado: {np.power(2, 2)} - Resultado obtenido {potencia_de_dos(2)}')\n",
        "        return\n",
        "    \n",
        "    if potencia_de_dos(8) != np.power(2, 8):\n",
        "        print(f'Error!')\n",
        "        print(f'Computando 2^8 ... Resultado esperado: {np.power(2, 8)} - Resultado obtenido {potencia_de_dos(8)}')\n",
        "        return\n",
        "    \n",
        "    if potencia_de_dos(16) != np.power(2, 16):\n",
        "        print(f'Error!')\n",
        "        print(f'Computando 2^16 ... Resultado esperado: {np.power(2, 16)} - Resultado obtenido {potencia_de_dos(16)}')\n",
        "        return\n",
        "    \n",
        "    if potencia_de_dos(56) != np.power(2, 56):\n",
        "        print(f'Error!')\n",
        "        print(f'Computando 2^256 ... Resultado esperado: {np.power(2, 256)} - Resultado obtenido {potencia_de_dos(256)}')\n",
        "        return\n",
        "        \n",
        "    print(f'La funcion es correcta!')\n",
        "    \n",
        "revisar_potencia_de_dos(potencia_de_dos)"
      ],
      "execution_count": 7,
      "outputs": [
        {
          "output_type": "stream",
          "text": [
            "La funcion es correcta!\n"
          ],
          "name": "stdout"
        }
      ]
    },
    {
      "cell_type": "markdown",
      "metadata": {
        "id": "fMrKCFyFz7fm"
      },
      "source": [
        "<details><summary>Solución</summary>\n",
        "\n",
        "```python\n",
        "def potencia_de_dos(exponente):\n",
        "    \n",
        "    resultado = 2\n",
        "    \n",
        "    if exponente == 0:\n",
        "        return 1\n",
        "    \n",
        "    for i in range(0, exponente - 1):\n",
        "        resultado = resultado * 2\n",
        "        \n",
        "    return resultado\n",
        "```\n",
        "    \n",
        "</details>"
      ]
    },
    {
      "cell_type": "code",
      "metadata": {
        "id": "90F21PSWz7fm"
      },
      "source": [
        ""
      ],
      "execution_count": null,
      "outputs": []
    }
  ]
}