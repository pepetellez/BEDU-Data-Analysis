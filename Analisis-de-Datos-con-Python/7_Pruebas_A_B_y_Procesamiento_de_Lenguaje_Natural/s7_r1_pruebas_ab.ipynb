{
  "nbformat": 4,
  "nbformat_minor": 0,
  "metadata": {
    "kernelspec": {
      "display_name": "Python (data_science)",
      "language": "python",
      "name": "data_science"
    },
    "language_info": {
      "codemirror_mode": {
        "name": "ipython",
        "version": 3
      },
      "file_extension": ".py",
      "mimetype": "text/x-python",
      "name": "python",
      "nbconvert_exporter": "python",
      "pygments_lexer": "ipython3",
      "version": "3.7.6"
    },
    "colab": {
      "name": "s7_r1_pruebas_ab.ipynb",
      "provenance": [],
      "include_colab_link": true
    }
  },
  "cells": [
    {
      "cell_type": "markdown",
      "metadata": {
        "id": "view-in-github",
        "colab_type": "text"
      },
      "source": [
        "<a href=\"https://colab.research.google.com/github/pepetellez/BEDU-Data-Analysis/blob/main/Analisis-de-Datos-con-Python/7_Pruebas_A_B_y_Procesamiento_de_Lenguaje_Natural/s7_r1_pruebas_ab.ipynb\" target=\"_parent\"><img src=\"https://colab.research.google.com/assets/colab-badge.svg\" alt=\"Open In Colab\"/></a>"
      ]
    },
    {
      "cell_type": "markdown",
      "metadata": {
        "id": "PGPlAgn4_fY0"
      },
      "source": [
        "## Reto 1: Pruebas A/B\n",
        "\n",
        "### 1. Objetivos:\n",
        "    - Practicar evaluar los resultados de una Prueba A/B\n",
        " \n",
        "---\n",
        "    \n",
        "### 2. Desarrollo:"
      ]
    },
    {
      "cell_type": "markdown",
      "metadata": {
        "id": "n-cnrPzF_fY6"
      },
      "source": [
        "### a) Evaluando una prueba A/B de flujo de ventas\n",
        "\n",
        "El archivo 'ab_test-sales_pipeline-2' tiene datos muy similares a los que vimos en el último ejemplo. Estamos evaluando dos flujos de ventas distintos: A y B. Cada vez que alguien compró el producto gracias a uno de los dos flujos, se registró como un `1` en la columna `conversion` y un `0` en la columna `no conversion`.\n",
        "\n",
        "Evalúa la prueba A/B para saber si los resultados obtenidos son estadísticamente significativos. El Reto consiste en los siguientes pasos:\n",
        "\n",
        "1. Primero cuantifica cuál de los flujos de ventas fue más efectivo y en qué proporción.\n",
        "2. Después aplica el test de permutación:\n",
        "    1. Combina los resultados de ambos grupos en un mismo conjunto de datos\n",
        "    2. Revuelve los datos\n",
        "    3. Usando muestreo aleatorio sin reposición, construye un nuevo grupo A del mismo tamaño que el original.\n",
        "    4. El resto de los datos conforman nuestro nuevo grupo B.\n",
        "    5. Cuantifica la métrica o estadística que calculaste con los grupos originales y guarda el resultado.\n",
        "    6. Repite los pasos 1-5 `R` veces para obtener una distribución de la estadística de interés.\n",
        "3. Grafica tus resultados en un histograma y grafica una línea vertical que marque el resultado del experimento.\n",
        "4. Cuantifica el Valor P y evalúa la significación estadística con un Alfa de 0.05 (5%).\n",
        "5. Comenta tus hallazgos con tus compañeros y la experta."
      ]
    },
    {
      "cell_type": "code",
      "metadata": {
        "colab": {
          "base_uri": "https://localhost:8080/"
        },
        "id": "OEdGzcY2DfMe",
        "outputId": "a6ae5ba2-40e5-4da4-b1ef-9fd49e31cab6"
      },
      "source": [
        "from google.colab import drive\n",
        "drive.mount('/content/drive')"
      ],
      "execution_count": null,
      "outputs": [
        {
          "output_type": "stream",
          "text": [
            "Mounted at /content/drive\n"
          ],
          "name": "stdout"
        }
      ]
    },
    {
      "cell_type": "code",
      "metadata": {
        "id": "abkXMUAB_fY7"
      },
      "source": [
        "import pandas as pd\n",
        "import seaborn as sns\n",
        "import matplotlib.pyplot as plt"
      ],
      "execution_count": null,
      "outputs": []
    },
    {
      "cell_type": "code",
      "metadata": {
        "colab": {
          "base_uri": "https://localhost:8080/",
          "height": 194
        },
        "id": "G0lcG5WdD3iA",
        "outputId": "57cb3947-5e32-42f5-c6d6-6c5951a675fc"
      },
      "source": [
        "df = pd.read_csv(\"/content/drive/MyDrive/Datasets/ab_test-sales_pipeline-2.csv\")\n",
        "df.head()"
      ],
      "execution_count": null,
      "outputs": [
        {
          "output_type": "execute_result",
          "data": {
            "text/html": [
              "<div>\n",
              "<style scoped>\n",
              "    .dataframe tbody tr th:only-of-type {\n",
              "        vertical-align: middle;\n",
              "    }\n",
              "\n",
              "    .dataframe tbody tr th {\n",
              "        vertical-align: top;\n",
              "    }\n",
              "\n",
              "    .dataframe thead th {\n",
              "        text-align: right;\n",
              "    }\n",
              "</style>\n",
              "<table border=\"1\" class=\"dataframe\">\n",
              "  <thead>\n",
              "    <tr style=\"text-align: right;\">\n",
              "      <th></th>\n",
              "      <th>test</th>\n",
              "      <th>conversion</th>\n",
              "      <th>no conversion</th>\n",
              "    </tr>\n",
              "  </thead>\n",
              "  <tbody>\n",
              "    <tr>\n",
              "      <th>0</th>\n",
              "      <td>A</td>\n",
              "      <td>0</td>\n",
              "      <td>1</td>\n",
              "    </tr>\n",
              "    <tr>\n",
              "      <th>1</th>\n",
              "      <td>B</td>\n",
              "      <td>0</td>\n",
              "      <td>1</td>\n",
              "    </tr>\n",
              "    <tr>\n",
              "      <th>2</th>\n",
              "      <td>A</td>\n",
              "      <td>0</td>\n",
              "      <td>1</td>\n",
              "    </tr>\n",
              "    <tr>\n",
              "      <th>3</th>\n",
              "      <td>A</td>\n",
              "      <td>0</td>\n",
              "      <td>1</td>\n",
              "    </tr>\n",
              "    <tr>\n",
              "      <th>4</th>\n",
              "      <td>B</td>\n",
              "      <td>0</td>\n",
              "      <td>1</td>\n",
              "    </tr>\n",
              "  </tbody>\n",
              "</table>\n",
              "</div>"
            ],
            "text/plain": [
              "  test  conversion  no conversion\n",
              "0    A           0              1\n",
              "1    B           0              1\n",
              "2    A           0              1\n",
              "3    A           0              1\n",
              "4    B           0              1"
            ]
          },
          "metadata": {
            "tags": []
          },
          "execution_count": 7
        }
      ]
    },
    {
      "cell_type": "code",
      "metadata": {
        "id": "0HHguOhjEaVh"
      },
      "source": [
        "total_count = df.groupby(\"test\")[[\"conversion\",\"no conversion\"]].sum()"
      ],
      "execution_count": null,
      "outputs": []
    },
    {
      "cell_type": "code",
      "metadata": {
        "colab": {
          "base_uri": "https://localhost:8080/",
          "height": 135
        },
        "id": "60rnheddEfqO",
        "outputId": "692f58ff-c021-4cfb-97b9-b785fb532561"
      },
      "source": [
        "total_count"
      ],
      "execution_count": null,
      "outputs": [
        {
          "output_type": "execute_result",
          "data": {
            "text/html": [
              "<div>\n",
              "<style scoped>\n",
              "    .dataframe tbody tr th:only-of-type {\n",
              "        vertical-align: middle;\n",
              "    }\n",
              "\n",
              "    .dataframe tbody tr th {\n",
              "        vertical-align: top;\n",
              "    }\n",
              "\n",
              "    .dataframe thead th {\n",
              "        text-align: right;\n",
              "    }\n",
              "</style>\n",
              "<table border=\"1\" class=\"dataframe\">\n",
              "  <thead>\n",
              "    <tr style=\"text-align: right;\">\n",
              "      <th></th>\n",
              "      <th>conversion</th>\n",
              "      <th>no conversion</th>\n",
              "    </tr>\n",
              "    <tr>\n",
              "      <th>test</th>\n",
              "      <th></th>\n",
              "      <th></th>\n",
              "    </tr>\n",
              "  </thead>\n",
              "  <tbody>\n",
              "    <tr>\n",
              "      <th>A</th>\n",
              "      <td>4163</td>\n",
              "      <td>30576</td>\n",
              "    </tr>\n",
              "    <tr>\n",
              "      <th>B</th>\n",
              "      <td>4841</td>\n",
              "      <td>36747</td>\n",
              "    </tr>\n",
              "  </tbody>\n",
              "</table>\n",
              "</div>"
            ],
            "text/plain": [
              "      conversion  no conversion\n",
              "test                           \n",
              "A           4163          30576\n",
              "B           4841          36747"
            ]
          },
          "metadata": {
            "tags": []
          },
          "execution_count": 19
        }
      ]
    },
    {
      "cell_type": "code",
      "metadata": {
        "id": "0C44_t5cF5fw"
      },
      "source": [
        "total_count[\"succes_rate\"] = total_count[\"conversion\"] / (total_count[\"conversion\"] + total_count[\"no conversion\"])"
      ],
      "execution_count": null,
      "outputs": []
    },
    {
      "cell_type": "code",
      "metadata": {
        "colab": {
          "base_uri": "https://localhost:8080/",
          "height": 135
        },
        "id": "aZlLtSK-HLFG",
        "outputId": "1c636366-f99d-4cf0-eb1e-53276ae42955"
      },
      "source": [
        "total_count.head()"
      ],
      "execution_count": null,
      "outputs": [
        {
          "output_type": "execute_result",
          "data": {
            "text/html": [
              "<div>\n",
              "<style scoped>\n",
              "    .dataframe tbody tr th:only-of-type {\n",
              "        vertical-align: middle;\n",
              "    }\n",
              "\n",
              "    .dataframe tbody tr th {\n",
              "        vertical-align: top;\n",
              "    }\n",
              "\n",
              "    .dataframe thead th {\n",
              "        text-align: right;\n",
              "    }\n",
              "</style>\n",
              "<table border=\"1\" class=\"dataframe\">\n",
              "  <thead>\n",
              "    <tr style=\"text-align: right;\">\n",
              "      <th></th>\n",
              "      <th>conversion</th>\n",
              "      <th>no conversion</th>\n",
              "      <th>succes_rate</th>\n",
              "    </tr>\n",
              "    <tr>\n",
              "      <th>test</th>\n",
              "      <th></th>\n",
              "      <th></th>\n",
              "      <th></th>\n",
              "    </tr>\n",
              "  </thead>\n",
              "  <tbody>\n",
              "    <tr>\n",
              "      <th>A</th>\n",
              "      <td>4163</td>\n",
              "      <td>30576</td>\n",
              "      <td>0.119836</td>\n",
              "    </tr>\n",
              "    <tr>\n",
              "      <th>B</th>\n",
              "      <td>4841</td>\n",
              "      <td>36747</td>\n",
              "      <td>0.116404</td>\n",
              "    </tr>\n",
              "  </tbody>\n",
              "</table>\n",
              "</div>"
            ],
            "text/plain": [
              "      conversion  no conversion  succes_rate\n",
              "test                                        \n",
              "A           4163          30576     0.119836\n",
              "B           4841          36747     0.116404"
            ]
          },
          "metadata": {
            "tags": []
          },
          "execution_count": 25
        }
      ]
    },
    {
      "cell_type": "code",
      "metadata": {
        "id": "szUvOe_aL6KF"
      },
      "source": [
        "diferencia_en_proporcion = 1 - (total_count.loc['B']['succes_rate'] / total_count.loc['A']['succes_rate'])\n",
        "diferencia_en_porcentaje = diferencia_en_proporcion * 100"
      ],
      "execution_count": null,
      "outputs": []
    },
    {
      "cell_type": "code",
      "metadata": {
        "id": "9Ym3Xa0AHKbJ"
      },
      "source": [
        "all_measurements = df[[\"conversion\", \"no conversion\"]]"
      ],
      "execution_count": null,
      "outputs": []
    },
    {
      "cell_type": "code",
      "metadata": {
        "colab": {
          "base_uri": "https://localhost:8080/"
        },
        "id": "r8Gsu3-oH2PC",
        "outputId": "fed5abaa-ce8e-4b40-b16e-56b08b7577e2"
      },
      "source": [
        "value_counts = df[\"test\"].value_counts()\n",
        "value_counts"
      ],
      "execution_count": null,
      "outputs": [
        {
          "output_type": "execute_result",
          "data": {
            "text/plain": [
              "B    41588\n",
              "A    34739\n",
              "Name: test, dtype: int64"
            ]
          },
          "metadata": {
            "tags": []
          },
          "execution_count": 27
        }
      ]
    },
    {
      "cell_type": "code",
      "metadata": {
        "id": "EprezYFGICIJ"
      },
      "source": [
        "conv_a = []\n",
        "no_conv_a = []\n",
        "conv_b = []\n",
        "no_conv_b = []\n",
        "\n",
        "for _ in range(1000):\n",
        "  a = df.sample(value_counts.loc[\"A\"], replace=False)\n",
        "  conv_a.append(a[\"conversion\"].sum())\n",
        "  no_conv_a.append(a[\"no conversion\"].sum())\n",
        "\n",
        "  b = df.loc[~df.index.isin(a.index)]\n",
        "  conv_b.append(b[\"conversion\"].sum())\n",
        "  no_conv_b.append(b[\"no conversion\"].sum())\n",
        "  "
      ],
      "execution_count": null,
      "outputs": []
    },
    {
      "cell_type": "code",
      "metadata": {
        "colab": {
          "base_uri": "https://localhost:8080/",
          "height": 399
        },
        "id": "vJ1u_bc7JXBf",
        "outputId": "58ae3cb9-1850-41d8-f09d-f90df9ff204f"
      },
      "source": [
        "perm_results = pd.DataFrame({\n",
        "    \"conv_a\": conv_a,\n",
        "    \"no_conv_a\": no_conv_a,\n",
        "    \"conv_b\": conv_b,\n",
        "    \"no_conv_b\": no_conv_b\n",
        "})\n",
        "\n",
        "perm_results"
      ],
      "execution_count": null,
      "outputs": [
        {
          "output_type": "execute_result",
          "data": {
            "text/html": [
              "<div>\n",
              "<style scoped>\n",
              "    .dataframe tbody tr th:only-of-type {\n",
              "        vertical-align: middle;\n",
              "    }\n",
              "\n",
              "    .dataframe tbody tr th {\n",
              "        vertical-align: top;\n",
              "    }\n",
              "\n",
              "    .dataframe thead th {\n",
              "        text-align: right;\n",
              "    }\n",
              "</style>\n",
              "<table border=\"1\" class=\"dataframe\">\n",
              "  <thead>\n",
              "    <tr style=\"text-align: right;\">\n",
              "      <th></th>\n",
              "      <th>conv_a</th>\n",
              "      <th>no_conv_a</th>\n",
              "      <th>conv_b</th>\n",
              "      <th>no_conv_b</th>\n",
              "    </tr>\n",
              "  </thead>\n",
              "  <tbody>\n",
              "    <tr>\n",
              "      <th>0</th>\n",
              "      <td>4051</td>\n",
              "      <td>30688</td>\n",
              "      <td>4953</td>\n",
              "      <td>36635</td>\n",
              "    </tr>\n",
              "    <tr>\n",
              "      <th>1</th>\n",
              "      <td>4033</td>\n",
              "      <td>30706</td>\n",
              "      <td>4971</td>\n",
              "      <td>36617</td>\n",
              "    </tr>\n",
              "    <tr>\n",
              "      <th>2</th>\n",
              "      <td>4060</td>\n",
              "      <td>30679</td>\n",
              "      <td>4944</td>\n",
              "      <td>36644</td>\n",
              "    </tr>\n",
              "    <tr>\n",
              "      <th>3</th>\n",
              "      <td>4067</td>\n",
              "      <td>30672</td>\n",
              "      <td>4937</td>\n",
              "      <td>36651</td>\n",
              "    </tr>\n",
              "    <tr>\n",
              "      <th>4</th>\n",
              "      <td>4052</td>\n",
              "      <td>30687</td>\n",
              "      <td>4952</td>\n",
              "      <td>36636</td>\n",
              "    </tr>\n",
              "    <tr>\n",
              "      <th>...</th>\n",
              "      <td>...</td>\n",
              "      <td>...</td>\n",
              "      <td>...</td>\n",
              "      <td>...</td>\n",
              "    </tr>\n",
              "    <tr>\n",
              "      <th>995</th>\n",
              "      <td>4095</td>\n",
              "      <td>30644</td>\n",
              "      <td>4909</td>\n",
              "      <td>36679</td>\n",
              "    </tr>\n",
              "    <tr>\n",
              "      <th>996</th>\n",
              "      <td>4125</td>\n",
              "      <td>30614</td>\n",
              "      <td>4879</td>\n",
              "      <td>36709</td>\n",
              "    </tr>\n",
              "    <tr>\n",
              "      <th>997</th>\n",
              "      <td>4070</td>\n",
              "      <td>30669</td>\n",
              "      <td>4934</td>\n",
              "      <td>36654</td>\n",
              "    </tr>\n",
              "    <tr>\n",
              "      <th>998</th>\n",
              "      <td>4163</td>\n",
              "      <td>30576</td>\n",
              "      <td>4841</td>\n",
              "      <td>36747</td>\n",
              "    </tr>\n",
              "    <tr>\n",
              "      <th>999</th>\n",
              "      <td>4088</td>\n",
              "      <td>30651</td>\n",
              "      <td>4916</td>\n",
              "      <td>36672</td>\n",
              "    </tr>\n",
              "  </tbody>\n",
              "</table>\n",
              "<p>1000 rows × 4 columns</p>\n",
              "</div>"
            ],
            "text/plain": [
              "     conv_a  no_conv_a  conv_b  no_conv_b\n",
              "0      4051      30688    4953      36635\n",
              "1      4033      30706    4971      36617\n",
              "2      4060      30679    4944      36644\n",
              "3      4067      30672    4937      36651\n",
              "4      4052      30687    4952      36636\n",
              "..      ...        ...     ...        ...\n",
              "995    4095      30644    4909      36679\n",
              "996    4125      30614    4879      36709\n",
              "997    4070      30669    4934      36654\n",
              "998    4163      30576    4841      36747\n",
              "999    4088      30651    4916      36672\n",
              "\n",
              "[1000 rows x 4 columns]"
            ]
          },
          "metadata": {
            "tags": []
          },
          "execution_count": 32
        }
      ]
    },
    {
      "cell_type": "code",
      "metadata": {
        "colab": {
          "base_uri": "https://localhost:8080/",
          "height": 194
        },
        "id": "UZV38pzsJzOe",
        "outputId": "cec82f1b-d176-41a4-e414-d5a17051c58a"
      },
      "source": [
        "perm_results[\"a_conv_rate\"] = perm_results[\"conv_a\"] / (perm_results[\"conv_a\"] + perm_results[\"no_conv_a\"])\n",
        "perm_results[\"b_conv_rate\"] = perm_results[\"conv_b\"] / (perm_results[\"conv_b\"] + perm_results[\"no_conv_b\"])\n",
        "\n",
        "perm_results.head()"
      ],
      "execution_count": null,
      "outputs": [
        {
          "output_type": "execute_result",
          "data": {
            "text/html": [
              "<div>\n",
              "<style scoped>\n",
              "    .dataframe tbody tr th:only-of-type {\n",
              "        vertical-align: middle;\n",
              "    }\n",
              "\n",
              "    .dataframe tbody tr th {\n",
              "        vertical-align: top;\n",
              "    }\n",
              "\n",
              "    .dataframe thead th {\n",
              "        text-align: right;\n",
              "    }\n",
              "</style>\n",
              "<table border=\"1\" class=\"dataframe\">\n",
              "  <thead>\n",
              "    <tr style=\"text-align: right;\">\n",
              "      <th></th>\n",
              "      <th>conv_a</th>\n",
              "      <th>no_conv_a</th>\n",
              "      <th>conv_b</th>\n",
              "      <th>no_conv_b</th>\n",
              "      <th>a_conv_rate</th>\n",
              "      <th>b_conv_rate</th>\n",
              "    </tr>\n",
              "  </thead>\n",
              "  <tbody>\n",
              "    <tr>\n",
              "      <th>0</th>\n",
              "      <td>4051</td>\n",
              "      <td>30688</td>\n",
              "      <td>4953</td>\n",
              "      <td>36635</td>\n",
              "      <td>0.116612</td>\n",
              "      <td>0.119097</td>\n",
              "    </tr>\n",
              "    <tr>\n",
              "      <th>1</th>\n",
              "      <td>4033</td>\n",
              "      <td>30706</td>\n",
              "      <td>4971</td>\n",
              "      <td>36617</td>\n",
              "      <td>0.116094</td>\n",
              "      <td>0.119530</td>\n",
              "    </tr>\n",
              "    <tr>\n",
              "      <th>2</th>\n",
              "      <td>4060</td>\n",
              "      <td>30679</td>\n",
              "      <td>4944</td>\n",
              "      <td>36644</td>\n",
              "      <td>0.116872</td>\n",
              "      <td>0.118880</td>\n",
              "    </tr>\n",
              "    <tr>\n",
              "      <th>3</th>\n",
              "      <td>4067</td>\n",
              "      <td>30672</td>\n",
              "      <td>4937</td>\n",
              "      <td>36651</td>\n",
              "      <td>0.117073</td>\n",
              "      <td>0.118712</td>\n",
              "    </tr>\n",
              "    <tr>\n",
              "      <th>4</th>\n",
              "      <td>4052</td>\n",
              "      <td>30687</td>\n",
              "      <td>4952</td>\n",
              "      <td>36636</td>\n",
              "      <td>0.116641</td>\n",
              "      <td>0.119073</td>\n",
              "    </tr>\n",
              "  </tbody>\n",
              "</table>\n",
              "</div>"
            ],
            "text/plain": [
              "   conv_a  no_conv_a  conv_b  no_conv_b  a_conv_rate  b_conv_rate\n",
              "0    4051      30688    4953      36635     0.116612     0.119097\n",
              "1    4033      30706    4971      36617     0.116094     0.119530\n",
              "2    4060      30679    4944      36644     0.116872     0.118880\n",
              "3    4067      30672    4937      36651     0.117073     0.118712\n",
              "4    4052      30687    4952      36636     0.116641     0.119073"
            ]
          },
          "metadata": {
            "tags": []
          },
          "execution_count": 34
        }
      ]
    },
    {
      "cell_type": "code",
      "metadata": {
        "colab": {
          "base_uri": "https://localhost:8080/",
          "height": 194
        },
        "id": "bxLBDrI7Kzi3",
        "outputId": "f1a279e1-55e5-4301-8dbe-7f3ff08da506"
      },
      "source": [
        "perm_results[\"diff\"] = 1 - (perm_results[\"b_conv_rate\"] / perm_results[\"a_conv_rate\"])\n",
        "perm_results.head()"
      ],
      "execution_count": null,
      "outputs": [
        {
          "output_type": "execute_result",
          "data": {
            "text/html": [
              "<div>\n",
              "<style scoped>\n",
              "    .dataframe tbody tr th:only-of-type {\n",
              "        vertical-align: middle;\n",
              "    }\n",
              "\n",
              "    .dataframe tbody tr th {\n",
              "        vertical-align: top;\n",
              "    }\n",
              "\n",
              "    .dataframe thead th {\n",
              "        text-align: right;\n",
              "    }\n",
              "</style>\n",
              "<table border=\"1\" class=\"dataframe\">\n",
              "  <thead>\n",
              "    <tr style=\"text-align: right;\">\n",
              "      <th></th>\n",
              "      <th>conv_a</th>\n",
              "      <th>no_conv_a</th>\n",
              "      <th>conv_b</th>\n",
              "      <th>no_conv_b</th>\n",
              "      <th>a_conv_rate</th>\n",
              "      <th>b_conv_rate</th>\n",
              "      <th>diff</th>\n",
              "    </tr>\n",
              "  </thead>\n",
              "  <tbody>\n",
              "    <tr>\n",
              "      <th>0</th>\n",
              "      <td>4051</td>\n",
              "      <td>30688</td>\n",
              "      <td>4953</td>\n",
              "      <td>36635</td>\n",
              "      <td>0.116612</td>\n",
              "      <td>0.119097</td>\n",
              "      <td>-0.021305</td>\n",
              "    </tr>\n",
              "    <tr>\n",
              "      <th>1</th>\n",
              "      <td>4033</td>\n",
              "      <td>30706</td>\n",
              "      <td>4971</td>\n",
              "      <td>36617</td>\n",
              "      <td>0.116094</td>\n",
              "      <td>0.119530</td>\n",
              "      <td>-0.029591</td>\n",
              "    </tr>\n",
              "    <tr>\n",
              "      <th>2</th>\n",
              "      <td>4060</td>\n",
              "      <td>30679</td>\n",
              "      <td>4944</td>\n",
              "      <td>36644</td>\n",
              "      <td>0.116872</td>\n",
              "      <td>0.118880</td>\n",
              "      <td>-0.017189</td>\n",
              "    </tr>\n",
              "    <tr>\n",
              "      <th>3</th>\n",
              "      <td>4067</td>\n",
              "      <td>30672</td>\n",
              "      <td>4937</td>\n",
              "      <td>36651</td>\n",
              "      <td>0.117073</td>\n",
              "      <td>0.118712</td>\n",
              "      <td>-0.014001</td>\n",
              "    </tr>\n",
              "    <tr>\n",
              "      <th>4</th>\n",
              "      <td>4052</td>\n",
              "      <td>30687</td>\n",
              "      <td>4952</td>\n",
              "      <td>36636</td>\n",
              "      <td>0.116641</td>\n",
              "      <td>0.119073</td>\n",
              "      <td>-0.020847</td>\n",
              "    </tr>\n",
              "  </tbody>\n",
              "</table>\n",
              "</div>"
            ],
            "text/plain": [
              "   conv_a  no_conv_a  conv_b  no_conv_b  a_conv_rate  b_conv_rate      diff\n",
              "0    4051      30688    4953      36635     0.116612     0.119097 -0.021305\n",
              "1    4033      30706    4971      36617     0.116094     0.119530 -0.029591\n",
              "2    4060      30679    4944      36644     0.116872     0.118880 -0.017189\n",
              "3    4067      30672    4937      36651     0.117073     0.118712 -0.014001\n",
              "4    4052      30687    4952      36636     0.116641     0.119073 -0.020847"
            ]
          },
          "metadata": {
            "tags": []
          },
          "execution_count": 35
        }
      ]
    },
    {
      "cell_type": "code",
      "metadata": {
        "colab": {
          "base_uri": "https://localhost:8080/",
          "height": 387
        },
        "id": "Qc1MGeQmK_LA",
        "outputId": "ed5476b1-5f43-49b5-fb96-9d71d1106da8"
      },
      "source": [
        "sns.displot(perm_results[\"diff\"], kde=False)\n",
        "plt.axvline(diferencia_en_proporcion)"
      ],
      "execution_count": null,
      "outputs": [
        {
          "output_type": "execute_result",
          "data": {
            "text/plain": [
              "<matplotlib.lines.Line2D at 0x7f546d1afd10>"
            ]
          },
          "metadata": {
            "tags": []
          },
          "execution_count": 43
        },
        {
          "output_type": "display_data",
          "data": {
            "image/png": "[encoded data removed]",
            "text/plain": [
              "<Figure size 360x360 with 1 Axes>"
            ]
          },
          "metadata": {
            "tags": [],
            "needs_background": "light"
          }
        }
      ]
    },
    {
      "cell_type": "code",
      "metadata": {
        "colab": {
          "base_uri": "https://localhost:8080/"
        },
        "id": "XTRv8y3JLY4Y",
        "outputId": "1e7a1460-3f1b-42ea-8de8-9f2db0a0439f"
      },
      "source": [
        "print(\"P value: \",(perm_results[\"diff\"] >= diferencia_en_proporcion).sum() / perm_results.shape[0])"
      ],
      "execution_count": null,
      "outputs": [
        {
          "output_type": "stream",
          "text": [
            "P value:  0.081\n"
          ],
          "name": "stdout"
        }
      ]
    }
  ]
}