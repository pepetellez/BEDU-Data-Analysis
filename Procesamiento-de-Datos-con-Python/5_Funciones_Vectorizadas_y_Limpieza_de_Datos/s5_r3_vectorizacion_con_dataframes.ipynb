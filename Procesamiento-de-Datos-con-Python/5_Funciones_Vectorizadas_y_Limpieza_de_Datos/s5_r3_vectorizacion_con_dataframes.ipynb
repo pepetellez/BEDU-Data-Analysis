{
  "nbformat": 4,
  "nbformat_minor": 0,
  "metadata": {
    "kernelspec": {
      "display_name": "Python (data_science)",
      "language": "python",
      "name": "data_science"
    },
    "language_info": {
      "codemirror_mode": {
        "name": "ipython",
        "version": 3
      },
      "file_extension": ".py",
      "mimetype": "text/x-python",
      "name": "python",
      "nbconvert_exporter": "python",
      "pygments_lexer": "ipython3",
      "version": "3.8.1"
    },
    "colab": {
      "name": "s5_r3_vectorizacion_con_dataframes.ipynb",
      "provenance": [],
      "include_colab_link": true
    }
  },
  "cells": [
    {
      "cell_type": "markdown",
      "metadata": {
        "id": "view-in-github",
        "colab_type": "text"
      },
      "source": [
        "<a href=\"https://colab.research.google.com/github/pepetellez/BEDU-Data-Analysis/blob/main/Procesamiento-de-Datos-con-Python/5_Funciones_Vectorizadas_y_Limpieza_de_Datos/s5_r3_vectorizacion_con_dataframes.ipynb\" target=\"_parent\"><img src=\"https://colab.research.google.com/assets/colab-badge.svg\" alt=\"Open In Colab\"/></a>"
      ]
    },
    {
      "cell_type": "markdown",
      "metadata": {
        "id": "zmDeUlU9dQ2j"
      },
      "source": [
        "## Reto 3: Agregaciones con `DataFrames`\n",
        "\n",
        "### 1. Objetivos:\n",
        "    - Aplicar agregaciones a `DataFrames` completos para obtener un análisis estadístico\n",
        " \n",
        "---\n",
        "    \n",
        "### 2. Desarrollo:"
      ]
    },
    {
      "cell_type": "markdown",
      "metadata": {
        "id": "6BHozmqvdQ2o"
      },
      "source": [
        "#### a) Análisis estadístico con agregaciones\n",
        "\n",
        "Eres el Analista de Datos de EyePoker Inc. Te han pedido que realices ciertas agregaciones con un conjunto de datos para poder realizar un análisis estadístico básico de los datos que hay dentro.\n",
        "\n",
        "El conjunto de datos es el siguiente:"
      ]
    },
    {
      "cell_type": "code",
      "metadata": {
        "id": "--nIVoIOdQ2p"
      },
      "source": [
        "## Realiza aquí los imports que necesites\r\n",
        "import pandas as pd\r\n",
        "import numpy as np"
      ],
      "execution_count": 2,
      "outputs": []
    },
    {
      "cell_type": "code",
      "metadata": {
        "id": "wk1Iu4ThdQ2p"
      },
      "source": [
        "datos = {\n",
        "    'producto': [\"Pokemaster\", \"Cegatron\", \"Pikame Mucho\", \"Lazarillo de Tormes\", \"Stevie Wonder\", \"Needle\", \"El AyMeDuele\", \"El Desretinador\", \"Sacamel Ojocles\", \"Desojado\", \"Maribel Buenas Noches\", \"Cíclope\", \"El Cuatro Ojos\"],\n",
        "    'precio': [12000, 5500, 2350, 4800, 8900, 6640, 1280, 1040, 23100, 16700, 15000, 13400, 19600],\n",
        "    'cantidad_en_stock': [34, 54, 36, 78, 56, 12, 34, 4, 0, 18, 45, 23, 5],\n",
        "    'cantidad_vendidos': [120, 34, 59, 9, 15, 51, 103, 72, 39, 23, 10, 62, 59]\n",
        "}\n",
        "\n",
        "df = pd.DataFrame(datos)"
      ],
      "execution_count": 3,
      "outputs": []
    },
    {
      "cell_type": "code",
      "metadata": {
        "id": "oN7HdCVodQ2p",
        "colab": {
          "base_uri": "https://localhost:8080/",
          "height": 432
        },
        "outputId": "fef04d14-d08e-483c-cece-2c35d8d772d7"
      },
      "source": [
        "df"
      ],
      "execution_count": 4,
      "outputs": [
        {
          "output_type": "execute_result",
          "data": {
            "text/html": [
              "<div>\n",
              "<style scoped>\n",
              "    .dataframe tbody tr th:only-of-type {\n",
              "        vertical-align: middle;\n",
              "    }\n",
              "\n",
              "    .dataframe tbody tr th {\n",
              "        vertical-align: top;\n",
              "    }\n",
              "\n",
              "    .dataframe thead th {\n",
              "        text-align: right;\n",
              "    }\n",
              "</style>\n",
              "<table border=\"1\" class=\"dataframe\">\n",
              "  <thead>\n",
              "    <tr style=\"text-align: right;\">\n",
              "      <th></th>\n",
              "      <th>producto</th>\n",
              "      <th>precio</th>\n",
              "      <th>cantidad_en_stock</th>\n",
              "      <th>cantidad_vendidos</th>\n",
              "    </tr>\n",
              "  </thead>\n",
              "  <tbody>\n",
              "    <tr>\n",
              "      <th>0</th>\n",
              "      <td>Pokemaster</td>\n",
              "      <td>12000</td>\n",
              "      <td>34</td>\n",
              "      <td>120</td>\n",
              "    </tr>\n",
              "    <tr>\n",
              "      <th>1</th>\n",
              "      <td>Cegatron</td>\n",
              "      <td>5500</td>\n",
              "      <td>54</td>\n",
              "      <td>34</td>\n",
              "    </tr>\n",
              "    <tr>\n",
              "      <th>2</th>\n",
              "      <td>Pikame Mucho</td>\n",
              "      <td>2350</td>\n",
              "      <td>36</td>\n",
              "      <td>59</td>\n",
              "    </tr>\n",
              "    <tr>\n",
              "      <th>3</th>\n",
              "      <td>Lazarillo de Tormes</td>\n",
              "      <td>4800</td>\n",
              "      <td>78</td>\n",
              "      <td>9</td>\n",
              "    </tr>\n",
              "    <tr>\n",
              "      <th>4</th>\n",
              "      <td>Stevie Wonder</td>\n",
              "      <td>8900</td>\n",
              "      <td>56</td>\n",
              "      <td>15</td>\n",
              "    </tr>\n",
              "    <tr>\n",
              "      <th>5</th>\n",
              "      <td>Needle</td>\n",
              "      <td>6640</td>\n",
              "      <td>12</td>\n",
              "      <td>51</td>\n",
              "    </tr>\n",
              "    <tr>\n",
              "      <th>6</th>\n",
              "      <td>El AyMeDuele</td>\n",
              "      <td>1280</td>\n",
              "      <td>34</td>\n",
              "      <td>103</td>\n",
              "    </tr>\n",
              "    <tr>\n",
              "      <th>7</th>\n",
              "      <td>El Desretinador</td>\n",
              "      <td>1040</td>\n",
              "      <td>4</td>\n",
              "      <td>72</td>\n",
              "    </tr>\n",
              "    <tr>\n",
              "      <th>8</th>\n",
              "      <td>Sacamel Ojocles</td>\n",
              "      <td>23100</td>\n",
              "      <td>0</td>\n",
              "      <td>39</td>\n",
              "    </tr>\n",
              "    <tr>\n",
              "      <th>9</th>\n",
              "      <td>Desojado</td>\n",
              "      <td>16700</td>\n",
              "      <td>18</td>\n",
              "      <td>23</td>\n",
              "    </tr>\n",
              "    <tr>\n",
              "      <th>10</th>\n",
              "      <td>Maribel Buenas Noches</td>\n",
              "      <td>15000</td>\n",
              "      <td>45</td>\n",
              "      <td>10</td>\n",
              "    </tr>\n",
              "    <tr>\n",
              "      <th>11</th>\n",
              "      <td>Cíclope</td>\n",
              "      <td>13400</td>\n",
              "      <td>23</td>\n",
              "      <td>62</td>\n",
              "    </tr>\n",
              "    <tr>\n",
              "      <th>12</th>\n",
              "      <td>El Cuatro Ojos</td>\n",
              "      <td>19600</td>\n",
              "      <td>5</td>\n",
              "      <td>59</td>\n",
              "    </tr>\n",
              "  </tbody>\n",
              "</table>\n",
              "</div>"
            ],
            "text/plain": [
              "                 producto  precio  cantidad_en_stock  cantidad_vendidos\n",
              "0              Pokemaster   12000                 34                120\n",
              "1                Cegatron    5500                 54                 34\n",
              "2            Pikame Mucho    2350                 36                 59\n",
              "3     Lazarillo de Tormes    4800                 78                  9\n",
              "4           Stevie Wonder    8900                 56                 15\n",
              "5                  Needle    6640                 12                 51\n",
              "6            El AyMeDuele    1280                 34                103\n",
              "7         El Desretinador    1040                  4                 72\n",
              "8         Sacamel Ojocles   23100                  0                 39\n",
              "9                Desojado   16700                 18                 23\n",
              "10  Maribel Buenas Noches   15000                 45                 10\n",
              "11                Cíclope   13400                 23                 62\n",
              "12         El Cuatro Ojos   19600                  5                 59"
            ]
          },
          "metadata": {
            "tags": []
          },
          "execution_count": 4
        }
      ]
    },
    {
      "cell_type": "markdown",
      "metadata": {
        "id": "_5t8cbdmdQ2q"
      },
      "source": [
        "Tu tarea es muy simple. Usando métodos de agregación, asigna las variables de la siguiente celda con los resultados de agregar nuestro `DataFrame` **por columna** usando cada una de las medidas estadísticas. Algunas de los métodos ya los conoces. Los que no, [puedes encontrarlos en este link](https://www.interactivechaos.com/manual/tutorial-de-pandas/dataframes-metodos-de-agregacion-y-estadistica). Lo que queremos obtener es una `Serie` con los nombres de las columnas como índice y las agregaciones por columna como valores. Una de las columnas que tenemos en el `DataFrame` no se presta para realizar análisis numéricos, elimínala antes de realizar tu análisis y asigna el resultado a la variable `df_droppped`.\n",
        "\n",
        "**Sólo** utiliza funciones de agregación para tu análisis. En este caso no requieres hacer ninguna operación aritmética."
      ]
    },
    {
      "cell_type": "code",
      "metadata": {
        "id": "6s56yR2ZdQ2q"
      },
      "source": [
        "df_dropped = df.drop(columns=['producto'])\n",
        " \n",
        "# El valor mínimo de cada columna\n",
        "mins = df_dropped.min(axis=0)\n",
        " \n",
        "# El valor máximo de cada columna\n",
        "maxs = df_dropped.max(axis=0)\n",
        " \n",
        "# El promedio por columna\n",
        "means = df_dropped.mean(axis=0)\n",
        " \n",
        "# La mediana por columna (El valor que se encuentra a la mitad de la secuencia ordenada de valores)\n",
        "medians = df_dropped.median(axis=0)\n",
        " \n",
        "# La desviación estándar por columna\n",
        "stds = df_dropped.std(axis=0)"
      ],
      "execution_count": 5,
      "outputs": []
    },
    {
      "cell_type": "markdown",
      "metadata": {
        "id": "4HDKE4iadQ2q"
      },
      "source": [
        "Pídele a tu experta la función de verificación `resumen_estadistico` (encontrada en el archivo `helpers.py` de la carpeta donde se encuentra este Reto), pégala debajo y corre la celda para verificar tu resultado:"
      ]
    },
    {
      "cell_type": "code",
      "metadata": {
        "id": "9cKhEcU1dQ2r",
        "colab": {
          "base_uri": "https://localhost:8080/"
        },
        "outputId": "a654e857-0341-4820-d9cf-f5c798ca799c"
      },
      "source": [
        "# Pega aquí la función de verificación\n",
        "\n",
        "def resumen_estadistico(df, df_dropped, mins, maxs, means, medians, stds):\n",
        "    \n",
        "    import pandas as pd\n",
        "    \n",
        "    error = False\n",
        "    \n",
        "    df_dropped_2 = df.drop(columns=['producto'])\n",
        "    if not df_dropped_2.equals(df_dropped):\n",
        "        print(f'La columna no-numérica no fue eliminada correctamente... Por favor inténtalo de nuevo')\n",
        "        error = True\n",
        "        \n",
        "    if not df_dropped.min(axis=0).equals(mins):\n",
        "        print(f'El valor mínimo no fue computado adecuadamente... Por favor inténtalo de nuevo')\n",
        "        error = True\n",
        "        \n",
        "    if not df_dropped.max(axis=0).equals(maxs):\n",
        "        print(f'El valor máximo no fue computado adecuadamente... Por favor inténtalo de nuevo')\n",
        "        error = True\n",
        "        \n",
        "    if not df_dropped.mean(axis=0).equals(means):\n",
        "        print(f'El promedio no fue computado adecuadamente... Por favor inténtalo de nuevo')\n",
        "        error = True\n",
        "    \n",
        "    if not df_dropped.median(axis=0).equals(medians):\n",
        "        print(f'La mediana no fue computada adecuadamente... Por favor inténtalo de nuevo')\n",
        "        error = True\n",
        "        \n",
        "    if not df_dropped.std(axis=0).equals(stds):\n",
        "        print(f'La desviación estándar no fue computada adecuadamente... Por favor inténtalo de nuevo')\n",
        "        error = True\n",
        "    \n",
        "    if not error:\n",
        "        rango = maxs - mins\n",
        "        mins.name = 'Min'\n",
        "        maxs.name = 'Max'\n",
        "        rango.name = 'Rango'\n",
        "        means.name = 'Promedio'\n",
        "        medians.name = 'Mediana'\n",
        "        stds.name = 'Std'\n",
        "        \n",
        "        resumen = pd.concat([mins, maxs, rango, means, medians, stds], axis=1)\n",
        "        print(resumen)\n",
        "\n",
        "resumen_estadistico(df, df_dropped, mins, maxs, means, medians, stds)"
      ],
      "execution_count": 6,
      "outputs": [
        {
          "output_type": "stream",
          "text": [
            "                    Min    Max  Rango      Promedio  Mediana          Std\n",
            "precio             1040  23100  22060  10023.846154   8900.0  7210.205196\n",
            "cantidad_en_stock     0     78     78     30.692308     34.0    23.382275\n",
            "cantidad_vendidos     9    120    111     50.461538     51.0    34.289492\n"
          ],
          "name": "stdout"
        }
      ]
    },
    {
      "cell_type": "markdown",
      "metadata": {
        "id": "r040hirqdQ2r"
      },
      "source": [
        "<details><summary>Solución</summary>\n",
        "\n",
        "```python\n",
        "df_dropped = df.drop(columns=['producto'])\n",
        "\n",
        "# El valor mínimo de cada columna\n",
        "mins = df_dropped.min(axis=0)\n",
        "\n",
        "# El valor máximo de cada columna\n",
        "maxs = df_dropped.max(axis=0)\n",
        "\n",
        "# El promedio por columna\n",
        "means = df_dropped.mean(axis=0)\n",
        "\n",
        "# La mediana por columna (El valor que se encuentra a la mitad de la secuencia ordenada de valores)\n",
        "medians = df_dropped.median(axis=0)\n",
        "\n",
        "# La desviación estándar por columna\n",
        "stds = df_dropped.std(axis=0)\n",
        "```\n",
        "    \n",
        "</details>"
      ]
    },
    {
      "cell_type": "code",
      "metadata": {
        "id": "CebpOPYsdQ2r"
      },
      "source": [
        ""
      ],
      "execution_count": 6,
      "outputs": []
    }
  ]
}