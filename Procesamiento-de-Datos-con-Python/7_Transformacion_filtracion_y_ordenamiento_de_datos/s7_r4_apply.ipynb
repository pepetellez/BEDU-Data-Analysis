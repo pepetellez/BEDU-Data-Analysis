{
  "nbformat": 4,
  "nbformat_minor": 0,
  "metadata": {
    "kernelspec": {
      "display_name": "Python 3",
      "language": "python",
      "name": "python3"
    },
    "language_info": {
      "codemirror_mode": {
        "name": "ipython",
        "version": 3
      },
      "file_extension": ".py",
      "mimetype": "text/x-python",
      "name": "python",
      "nbconvert_exporter": "python",
      "pygments_lexer": "ipython3",
      "version": "3.8.3"
    },
    "colab": {
      "name": "s7_r4_apply.ipynb",
      "provenance": [],
      "include_colab_link": true
    }
  },
  "cells": [
    {
      "cell_type": "markdown",
      "metadata": {
        "id": "view-in-github",
        "colab_type": "text"
      },
      "source": [
        "<a href=\"https://colab.research.google.com/github/pepetellez/BEDU-Data-Analysis/blob/main/Procesamiento-de-Datos-con-Python/7_Transformacion_filtracion_y_ordenamiento_de_datos/s7_r4_apply.ipynb\" target=\"_parent\"><img src=\"https://colab.research.google.com/assets/colab-badge.svg\" alt=\"Open In Colab\"/></a>"
      ]
    },
    {
      "cell_type": "markdown",
      "metadata": {
        "id": "oSO3IdiHhI_4"
      },
      "source": [
        "## Reto 4: Apply\n",
        "\n",
        "### 1. Objetivos:\n",
        "    - Practicar el uso del método `apply` para obtener columnas nuevas a partir de columnas existentes\n",
        "    \n",
        "---\n",
        "    \n",
        "### 2. Desarrollo:"
      ]
    },
    {
      "cell_type": "code",
      "metadata": {
        "colab": {
          "base_uri": "https://localhost:8080/"
        },
        "id": "xtyvUC07A1zR",
        "outputId": "9289f232-a699-4fa8-fe73-0a0454a90d9d"
      },
      "source": [
        "from google.colab import drive\n",
        "drive.mount('/content/drive')"
      ],
      "execution_count": 1,
      "outputs": [
        {
          "output_type": "stream",
          "text": [
            "Mounted at /content/drive\n"
          ],
          "name": "stdout"
        }
      ]
    },
    {
      "cell_type": "markdown",
      "metadata": {
        "id": "12TdJL1PhJAE"
      },
      "source": [
        "#### a) Obteniendo columnas nuevas a partir de existentes\n",
        "\n",
        "Vamos a trabajar con el dataset que guardaste de tu Reto anterior. Esta vez tu Reto es el siguiente:\n",
        "\n",
        "1. Crea una función que reciba un valor (en este caso el diámetro en metros de un objeto espacial) y regrese la proporción de ese valor en comparación con el diámetro de la Tierra. El diámetro de la Tierra es de 12,742 km. Así que el diámetro de un objeto que mida 10000 metros corresponde a un valor de 0.00078 en proporción al diámetro de la Tierra.\n",
        "2. Usa la columna 'estimated_diameter.meters.estimated_diameter_max', aplícale la función usando `apply` y crea una nueva columna llamada `proportion_of_max_diameter_to_earth`.\n",
        "3. Asigna el resultado a la variable `df_reto_4`.\n",
        "4. Guarda tu conjunto de datos en un archivo .csv."
      ]
    },
    {
      "cell_type": "code",
      "metadata": {
        "id": "scNqLVIGhJAF",
        "colab": {
          "base_uri": "https://localhost:8080/",
          "height": 791
        },
        "outputId": "1f648e77-2247-45ad-bda2-69b87b65e141"
      },
      "source": [
        "import pandas as pd\r\n",
        "\r\n",
        "df_reto_4 = pd.read_csv('drive/MyDrive/df_reto_7_3.csv', index_col=0)\r\n",
        "\r\n",
        "#Crea una función que reciba un valor (en este caso el diámetro en metros de un objeto espacial) y \r\n",
        "#regrese la proporción de ese valor en comparación con el diámetro de la Tierra. \r\n",
        "#El diámetro de la Tierra es de 12,742 km. Así que el diámetro de un objeto que mida 10000 metros \r\n",
        "#corresponde a un valor de 0.00078 en proporción al diámetro de la Tierra.\r\n",
        "def proporcion_diam_Tierra(valor):\r\n",
        "  return valor/12742000\r\n",
        "\r\n",
        "#Usa la columna 'estimated_diameter.meters.estimated_diameter_max', aplícale la función usando apply \r\n",
        "#y crea una nueva columna llamada proportion_of_max_diameter_to_earth.\r\n",
        "df_reto_4[\"proportion_of_max_diameter_to_earth\"] = df_reto_4['estimated_diameter.meters.estimated_diameter_max'].apply(proporcion_diam_Tierra)\r\n",
        "\r\n",
        "#Guarda tu resultado en un archivo .csv.\r\n",
        "df_reto_4.to_csv(r'drive/MyDrive/df_reto_7_4.csv')\r\n",
        "\r\n",
        "df_reto_4"
      ],
      "execution_count": 16,
      "outputs": [
        {
          "output_type": "execute_result",
          "data": {
            "text/html": [
              "<div>\n",
              "<style scoped>\n",
              "    .dataframe tbody tr th:only-of-type {\n",
              "        vertical-align: middle;\n",
              "    }\n",
              "\n",
              "    .dataframe tbody tr th {\n",
              "        vertical-align: top;\n",
              "    }\n",
              "\n",
              "    .dataframe thead th {\n",
              "        text-align: right;\n",
              "    }\n",
              "</style>\n",
              "<table border=\"1\" class=\"dataframe\">\n",
              "  <thead>\n",
              "    <tr style=\"text-align: right;\">\n",
              "      <th></th>\n",
              "      <th>id_name</th>\n",
              "      <th>is_potentially_hazardous_asteroid</th>\n",
              "      <th>estimated_diameter.meters.estimated_diameter_min</th>\n",
              "      <th>estimated_diameter.meters.estimated_diameter_max</th>\n",
              "      <th>close_approach_date</th>\n",
              "      <th>epoch_date_close_approach</th>\n",
              "      <th>orbiting_body</th>\n",
              "      <th>relative_velocity.kilometers_per_second</th>\n",
              "      <th>relative_velocity.kilometers_per_hour</th>\n",
              "      <th>orbit_class_description</th>\n",
              "      <th>id</th>\n",
              "      <th>name</th>\n",
              "      <th>relative_velocity.kilometers_per_minute</th>\n",
              "      <th>proportion_of_max_diameter_to_earth</th>\n",
              "    </tr>\n",
              "  </thead>\n",
              "  <tbody>\n",
              "    <tr>\n",
              "      <th>0</th>\n",
              "      <td>2154652-154652 (2004 EP20)</td>\n",
              "      <td>0</td>\n",
              "      <td>483.676488</td>\n",
              "      <td>1081.533507</td>\n",
              "      <td>1995-01-07</td>\n",
              "      <td>1995-01-07 08:33:00</td>\n",
              "      <td>Earth</td>\n",
              "      <td>16.142864</td>\n",
              "      <td>58114.308667</td>\n",
              "      <td>Near Earth asteroid orbits similar to that of ...</td>\n",
              "      <td>2154652</td>\n",
              "      <td>154652 (2004 EP20)</td>\n",
              "      <td>968.571811</td>\n",
              "      <td>0.000085</td>\n",
              "    </tr>\n",
              "    <tr>\n",
              "      <th>1</th>\n",
              "      <td>3153509-(2003 HM)</td>\n",
              "      <td>1</td>\n",
              "      <td>96.506147</td>\n",
              "      <td>215.794305</td>\n",
              "      <td>1995-01-07</td>\n",
              "      <td>1995-01-07 15:09:00</td>\n",
              "      <td>Earth</td>\n",
              "      <td>12.351044</td>\n",
              "      <td>44463.757734</td>\n",
              "      <td>Near Earth asteroid orbits which cross the Ear...</td>\n",
              "      <td>3153509</td>\n",
              "      <td>(2003 HM)</td>\n",
              "      <td>741.062629</td>\n",
              "      <td>0.000017</td>\n",
              "    </tr>\n",
              "    <tr>\n",
              "      <th>2</th>\n",
              "      <td>3516633-(2010 HA)</td>\n",
              "      <td>0</td>\n",
              "      <td>44.111820</td>\n",
              "      <td>98.637028</td>\n",
              "      <td>1995-01-07</td>\n",
              "      <td>1995-01-07 02:47:00</td>\n",
              "      <td>Earth</td>\n",
              "      <td>6.220435</td>\n",
              "      <td>NaN</td>\n",
              "      <td>Near Earth asteroid orbits similar to that of ...</td>\n",
              "      <td>3516633</td>\n",
              "      <td>(2010 HA)</td>\n",
              "      <td>NaN</td>\n",
              "      <td>0.000008</td>\n",
              "    </tr>\n",
              "    <tr>\n",
              "      <th>3</th>\n",
              "      <td>3837644-(2019 AY3)</td>\n",
              "      <td>0</td>\n",
              "      <td>46.190746</td>\n",
              "      <td>103.285648</td>\n",
              "      <td>1995-01-07</td>\n",
              "      <td>1995-01-07 21:25:00</td>\n",
              "      <td>Earth</td>\n",
              "      <td>22.478615</td>\n",
              "      <td>80923.015021</td>\n",
              "      <td>Near Earth asteroid orbits similar to that of ...</td>\n",
              "      <td>3837644</td>\n",
              "      <td>(2019 AY3)</td>\n",
              "      <td>1348.716917</td>\n",
              "      <td>0.000008</td>\n",
              "    </tr>\n",
              "    <tr>\n",
              "      <th>4</th>\n",
              "      <td>3843493-(2019 PY)</td>\n",
              "      <td>0</td>\n",
              "      <td>22.108281</td>\n",
              "      <td>49.435619</td>\n",
              "      <td>1995-01-07</td>\n",
              "      <td>1995-01-07 02:45:00</td>\n",
              "      <td>Earth</td>\n",
              "      <td>4.998691</td>\n",
              "      <td>17995.288355</td>\n",
              "      <td>Near Earth asteroid orbits similar to that of ...</td>\n",
              "      <td>3843493</td>\n",
              "      <td>(2019 PY)</td>\n",
              "      <td>299.921473</td>\n",
              "      <td>0.000004</td>\n",
              "    </tr>\n",
              "    <tr>\n",
              "      <th>...</th>\n",
              "      <td>...</td>\n",
              "      <td>...</td>\n",
              "      <td>...</td>\n",
              "      <td>...</td>\n",
              "      <td>...</td>\n",
              "      <td>...</td>\n",
              "      <td>...</td>\n",
              "      <td>...</td>\n",
              "      <td>...</td>\n",
              "      <td>...</td>\n",
              "      <td>...</td>\n",
              "      <td>...</td>\n",
              "      <td>...</td>\n",
              "      <td>...</td>\n",
              "    </tr>\n",
              "    <tr>\n",
              "      <th>328</th>\n",
              "      <td>2267136-267136 (2000 EF104)</td>\n",
              "      <td>0</td>\n",
              "      <td>441.118200</td>\n",
              "      <td>986.370281</td>\n",
              "      <td>1995-02-21</td>\n",
              "      <td>1995-02-21 04:17:00</td>\n",
              "      <td>Earth</td>\n",
              "      <td>16.180392</td>\n",
              "      <td>58249.410194</td>\n",
              "      <td>Near Earth asteroid orbits similar to that of ...</td>\n",
              "      <td>2267136</td>\n",
              "      <td>267136 (2000 EF104)</td>\n",
              "      <td>970.823503</td>\n",
              "      <td>0.000077</td>\n",
              "    </tr>\n",
              "    <tr>\n",
              "      <th>329</th>\n",
              "      <td>3360486-(2006 WE4)</td>\n",
              "      <td>0</td>\n",
              "      <td>441.118200</td>\n",
              "      <td>986.370281</td>\n",
              "      <td>1995-02-21</td>\n",
              "      <td>1995-02-21 15:44:00</td>\n",
              "      <td>Earth</td>\n",
              "      <td>15.106140</td>\n",
              "      <td>54382.104639</td>\n",
              "      <td>Near Earth asteroid orbits which cross the Ear...</td>\n",
              "      <td>3360486</td>\n",
              "      <td>(2006 WE4)</td>\n",
              "      <td>906.368411</td>\n",
              "      <td>0.000077</td>\n",
              "    </tr>\n",
              "    <tr>\n",
              "      <th>330</th>\n",
              "      <td>3656919-(2014 BG3)</td>\n",
              "      <td>0</td>\n",
              "      <td>160.160338</td>\n",
              "      <td>358.129403</td>\n",
              "      <td>1995-02-21</td>\n",
              "      <td>1995-02-21 12:08:00</td>\n",
              "      <td>Earth</td>\n",
              "      <td>20.343173</td>\n",
              "      <td>73235.423517</td>\n",
              "      <td>An asteroid orbit contained entirely within th...</td>\n",
              "      <td>3656919</td>\n",
              "      <td>(2014 BG3)</td>\n",
              "      <td>1220.590392</td>\n",
              "      <td>0.000028</td>\n",
              "    </tr>\n",
              "    <tr>\n",
              "      <th>331</th>\n",
              "      <td>3803762-(2018 GY4)</td>\n",
              "      <td>0</td>\n",
              "      <td>421.264611</td>\n",
              "      <td>941.976306</td>\n",
              "      <td>1995-02-21</td>\n",
              "      <td>1995-02-21 12:54:00</td>\n",
              "      <td>Earth</td>\n",
              "      <td>29.732426</td>\n",
              "      <td>107036.733058</td>\n",
              "      <td>Near Earth asteroid orbits similar to that of ...</td>\n",
              "      <td>3803762</td>\n",
              "      <td>(2018 GY4)</td>\n",
              "      <td>1783.945551</td>\n",
              "      <td>0.000074</td>\n",
              "    </tr>\n",
              "    <tr>\n",
              "      <th>332</th>\n",
              "      <td>3989652-(2020 CH1)</td>\n",
              "      <td>0</td>\n",
              "      <td>21.525586</td>\n",
              "      <td>48.132673</td>\n",
              "      <td>1995-02-21</td>\n",
              "      <td>1995-02-21 22:15:00</td>\n",
              "      <td>Earth</td>\n",
              "      <td>6.998083</td>\n",
              "      <td>NaN</td>\n",
              "      <td>Near Earth asteroid orbits similar to that of ...</td>\n",
              "      <td>3989652</td>\n",
              "      <td>(2020 CH1)</td>\n",
              "      <td>NaN</td>\n",
              "      <td>0.000004</td>\n",
              "    </tr>\n",
              "  </tbody>\n",
              "</table>\n",
              "<p>333 rows × 14 columns</p>\n",
              "</div>"
            ],
            "text/plain": [
              "                         id_name  ...  proportion_of_max_diameter_to_earth\n",
              "0     2154652-154652 (2004 EP20)  ...                             0.000085\n",
              "1              3153509-(2003 HM)  ...                             0.000017\n",
              "2              3516633-(2010 HA)  ...                             0.000008\n",
              "3             3837644-(2019 AY3)  ...                             0.000008\n",
              "4              3843493-(2019 PY)  ...                             0.000004\n",
              "..                           ...  ...                                  ...\n",
              "328  2267136-267136 (2000 EF104)  ...                             0.000077\n",
              "329           3360486-(2006 WE4)  ...                             0.000077\n",
              "330           3656919-(2014 BG3)  ...                             0.000028\n",
              "331           3803762-(2018 GY4)  ...                             0.000074\n",
              "332           3989652-(2020 CH1)  ...                             0.000004\n",
              "\n",
              "[333 rows x 14 columns]"
            ]
          },
          "metadata": {
            "tags": []
          },
          "execution_count": 16
        }
      ]
    },
    {
      "cell_type": "markdown",
      "metadata": {
        "id": "lZAE_ynahJAG"
      },
      "source": [
        "Pídele a tu experta la función de verificación `revisar_aplicacion` (encontrada en el archivo `helpers.py` de la carpeta donde se encuentra este Reto), pégala debajo y corre la celda para verificar tu resultado:"
      ]
    },
    {
      "cell_type": "code",
      "metadata": {
        "id": "7m6SsogxhJAG",
        "colab": {
          "base_uri": "https://localhost:8080/"
        },
        "outputId": "68fb42ee-a137-412f-cb30-21250ad08a25"
      },
      "source": [
        "# Pega aquí la función de verificación\n",
        "\n",
        "def revisar_aplicacion(df_reto_4):\n",
        "    \n",
        "    assert 'proportion_of_max_diameter_to_earth' in df_reto_4, 'No existe una columna llamada \"proportion_of_max_diameter_to_earth\" en el DataFrame'\n",
        "    assert df_reto_4['proportion_of_max_diameter_to_earth'].equals(df_reto_4['estimated_diameter.meters.estimated_diameter_max'] / 12742000), 'La transformacion no fue realizada adecuadamente'\n",
        "    \n",
        "    print(f'La transformación y creación de una nueva columna fue realizada exitosamente!')\n",
        "\n",
        "revisar_aplicacion(df_reto_4)"
      ],
      "execution_count": 17,
      "outputs": [
        {
          "output_type": "stream",
          "text": [
            "La transformación y creación de una nueva columna fue realizada exitosamente!\n"
          ],
          "name": "stdout"
        }
      ]
    }
  ]
}