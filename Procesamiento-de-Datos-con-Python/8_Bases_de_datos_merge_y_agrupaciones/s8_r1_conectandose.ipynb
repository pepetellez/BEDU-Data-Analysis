{
  "nbformat": 4,
  "nbformat_minor": 0,
  "metadata": {
    "kernelspec": {
      "display_name": "Python (data_science)",
      "language": "python",
      "name": "data_science"
    },
    "language_info": {
      "codemirror_mode": {
        "name": "ipython",
        "version": 3
      },
      "file_extension": ".py",
      "mimetype": "text/x-python",
      "name": "python",
      "nbconvert_exporter": "python",
      "pygments_lexer": "ipython3",
      "version": "3.8.1"
    },
    "colab": {
      "name": "s8_r1_conectandose.ipynb",
      "provenance": [],
      "include_colab_link": true
    }
  },
  "cells": [
    {
      "cell_type": "markdown",
      "metadata": {
        "id": "view-in-github",
        "colab_type": "text"
      },
      "source": [
        "<a href=\"https://colab.research.google.com/github/pepetellez/BEDU-Data-Analysis/blob/main/Procesamiento-de-Datos-con-Python/8_Bases_de_datos_merge_y_agrupaciones/s8_r1_conectandose.ipynb\" target=\"_parent\"><img src=\"https://colab.research.google.com/assets/colab-badge.svg\" alt=\"Open In Colab\"/></a>"
      ]
    },
    {
      "cell_type": "markdown",
      "metadata": {
        "id": "Vi2uqJ0Z7-vu"
      },
      "source": [
        "## Reto 1: Conectándose a una base de datos\n",
        "\n",
        "### 1. Objetivos:\n",
        "    - Practicar conectarse a una base de datos y revisar la conexión.\n",
        "    \n",
        "---\n",
        "    \n",
        "### 2. Desarrollo:"
      ]
    },
    {
      "cell_type": "markdown",
      "metadata": {
        "id": "Uyn5bpE77-vz"
      },
      "source": [
        "#### a) Conectándose a MySQL\n",
        "\n",
        "Este primer Reto es muy sencillo: \n",
        "\n",
        "1. Pídele a tu experta los datos de conexión que necesitas para conectarte al SGBD que ha sido levantado para esta sesión.\n",
        "2. Si no lo has hecho ya, instala la librería `mysql-connector`.\n",
        "3. Conéctate a la base de datos usando `mysql-connector`.\n",
        "4. Revisa que estás conectado a la base de datos pidiendo los nombres de todas las tablas en la base de datos."
      ]
    },
    {
      "cell_type": "code",
      "metadata": {
        "id": "sCnhO2Ns7-v0",
        "colab": {
          "base_uri": "https://localhost:8080/"
        },
        "outputId": "09bbce05-5e7f-4327-bbe7-4261ec7aa2de"
      },
      "source": [
        "import mysql.connector\n",
        "\n",
        "cnx = mysql.connector.connect(\n",
        "    host=\"ec2-34-221-84-140.us-west-2.compute.amazonaws.com\",\n",
        "    port=3306,\n",
        "    user=\"data\",\n",
        "    password=\"khQ9--mp6LWq97iA\",\n",
        "    database=\"movielens\",\n",
        ")\n",
        "\n",
        "cursor = cnx.cursor()\n",
        "cursor.execute(\"SHOW TABLES\")\n",
        "print(cursor.fetchall())\n",
        "cursor.close()"
      ],
      "execution_count": 3,
      "outputs": [
        {
          "output_type": "stream",
          "text": [
            "[('age_ranges',), ('movies',), ('occupations',), ('ratings',), ('users',)]\n"
          ],
          "name": "stdout"
        },
        {
          "output_type": "execute_result",
          "data": {
            "text/plain": [
              "True"
            ]
          },
          "metadata": {
            "tags": []
          },
          "execution_count": 3
        }
      ]
    },
    {
      "cell_type": "markdown",
      "metadata": {
        "id": "ghsfwuAO7-v0"
      },
      "source": [
        "Asegúrate de que tu conexión esté funcionando. Cualquier duda que tengas, la puedes expresar a tu experta. Es muy importante que te conectes exitosamente para poder realizar todos los Retos siguientes."
      ]
    },
    {
      "cell_type": "markdown",
      "metadata": {
        "id": "MyIJ6GrC7-v0"
      },
      "source": [
        "<details><summary>Solución</summary>\n",
        "\n",
        "```python\n",
        "import mysql.connector\n",
        "cnx = mysql.connector.connect(\n",
        "    host=\"host_que_te_indique_la_experta\",\n",
        "    port=3306,\n",
        "    user=\"usuario_que_te_indique_la_experta\",\n",
        "    password='contraseña_que_te_indique_la_experta',\n",
        "    database='movielens'\n",
        ")\n",
        "cursor = cnx.cursor()\n",
        "cursor.execute(\"SHOW TABLES\")\n",
        "cursor.fetchall()\n",
        "cursor.close()\n",
        "```\n",
        "    \n",
        "</details>"
      ]
    },
    {
      "cell_type": "code",
      "metadata": {
        "id": "SA0Y9TXy7-v1"
      },
      "source": [
        ""
      ],
      "execution_count": null,
      "outputs": []
    }
  ]
}