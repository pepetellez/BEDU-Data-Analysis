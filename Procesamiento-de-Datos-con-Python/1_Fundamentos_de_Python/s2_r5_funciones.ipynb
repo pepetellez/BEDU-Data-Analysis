{
  "nbformat": 4,
  "nbformat_minor": 0,
  "metadata": {
    "kernelspec": {
      "display_name": "Python 3",
      "language": "python",
      "name": "python3"
    },
    "language_info": {
      "codemirror_mode": {
        "name": "ipython",
        "version": 3
      },
      "file_extension": ".py",
      "mimetype": "text/x-python",
      "name": "python",
      "nbconvert_exporter": "python",
      "pygments_lexer": "ipython3",
      "version": "3.8.3"
    },
    "colab": {
      "name": "s2_r5_funciones.ipynb",
      "provenance": [],
      "include_colab_link": true
    }
  },
  "cells": [
    {
      "cell_type": "markdown",
      "metadata": {
        "id": "view-in-github",
        "colab_type": "text"
      },
      "source": [
        "<a href=\"https://colab.research.google.com/github/pepetellez/BEDU-Data-Analysis/blob/main/Procesamiento-de-Datos-con-Python/1_Fundamentos_de_Python/s2_r5_funciones.ipynb\" target=\"_parent\"><img src=\"https://colab.research.google.com/assets/colab-badge.svg\" alt=\"Open In Colab\"/></a>"
      ]
    },
    {
      "cell_type": "markdown",
      "metadata": {
        "id": "Q6-5KDpkFnPO"
      },
      "source": [
        "## Reto 5: Funciones\n",
        "\n",
        "### 1. Objetivos:\n",
        "    - Practicar la declaración de funciones\n",
        "    - Practicar la definición de parámetros y su uso dentro de la función\n",
        "    - Practicar el uso de los valores retornados por una función\n",
        "    - Practicar el uso de funciones para evitar la repetición de código\n",
        " \n",
        "---\n",
        "    \n",
        "### 2. Desarrollo:"
      ]
    },
    {
      "cell_type": "markdown",
      "metadata": {
        "id": "Sxsuni9_FnPU"
      },
      "source": [
        "#### a) Función `numero_es_par`\n",
        "\n",
        "Debajo tienes una función incompleta:"
      ]
    },
    {
      "cell_type": "code",
      "metadata": {
        "id": "3GzfnoMnFnPV"
      },
      "source": [
        "def numero_es_par(numero):\n",
        "    \n",
        "    # Tu código va aquí\n",
        "    boolean = False\n",
        "    if numero%2 == 0:\n",
        "      boolean = True\n",
        "         \n",
        "    return boolean"
      ],
      "execution_count": 7,
      "outputs": []
    },
    {
      "cell_type": "markdown",
      "metadata": {
        "id": "O2_gb0lhFnPV"
      },
      "source": [
        "Dicha función debería de tomar un parámetro `numero`, checar si el número es par, regresar `True` si el número es par y regresar `False` si el número no es par.\n",
        "\n",
        "Completa la función para que el código de abajo (que realiza `tests` de la función) regrese todos los `resultados esperados`.\n",
        "\n",
        "> **Pista**: Si no conoces el operador `módulo` (`%`), pídele al experto que explique su funcionamiento.\n",
        "\n",
        "> **PD**: Si no entiendes la función test_funcion no te preocupes, por el momento sólo está ahí para probar tu código y que sepas si tu función funciona correctamente."
      ]
    },
    {
      "cell_type": "code",
      "metadata": {
        "id": "za8r8IsgFnPW"
      },
      "source": [
        "def test_funcion(funcion_a_probar, num_de_errores, contador, parametros=[], resultado_esperado=None):\n",
        "    resultado_test = funcion_a_probar(*parametros)\n",
        "    print(f'Test {contador}: Resultado esperado es `{resultado_esperado}`, obtuvimos `{resultado_test}`')\n",
        "    if resultado_test != resultado_esperado:\n",
        "        num_de_errores += 1\n",
        "        \n",
        "    return num_de_errores"
      ],
      "execution_count": 8,
      "outputs": []
    },
    {
      "cell_type": "code",
      "metadata": {
        "id": "Fz9gbNzQFnPW",
        "colab": {
          "base_uri": "https://localhost:8080/"
        },
        "outputId": "3e9ab7b4-4b87-4d4b-c5ef-80c7d36422cd"
      },
      "source": [
        "print(\"== Tests numero_es_par==\\n\")\n",
        "\n",
        "contador_de_tests = 0\n",
        "errores = 0\n",
        "\n",
        "contador_de_tests += 1\n",
        "errores = test_funcion(numero_es_par, errores, contador_de_tests, parametros=[2], resultado_esperado=True)\n",
        "contador_de_tests += 1\n",
        "errores = test_funcion(numero_es_par, errores, contador_de_tests, parametros=[3], resultado_esperado=False)\n",
        "contador_de_tests += 1\n",
        "errores = test_funcion(numero_es_par, errores, contador_de_tests, parametros=[0], resultado_esperado=True)\n",
        "contador_de_tests += 1\n",
        "errores = test_funcion(numero_es_par, errores, contador_de_tests, parametros=[127], resultado_esperado=False)\n",
        "contador_de_tests += 1\n",
        "errores = test_funcion(numero_es_par, errores, contador_de_tests, parametros=[-88], resultado_esperado=True)\n",
        "contador_de_tests += 1\n",
        "errores = test_funcion(numero_es_par, errores, contador_de_tests, parametros=[-1349], resultado_esperado=False)\n",
        "\n",
        "print(f'\\nErrores encontrados: {errores}')"
      ],
      "execution_count": 9,
      "outputs": [
        {
          "output_type": "stream",
          "text": [
            "== Tests numero_es_par==\n",
            "\n",
            "Test 1: Resultado esperado es `True`, obtuvimos `True`\n",
            "Test 2: Resultado esperado es `False`, obtuvimos `False`\n",
            "Test 3: Resultado esperado es `True`, obtuvimos `True`\n",
            "Test 4: Resultado esperado es `False`, obtuvimos `False`\n",
            "Test 5: Resultado esperado es `True`, obtuvimos `True`\n",
            "Test 6: Resultado esperado es `False`, obtuvimos `False`\n",
            "\n",
            "Errores encontrados: 0\n"
          ],
          "name": "stdout"
        }
      ]
    },
    {
      "cell_type": "markdown",
      "metadata": {
        "id": "JDIb_xBXFnPW"
      },
      "source": [
        "#### b) Reutilización de código\n",
        "\n",
        "Debajo tenemos algo de código."
      ]
    },
    {
      "cell_type": "code",
      "metadata": {
        "id": "fB1c53gpFnPX"
      },
      "source": [
        "resultado_1 = 34 * 100 / 100\n",
        "print(f'34 es el {resultado_1}% del número 100\\n')\n",
        "\n",
        "resultado_2 = 57 * 100 / 127\n",
        "print(f'57 es el {resultado_2}% del número 127\\n')\n",
        "\n",
        "resultado_3 = 12 * 100 / 228\n",
        "print(f'12 es el {resultado_3}% del número 228\\n')\n",
        "\n",
        "resultado_4 = 87 * 100 / 90\n",
        "print(f'87 es el {resultado_4}% del número 90\\n')\n",
        "\n",
        "resultado_5 = 1 * 100 / 999\n",
        "print(f'1 es el {resultado_5}% del número 999\\n')\n",
        "\n",
        "resultado_6 = 66 * 100 / 66\n",
        "print(f'66 es el {resultado_6}% del número 66\\n')"
      ],
      "execution_count": null,
      "outputs": []
    },
    {
      "cell_type": "markdown",
      "metadata": {
        "id": "SvYf1CbVFnPX"
      },
      "source": [
        "Este código funciona correctamente, pero como puedes ver, estamos escribiendo el mismo código una y otra vez. En la celda debajo, escribe una función que realice la operación matemática que estamos realizando arriba, para que podamos reusarla múltiples veces para obtener los resultados que queremos. Llena también los `prints` de manera que podamos leer el resultado en un formato comprensible.\n",
        "\n",
        "> Reto extra: Si quieres un reto extra, escribe también una función que genere las strings que vamos a pasar a los `prints`, para no tener que escribirlas desde 0 cada vez."
      ]
    },
    {
      "cell_type": "code",
      "metadata": {
        "id": "Tu8jL93eFnPX",
        "colab": {
          "base_uri": "https://localhost:8080/"
        },
        "outputId": "c111c2c9-175b-402a-fce2-441b769328a3"
      },
      "source": [
        "## Tu función va aquí\n",
        "def porcentaje(x, y):\n",
        "  val = x * 100 / y\n",
        "  print(f'{x} es el {val}% del numero {y}\\n')\n",
        "\n",
        "porcentaje(34, 100)\n",
        "porcentaje(57, 127)\n",
        "porcentaje(12, 228)\n",
        "porcentaje(87, 90)\n",
        "porcentaje(1, 999)\n",
        "porcentaje(66, 66)\n",
        "\n",
        "#resultado_1 = \n",
        "#print(f'')\n",
        "\n",
        "#resultado_2 = \n",
        "#print(f'')\n",
        "\n",
        "#resultado_3 = \n",
        "#print(f'')\n",
        "\n",
        "#resultado_4 = \n",
        "#print(f'')\n",
        "\n",
        "#resultado_5 = \n",
        "#print(f'')\n",
        "\n",
        "#resultado_6 = \n",
        "#print(f'')"
      ],
      "execution_count": 11,
      "outputs": [
        {
          "output_type": "stream",
          "text": [
            "34 es el 34.0% del numero 100\n",
            "\n",
            "57 es el 44.881889763779526% del numero 127\n",
            "\n",
            "12 es el 5.2631578947368425% del numero 228\n",
            "\n",
            "87 es el 96.66666666666667% del numero 90\n",
            "\n",
            "1 es el 0.1001001001001001% del numero 999\n",
            "\n",
            "66 es el 100.0% del numero 66\n",
            "\n"
          ],
          "name": "stdout"
        }
      ]
    },
    {
      "cell_type": "markdown",
      "metadata": {
        "id": "2aUsTM7QFnPY"
      },
      "source": [
        "#### c) Función `acceso_autorizado`\n",
        "\n",
        "Debajo tenemos un conjunto de datos que tiene información de varios usuarios de una plataforma web. Este diccionario relaciona `usernames` con un rol y (a veces) con un nip de acceso:"
      ]
    },
    {
      "cell_type": "code",
      "metadata": {
        "id": "I-D-Y-AWFnPY"
      },
      "source": [
        "usuarios = {\n",
        "    \"manolito_garcia\": {\n",
        "        \"rol\": \"admin\"\n",
        "    },\n",
        "    \"sebas_macaco_23\": {\n",
        "        \"rol\": \"editor\",\n",
        "        \"nip_de_acceso\": 3594\n",
        "    },\n",
        "    \"la_susanita_maestra\": {\n",
        "        \"rol\": \"admin\"\n",
        "    },\n",
        "    \"pepe_le_pu_88\": {\n",
        "        \"rol\": \"lector\"\n",
        "    },\n",
        "    \"jonny_bravo_estuvo_aqui\": {\n",
        "        \"rol\": \"editor\",\n",
        "        \"nip_de_acceso\": 9730\n",
        "    },\n",
        "    \"alfonso_torres_69\": {\n",
        "        \"rol\": \"editor\",\n",
        "        \"nip_de_acceso\": 2849\n",
        "    },\n",
        "    \"jocosita_99\": {\n",
        "        \"rol\": \"lector\"\n",
        "    }\n",
        "}"
      ],
      "execution_count": 78,
      "outputs": []
    },
    {
      "cell_type": "markdown",
      "metadata": {
        "id": "A5uTV2mUFnPY"
      },
      "source": [
        "Nuestra plataforma tiene 3 roles:\n",
        "\n",
        "1. Admin: estos pueden editar información sin necesitar un nip de acceso.\n",
        "2. Editor: pueden editar información sólo si escriben correctamenta su nip de acceso.\n",
        "3. Lector: no pueden editar, sólo ver la información, no necesitan nip de acceso.\n",
        "\n",
        "En la celda debajo, crea una función llamada `nivel_de_acceso_para_username` que reciba 3 parámetros:\n",
        "\n",
        "1. `base_de_datos`: que será siempre nuestro diccionario `usuarios`.\n",
        "2. `username`: El `username` del usuario que está solicitando acceso.\n",
        "3. `nip_de_acceso`: El nip de acceso, que puede ser `None` en el caso de que el usuario no tenga uno (o que haya olvidado escribirlo a la hora de pedir acceso.\n",
        "\n",
        "Con estos 3 parámetros, nuestra función tiene que regresar uno de los códigos de acceso siguientes:\n",
        "\n",
        "- `0`: Acceso denegado (esto sucede si el rol es `editor` y el `nip_de_acceso` es incorrecto).\n",
        "- `1`: Modo edición autorizada (esto sucede si el rol es `admin` o si el rol es `editor` y el `nip_de_acesso` es correcto).\n",
        "- `2`: Modo lectura autorizada (esto sucede si el rol es `lector`).\n",
        "\n",
        "Después, corre los tests para asegurarte de que tu función es correcta.\n",
        "\n",
        "> Tip: Recuerda que puedes \"anidar\" `sentencias if` dentro de otras `sentencias if`.\n",
        "\n",
        "> Reto extra: Agrega un chequeo que regrese `0` si el `username` que recibió tu función no existe en la base de datos."
      ]
    },
    {
      "cell_type": "code",
      "metadata": {
        "id": "zJOY8eV3FnPY"
      },
      "source": [
        "## Tu función va aquí\n",
        "def nivel_de_acceso_para_username(usuarios, username, nip):\n",
        "  x = list(usuarios.keys())\n",
        "  acceso = \"algo salio mal\"\n",
        "  if (username not in x):\n",
        "    acceso = 0\n",
        "  elif (usuarios[username][\"rol\"]=='editor' and nip != usuarios[username][\"nip_de_acceso\"]):\n",
        "    acceso = 0\n",
        "  elif (usuarios[username][\"rol\"]=='admin' or usuarios[username][\"rol\"]=='editor' and nip == usuarios[username][\"nip_de_acceso\"]):\n",
        "    acceso = 1\n",
        "  elif (usuarios[username][\"rol\"]=='lector'):\n",
        "    acceso = 2\n",
        "  \n",
        "  return acceso"
      ],
      "execution_count": 91,
      "outputs": []
    },
    {
      "cell_type": "code",
      "metadata": {
        "id": "nAjk3LHUFnPY",
        "colab": {
          "base_uri": "https://localhost:8080/"
        },
        "outputId": "2492cfbc-a13f-4e47-f7bc-f53d74f1256d"
      },
      "source": [
        "print(\"== Tests nivel_de_acceso_para_username==\\n\")\n",
        "\n",
        "contador_de_tests = 0\n",
        "errores = 0\n",
        "\n",
        "contador_de_tests += 1\n",
        "errores = test_funcion(nivel_de_acceso_para_username, errores, contador_de_tests,\n",
        "                       parametros=[usuarios, \"manolito_garcia\", None], resultado_esperado=1)\n",
        "contador_de_tests += 1\n",
        "errores = test_funcion(nivel_de_acceso_para_username, errores, contador_de_tests,\n",
        "                       parametros=[usuarios, \"sebas_macaco_23\", 3594], resultado_esperado=1)\n",
        "contador_de_tests += 1\n",
        "errores = test_funcion(nivel_de_acceso_para_username, errores, contador_de_tests,\n",
        "                       parametros=[usuarios, \"jonny_bravo_estuvo_aqui\", 9999], resultado_esperado=0)\n",
        "contador_de_tests += 1\n",
        "errores = test_funcion(nivel_de_acceso_para_username, errores, contador_de_tests,\n",
        "                       parametros=[usuarios, \"pepe_le_pu_88\", None], resultado_esperado=2)\n",
        "contador_de_tests += 1\n",
        "errores = test_funcion(nivel_de_acceso_para_username, errores, contador_de_tests, \n",
        "                       parametros=[usuarios, \"alfonso_torres_69\", None], resultado_esperado=0)\n",
        "\n",
        "# Corre el siguiente código sólo si decidiste realizar el reto extra\n",
        "#\n",
        "contador_de_tests += 1\n",
        "errores = test_funcion(nivel_de_acceso_para_username, errores, contador_de_tests,\n",
        "                        parametros=[usuarios, \"los_yeah_yeahs_97\", 1345], resultado_esperado=0)\n",
        "\n",
        "print(f'\\nErrores encontrados: {errores}')"
      ],
      "execution_count": 93,
      "outputs": [
        {
          "output_type": "stream",
          "text": [
            "== Tests nivel_de_acceso_para_username==\n",
            "\n",
            "Test 1: Resultado esperado es `1`, obtuvimos `1`\n",
            "Test 2: Resultado esperado es `1`, obtuvimos `1`\n",
            "Test 3: Resultado esperado es `0`, obtuvimos `0`\n",
            "Test 4: Resultado esperado es `2`, obtuvimos `2`\n",
            "Test 5: Resultado esperado es `0`, obtuvimos `0`\n",
            "Test 6: Resultado esperado es `0`, obtuvimos `0`\n",
            "\n",
            "Errores encontrados: 0\n"
          ],
          "name": "stdout"
        }
      ]
    }
  ]
}