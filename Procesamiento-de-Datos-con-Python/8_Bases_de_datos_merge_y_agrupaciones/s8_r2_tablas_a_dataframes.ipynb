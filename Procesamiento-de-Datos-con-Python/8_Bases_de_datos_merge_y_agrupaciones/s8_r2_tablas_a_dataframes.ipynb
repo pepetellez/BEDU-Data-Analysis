{
  "nbformat": 4,
  "nbformat_minor": 0,
  "metadata": {
    "kernelspec": {
      "display_name": "Python (data_science)",
      "language": "python",
      "name": "data_science"
    },
    "language_info": {
      "codemirror_mode": {
        "name": "ipython",
        "version": 3
      },
      "file_extension": ".py",
      "mimetype": "text/x-python",
      "name": "python",
      "nbconvert_exporter": "python",
      "pygments_lexer": "ipython3",
      "version": "3.8.1"
    },
    "colab": {
      "name": "s8_r2_tablas_a_dataframes.ipynb",
      "provenance": [],
      "include_colab_link": true
    }
  },
  "cells": [
    {
      "cell_type": "markdown",
      "metadata": {
        "id": "view-in-github",
        "colab_type": "text"
      },
      "source": [
        "<a href=\"https://colab.research.google.com/github/pepetellez/BEDU-Data-Analysis/blob/main/Procesamiento-de-Datos-con-Python/8_Bases_de_datos_merge_y_agrupaciones/s8_r2_tablas_a_dataframes.ipynb\" target=\"_parent\"><img src=\"https://colab.research.google.com/assets/colab-badge.svg\" alt=\"Open In Colab\"/></a>"
      ]
    },
    {
      "cell_type": "markdown",
      "metadata": {
        "id": "pDA5kf8o7-_s"
      },
      "source": [
        "## Reto 2: Convertir tablas en MySQL a `DataFrames` de `pandas`\n",
        "\n",
        "### 1. Objetivos:\n",
        "    - Solicitar todos los datos de las tablas que están almacenadas en nuestra base de datos, convertirlos a `DataFrames` y guardarlos.\n",
        "    \n",
        "---\n",
        "    \n",
        "### 2. Desarrollo:"
      ]
    },
    {
      "cell_type": "markdown",
      "metadata": {
        "id": "6oGU3mvV7-_x"
      },
      "source": [
        "#### a) Tablas a `DataFrames`\n",
        "\n",
        "Ya que tenemos nuestra conexión funcionando adecuadamente, vamos a utilizarla para realizar consultas a las base de datos y construir una base de datos local. Tu Reto consiste en los siguientes pasos:\n",
        "\n",
        "1. Vuelve a establecer la conexión a la base de datos\n",
        "2. Usando el comando `SELECT * FROM nombre_de_tabla`, realiza consultas a cada una de las 5 tablas que existen en la base de datos.\n",
        "3. Crea un `DataFrame` por cada tabla que obtuviste. Para asignarle los nombres de las columnas correctamente, revisa el archivo [Readme.md](../../Datasets/MovieLens/Readme.md) donde está contenida toda esa información.\n",
        "4. Asegúrate de que el índice sea adecuado en cada `DataFrame`. En los casos en los que haya datos redundantes, convierte una de las columnas en índice.\n",
        "5. Si lo deseas ordena las columnas de la manera en la que mejor te parezca.\n",
        "6. Guarda tus `DataFrames` en formato .csv para utilizarlos en los siguientes Retos.\n",
        "\n",
        "> **NOTA IMPORTANTE**: La tabla movies es un poco complicada porque contiene muchos signos distintos. Tanto en la columna de nombre de película como la de género, encontramos signos como `,`, `:`, `.`, `|`. Esto hace un poco complicado el almacenamiento y lectura de este archivo. Si elijes guardar este archivo como un .csv separado por comas (`,`), a la hora de leerlo de regreso, `pandas` puede confundirse y pensar que el título de una película que contiene comas constituye dos columnas. Por esta razón, te recomiendo que la tabla `movies` la guardes agregando un separador poco convencional como `sep='$'`. De esta manera será muchísimo más fácil leer tu archivo de regreso usando ese separador."
      ]
    },
    {
      "cell_type": "code",
      "metadata": {
        "id": "Y1E9a6KA7-_y",
        "colab": {
          "base_uri": "https://localhost:8080/"
        },
        "outputId": "336506f4-633c-421c-84a6-9f88c12f9542"
      },
      "source": [
        "import mysql.connector\n",
        "import pandas as pd\n",
        "\n",
        "cnx = mysql.connector.connect(\n",
        "    host=\"ec2-34-221-84-140.us-west-2.compute.amazonaws.com\",\n",
        "    port=3306,\n",
        "    user=\"data\",\n",
        "    password=\"khQ9--mp6LWq97iA\",\n",
        "    database=\"movielens\",\n",
        ")\n",
        "\n",
        "cursor = cnx.cursor()\n",
        "cursor.execute(\"SHOW TABLES\")\n",
        "cursor.fetchall()\n",
        " \n",
        "# movies\n",
        "cursor.execute(\"SELECT * FROM movies\")\n",
        "result = cursor.fetchall()\n",
        "movies = pd.DataFrame(result, columns=['movie_id', 'title', 'genres'])\n",
        "movies = movies.set_index('movie_id', drop=True)\n",
        "print(movies)\n",
        " \n",
        "# users\n",
        "cursor.execute(\"SELECT * FROM users\")\n",
        "result = cursor.fetchall()\n",
        "users = pd.DataFrame(result, columns=['user_id', 'gender', 'age', 'occupation', 'cp'])\n",
        "users = users.set_index('user_id', drop=True)\n",
        "print(users)\n",
        " \n",
        "# ratings\n",
        "cursor.execute(\"SELECT * FROM ratings\")\n",
        "result = cursor.fetchall()\n",
        "ratings = pd.DataFrame(result, columns=['user_id', 'movie_id', 'rating', 'timestamp'])\n",
        "print(ratings)\n",
        " \n",
        "# age ranges\n",
        "cursor.execute(\"SELECT * FROM age_ranges\")\n",
        "result = cursor.fetchall()\n",
        "age_ranges = pd.DataFrame(result, columns=['age_id', 'range'])\n",
        "age_ranges = age_ranges.set_index('age_id', drop=True)\n",
        "print(age_ranges)\n",
        " \n",
        "# occupations\n",
        "cursor.execute(\"SELECT * FROM occupations\")\n",
        "result = cursor.fetchall()\n",
        "occupations = pd.DataFrame(result, columns=['occupation_id', 'description'])\n",
        "occupations = occupations.set_index('occupation_id', drop=True)\n",
        "print(occupations)\n",
        " \n",
        "cursor.close()\n",
        " \n",
        "movies.to_csv(r'drive/MyDrive/movies.csv')\n",
        "users.to_csv(r'drive/MyDrive/users.csv')\n",
        "ratings.to_csv(r'drive/MyDrive/ratings.csv')\n",
        "age_ranges.to_csv(r'drive/MyDrive/age_ranges.csv')\n",
        "occupations.to_csv(r'drive/MyDrive/occupation.csv')"
      ],
      "execution_count": 8,
      "outputs": [
        {
          "output_type": "stream",
          "text": [
            "                                       title                        genres\n",
            "movie_id                                                                  \n",
            "1                           Toy Story (1995)   Animation|Children's|Comedy\n",
            "2                             Jumanji (1995)  Adventure|Children's|Fantasy\n",
            "3                    Grumpier Old Men (1995)                Comedy|Romance\n",
            "4                   Waiting to Exhale (1995)                  Comedy|Drama\n",
            "5         Father of the Bride Part II (1995)                        Comedy\n",
            "...                                      ...                           ...\n",
            "3948                 Meet the Parents (2000)                        Comedy\n",
            "3949              Requiem for a Dream (2000)                         Drama\n",
            "3950                        Tigerland (2000)                         Drama\n",
            "3951                 Two Family House (2000)                         Drama\n",
            "3952                   Contender, The (2000)                Drama|Thriller\n",
            "\n",
            "[3883 rows x 2 columns]\n",
            "        gender  age  occupation     cp\n",
            "user_id                               \n",
            "1            F    1          10  48067\n",
            "2            M   56          16  70072\n",
            "3            M   25          15  55117\n",
            "4            M   45           7  02460\n",
            "5            M   25          20  55455\n",
            "...        ...  ...         ...    ...\n",
            "6036         F   25          15  32603\n",
            "6037         F   45           1  76006\n",
            "6038         F   56           1  14706\n",
            "6039         F   45           0  01060\n",
            "6040         M   25           6  11106\n",
            "\n",
            "[6040 rows x 4 columns]\n",
            "         user_id  movie_id  rating  timestamp\n",
            "0              1      1193       5  978300760\n",
            "1              1       661       3  978302109\n",
            "2              1       914       3  978301968\n",
            "3              1      3408       4  978300275\n",
            "4              1      2355       5  978824291\n",
            "...          ...       ...     ...        ...\n",
            "1000204     6040      1091       1  956716541\n",
            "1000205     6040      1094       5  956704887\n",
            "1000206     6040       562       5  956704746\n",
            "1000207     6040      1096       4  956715648\n",
            "1000208     6040      1097       4  956715569\n",
            "\n",
            "[1000209 rows x 4 columns]\n",
            "           range\n",
            "age_id          \n",
            "1       Under 18\n",
            "18         18-24\n",
            "25         25-34\n",
            "35         35-44\n",
            "45         45-49\n",
            "50         50-55\n",
            "56           56+\n",
            "                          description\n",
            "occupation_id                        \n",
            "0              other or not specified\n",
            "1                   academic/educator\n",
            "2                              artist\n",
            "3                      clerical/admin\n",
            "4                college/grad student\n",
            "5                    customer service\n",
            "6                  doctor/health care\n",
            "7                executive/managerial\n",
            "8                              farmer\n",
            "9                           homemaker\n",
            "10                       K-12 student\n",
            "11                             lawyer\n",
            "12                         programmer\n",
            "13                            retired\n",
            "14                    sales/marketing\n",
            "15                          scientist\n",
            "16                      self-employed\n",
            "17                technician/engineer\n",
            "18                tradesman/craftsman\n",
            "19                         unemployed\n",
            "20                             writer\n"
          ],
          "name": "stdout"
        }
      ]
    },
    {
      "cell_type": "markdown",
      "metadata": {
        "id": "rgQ-zIS77-_y"
      },
      "source": [
        "Compara con tus compañeros y revisa con la experta para que todos estén seguros de que tienen sus `DataFrames` estructurados de la manera correcta y que sus archivos .csv fueron creados exitosamente. Vamos a utilizar estos archivos en los Retos siguientes, así que es muy importante que tus datos estén estructurados adecuadamente."
      ]
    },
    {
      "cell_type": "markdown",
      "metadata": {
        "id": "iHuuYIkh7-_y"
      },
      "source": [
        "<details><summary>Solución</summary>\n",
        "\n",
        "```python\n",
        "import mysql.connector\n",
        "cnx = mysql.connector.connect(\n",
        "    host=\"host_que_te_indique_la_experta\",\n",
        "    port=3306,\n",
        "    user=\"usuario_que_te_indique_la_experta\",\n",
        "    password='contraseña_que_te_indique_la_experta',\n",
        "    database='movielens'\n",
        ")\n",
        "cursor = cnx.cursor()\n",
        "cursor.execute(\"SHOW TABLES\")\n",
        "cursor.fetchall()\n",
        "    \n",
        "# movies\n",
        "cursor.execute(\"SELECT * FROM movies\")\n",
        "result = cursor.fetchall()\n",
        "movies = pd.DataFrame(result, columns=['movie_id', 'title', 'genres'])\n",
        "movies = movies.set_index('movie_id', drop=True)\n",
        "    \n",
        "# users\n",
        "cursor.execute(\"SELECT * FROM users\")\n",
        "result = cursor.fetchall()\n",
        "users = pd.DataFrame(result, columns=['user_id', 'gender', 'age', 'occupation', 'cp'])\n",
        "users = users.set_index('user_id', drop=True)\n",
        "\n",
        "# ratings\n",
        "cursor.execute(\"SELECT * FROM ratings\")\n",
        "result = cursor.fetchall()\n",
        "ratings = pd.DataFrame(result, columns=['user_id', 'movie_id', 'rating', 'timestamp'])\n",
        "\n",
        "# age ranges\n",
        "cursor.execute(\"SELECT * FROM age_ranges\")\n",
        "result = cursor.fetchall()\n",
        "age_ranges = pd.DataFrame(result, columns=['age_id', 'range'])\n",
        "age_ranges = age_ranges.set_index('age_id', drop=True)\n",
        "\n",
        "# occupations\n",
        "cursor.execute(\"SELECT * FROM occupations\")\n",
        "result = cursor.fetchall()\n",
        "occupations = pd.DataFrame(result, columns=['occupation_id', 'description'])\n",
        "occupations = occupations.set_index('occupation_id', drop=True)\n",
        "    \n",
        "cursor.close()\n",
        "    \n",
        "movies.to_csv('ruta')\n",
        "users.to_csv('ruta')\n",
        "ratings.to_csv('ruta')\n",
        "age_ranges.to_csv('ruta')\n",
        "occupations.to_csv('ruta')\n",
        "```\n",
        "    \n",
        "</details>"
      ]
    },
    {
      "cell_type": "code",
      "metadata": {
        "id": "H3tjzbb-7-_z"
      },
      "source": [
        ""
      ],
      "execution_count": 1,
      "outputs": []
    }
  ]
}