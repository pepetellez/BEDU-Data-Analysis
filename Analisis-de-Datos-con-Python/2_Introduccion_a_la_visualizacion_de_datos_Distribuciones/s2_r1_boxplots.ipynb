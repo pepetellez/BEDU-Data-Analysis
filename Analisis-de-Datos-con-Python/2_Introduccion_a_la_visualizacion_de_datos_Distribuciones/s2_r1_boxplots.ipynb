{
  "nbformat": 4,
  "nbformat_minor": 0,
  "metadata": {
    "kernelspec": {
      "display_name": "Python (data_science)",
      "language": "python",
      "name": "data_science"
    },
    "language_info": {
      "codemirror_mode": {
        "name": "ipython",
        "version": 3
      },
      "file_extension": ".py",
      "mimetype": "text/x-python",
      "name": "python",
      "nbconvert_exporter": "python",
      "pygments_lexer": "ipython3",
      "version": "3.8.5"
    },
    "colab": {
      "name": "s2_r1_boxplots.ipynb",
      "provenance": [],
      "include_colab_link": true
    }
  },
  "cells": [
    {
      "cell_type": "markdown",
      "metadata": {
        "id": "view-in-github",
        "colab_type": "text"
      },
      "source": [
        "<a href=\"https://colab.research.google.com/github/pepetellez/BEDU-Data-Analysis/blob/main/Analisis-de-Datos-con-Python/2_Introduccion_a_la_visualizacion_de_datos_Distribuciones/s2_r1_boxplots.ipynb\" target=\"_parent\"><img src=\"https://colab.research.google.com/assets/colab-badge.svg\" alt=\"Open In Colab\"/></a>"
      ]
    },
    {
      "cell_type": "markdown",
      "metadata": {
        "id": "FAVZ0Is52Ejg"
      },
      "source": [
        "## Reto 1: Boxplots\n",
        "\n",
        "### 1. Objetivos:\n",
        "    - Aprender a graficar e interpretar boxplots utilizando Seaborn\n",
        "    - Aprender a lidiar con valores atípicos usando IQR-Score\n",
        " \n",
        "---\n",
        "    \n",
        "### 2. Desarrollo:"
      ]
    },
    {
      "cell_type": "markdown",
      "metadata": {
        "id": "aXJqg4vW2Ejq"
      },
      "source": [
        "#### a) Usando boxplots para analizar la distribución de nuestros datos\n",
        "\n",
        "Vamos a hacer algunas gráficas de boxplot y describirlas en equipo. Usa Seaborn para generar gráficas boxplot de los siguientes datasets y columnas:\n",
        "\n",
        "1. Dataset: 'near_earth_objects-jan_feb_1995-clean.csv'\n",
        "    - Columnas a graficar: 'estimated_diameter.meters.estimated_diameter_max' y 'relative_velocity.kilometers_per_second'\n",
        "2. Dataset: 'new_york_times_bestsellers-clean.json'\n",
        "    - Columnas a graficar: 'price.numberDouble'\n",
        "3. Dataset: 'melbourne_housing-clean.csv'\n",
        "    - Columnas a graficar: 'land_size'\n",
        "    \n",
        "> Para conocer más detalles acerca de estos datasets, ve a Datasets/Readme.md y visita los links de las fuentes de donde provienen. Es una gran idea hacer esto para que entiendas el contexto alrededor de los análisis que vamos a estar realizando.\n",
        "    \n",
        "Realiza estas 4 visualizaciones y comenta con la experta y tus compañeros qué conclusiones o hipótesis podemos hacer sobre nuestros datos. Para profundizar en el análisis puedes obtener también el rango, la mediana, el valor mínimo y máximo, el percentil 25 y el percentil 75. De esta manera tendrás valores concretos con los que realizar tu análisis."
      ]
    },
    {
      "cell_type": "code",
      "metadata": {
        "id": "cKKzzepp2u5p",
        "colab": {
          "base_uri": "https://localhost:8080/"
        },
        "outputId": "bfcf515c-6649-47bf-b296-953cca4511b1"
      },
      "source": [
        "from google.colab import drive\n",
        "drive.mount('/content/drive')"
      ],
      "execution_count": 3,
      "outputs": [
        {
          "output_type": "stream",
          "text": [
            "Mounted at /content/drive\n"
          ],
          "name": "stdout"
        }
      ]
    },
    {
      "cell_type": "code",
      "metadata": {
        "colab": {
          "base_uri": "https://localhost:8080/",
          "height": 303
        },
        "id": "dM4v8edA2Ejs",
        "outputId": "fe5c108c-a4c0-483b-cfff-c2114a9030d4"
      },
      "source": [
        "# Tu código va aquí\n",
        "import pandas as pd\n",
        "import matplotlib.pyplot as plt\n",
        "import seaborn as sns\n",
        "\n",
        "near_objects = pd.read_csv(\"/content/drive/MyDrive/Datasets/near_earth_objects-jan_feb_1995-clean.csv\", index_col = 0)\n",
        "bestsellers = pd.read_json(\"/content/drive/MyDrive/Datasets/new_york_times_bestsellers-clean.json\")\n",
        "melbourne_housing = pd.read_csv(\"/content/drive/MyDrive/Datasets/melbourne_housing-clean.csv\", index_col = 0)\n",
        "\n",
        "sns.set(style=\"whitegrid\")\n",
        "\n",
        "sns.boxplot(x=near_objects[\"estimated_diameter.meters.estimated_diameter_max\"])\n",
        "plt.axvline(near_objects[\"estimated_diameter.meters.estimated_diameter_max\"].mean(), c=\"y\")"
      ],
      "execution_count": 4,
      "outputs": [
        {
          "output_type": "execute_result",
          "data": {
            "text/plain": [
              "<matplotlib.lines.Line2D at 0x7ff55f910710>"
            ]
          },
          "metadata": {
            "tags": []
          },
          "execution_count": 4
        },
        {
          "output_type": "display_data",
          "data": {
            "image/png": "[encoded data removed]",
            "text/plain": [
              "<Figure size 432x288 with 1 Axes>"
            ]
          },
          "metadata": {
            "tags": []
          }
        }
      ]
    },
    {
      "cell_type": "code",
      "metadata": {
        "id": "lS3Br1eW46cs",
        "colab": {
          "base_uri": "https://localhost:8080/",
          "height": 303
        },
        "outputId": "eaaa367e-f0ee-49a7-8990-af4162c0d5ec"
      },
      "source": [
        "sns.boxplot(x=near_objects[\"relative_velocity.kilometers_per_second\"])\n",
        "plt.axvline(near_objects[\"relative_velocity.kilometers_per_second\"].mean(), c=\"y\")"
      ],
      "execution_count": 5,
      "outputs": [
        {
          "output_type": "execute_result",
          "data": {
            "text/plain": [
              "<matplotlib.lines.Line2D at 0x7ff55fa242d0>"
            ]
          },
          "metadata": {
            "tags": []
          },
          "execution_count": 5
        },
        {
          "output_type": "display_data",
          "data": {
            "image/png": "[encoded data removed]",
            "text/plain": [
              "<Figure size 432x288 with 1 Axes>"
            ]
          },
          "metadata": {
            "tags": []
          }
        }
      ]
    },
    {
      "cell_type": "code",
      "metadata": {
        "id": "mH_SFz3U46z1",
        "colab": {
          "base_uri": "https://localhost:8080/",
          "height": 303
        },
        "outputId": "7f6f478a-1bff-49ad-88c5-250e4ed4f63d"
      },
      "source": [
        "sns.boxplot(x=bestsellers[\"price.numberDouble\"])\n",
        "plt.axvline(bestsellers[\"price.numberDouble\"].mean(), c=\"y\")"
      ],
      "execution_count": 6,
      "outputs": [
        {
          "output_type": "execute_result",
          "data": {
            "text/plain": [
              "<matplotlib.lines.Line2D at 0x7ff55f967290>"
            ]
          },
          "metadata": {
            "tags": []
          },
          "execution_count": 6
        },
        {
          "output_type": "display_data",
          "data": {
            "image/png": "[encoded data removed]",
            "text/plain": [
              "<Figure size 432x288 with 1 Axes>"
            ]
          },
          "metadata": {
            "tags": []
          }
        }
      ]
    },
    {
      "cell_type": "code",
      "metadata": {
        "id": "yrX7aZyh5IxX",
        "colab": {
          "base_uri": "https://localhost:8080/",
          "height": 303
        },
        "outputId": "1a6345d3-c722-46a3-8be5-9b5d6c2a17b2"
      },
      "source": [
        "sns.boxplot(x=melbourne_housing[\"land_size\"])\n",
        "plt.axvline(melbourne_housing[\"land_size\"].mean(), c=\"y\")"
      ],
      "execution_count": 7,
      "outputs": [
        {
          "output_type": "execute_result",
          "data": {
            "text/plain": [
              "<matplotlib.lines.Line2D at 0x7ff555a0f710>"
            ]
          },
          "metadata": {
            "tags": []
          },
          "execution_count": 7
        },
        {
          "output_type": "display_data",
          "data": {
            "image/png": "[encoded data removed]",
            "text/plain": [
              "<Figure size 432x288 with 1 Axes>"
            ]
          },
          "metadata": {
            "tags": []
          }
        }
      ]
    },
    {
      "cell_type": "markdown",
      "metadata": {
        "id": "XGAVznww2Ejs"
      },
      "source": [
        "#### b) Eliminando valores atípicos\n",
        "\n",
        "A partir de las visualizaciones que realizaste en el punto anterior, decide en cuáles columnas tenemos valores atípicos que pueden estorbarnos en nuestro análisis. Elimina dichos valores atípicos usando el Score de Rango Intercuartílico. Puedes probar variando un poco la medida del Score (1.5 * IQR) para eliminar solamente los valores que tú consideras como extremos.\n",
        "\n",
        "Para observar los cambios a detalle, obtén la mediana, la media y la desviación estándar de tus datos *antes* y *después* de eliminar los valores atípicos. Compara estos valores y explica qué es lo que está pasando.\n",
        "\n",
        "Grafica de nuevo tus datos sin valores atípicos para compararlos con las gráficas anteriores.\n",
        "\n",
        "Comenta con la experta y tus compañeros tus hallazgos."
      ]
    },
    {
      "cell_type": "code",
      "metadata": {
        "colab": {
          "base_uri": "https://localhost:8080/"
        },
        "id": "u8GiYYka2Ejt",
        "outputId": "fadea282-2c01-4a4f-ed77-05ee9069eb32"
      },
      "source": [
        "# Tu código va aquí\n",
        "def cuartiles(serie):\n",
        "  iqr = serie.quantile(0.75) - serie.quantile(0.25)\n",
        "  filtro_inferior = serie > serie.quantile(0.25) - (iqr*1.5)\n",
        "  filtro_superior = serie < serie.quantile(0.75) + (iqr*1.5)\n",
        "\n",
        "  serie_filtrada = serie[filtro_inferior & filtro_superior]\n",
        "  print(\"-Serie con valores atípicos\")\n",
        "  print(\"Media: \", serie.mean())\n",
        "  print(\"Mediana: \", serie.median())\n",
        "  print(\"Desviación estandar: \", serie.std())\n",
        "  print(\"-Serie sin valores atípicos\")\n",
        "  print(\"Media: \", serie_filtrada.mean())\n",
        "  print(\"Mediana: \", serie_filtrada.median())\n",
        "  print(\"Desviación estandar: \", serie_filtrada.std(), \"\\n\")\n",
        "  #return serie_filtrada\n",
        "\n",
        "cuartiles(near_objects[\"estimated_diameter.meters.estimated_diameter_max\"])\n",
        "cuartiles(near_objects[\"relative_velocity.kilometers_per_second\"])\n",
        "cuartiles(bestsellers[\"price.numberDouble\"])\n",
        "cuartiles(melbourne_housing[\"land_size\"])\n",
        "\n"
      ],
      "execution_count": 18,
      "outputs": [
        {
          "output_type": "stream",
          "text": [
            "-Serie con valores atípicos\n",
            "Media:  410.0860422397653\n",
            "Mediana:  215.7943048444\n",
            "Desviación estandar:  614.691591855223\n",
            "-Serie sin valores atípicos\n",
            "Media:  297.2022048575498\n",
            "Mediana:  196.80674508939998\n",
            "Desviación estandar:  292.3200469017904 \n",
            "\n",
            "-Serie con valores atípicos\n",
            "Media:  14.98422791317087\n",
            "Mediana:  14.257165835699999\n",
            "Desviación estandar:  7.995994189625905\n",
            "-Serie sin valores atípicos\n",
            "Media:  14.373121188669446\n",
            "Mediana:  14.043307107250001\n",
            "Desviación estandar:  7.193906375439838 \n",
            "\n",
            "-Serie con valores atípicos\n",
            "Media:  26.8183679525219\n",
            "Mediana:  26.95\n",
            "Desviación estandar:  1.7877201897118788\n",
            "-Serie sin valores atípicos\n",
            "Media:  26.94963389830466\n",
            "Mediana:  26.99\n",
            "Desviación estandar:  1.3340443261095547 \n",
            "\n",
            "-Serie con valores atípicos\n",
            "Media:  554.4580972007557\n",
            "Mediana:  412.0\n",
            "Desviación estandar:  1460.432326429981\n",
            "-Serie sin valores atípicos\n",
            "Media:  393.3221145052131\n",
            "Mediana:  368.0\n",
            "Desviación estandar:  290.90216445879526 \n",
            "\n"
          ],
          "name": "stdout"
        }
      ]
    },
    {
      "cell_type": "code",
      "metadata": {
        "id": "oWZUYtI56n7z"
      },
      "source": [
        ""
      ],
      "execution_count": 8,
      "outputs": []
    }
  ]
}