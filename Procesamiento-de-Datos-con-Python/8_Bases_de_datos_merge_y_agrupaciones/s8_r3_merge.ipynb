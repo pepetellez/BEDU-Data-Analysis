{
  "nbformat": 4,
  "nbformat_minor": 0,
  "metadata": {
    "kernelspec": {
      "display_name": "Python (data_science)",
      "language": "python",
      "name": "data_science"
    },
    "language_info": {
      "codemirror_mode": {
        "name": "ipython",
        "version": 3
      },
      "file_extension": ".py",
      "mimetype": "text/x-python",
      "name": "python",
      "nbconvert_exporter": "python",
      "pygments_lexer": "ipython3",
      "version": "3.8.1"
    },
    "colab": {
      "name": "s8_r3_merge.ipynb",
      "provenance": [],
      "include_colab_link": true
    }
  },
  "cells": [
    {
      "cell_type": "markdown",
      "metadata": {
        "id": "view-in-github",
        "colab_type": "text"
      },
      "source": [
        "<a href=\"https://colab.research.google.com/github/pepetellez/BEDU-Data-Analysis/blob/main/Procesamiento-de-Datos-con-Python/8_Bases_de_datos_merge_y_agrupaciones/s8_r3_merge.ipynb\" target=\"_parent\"><img src=\"https://colab.research.google.com/assets/colab-badge.svg\" alt=\"Open In Colab\"/></a>"
      ]
    },
    {
      "cell_type": "markdown",
      "metadata": {
        "id": "nMM2yWIf7_mN"
      },
      "source": [
        "## Reto 3: `merge` para completar información faltante\n",
        "\n",
        "### 1. Objetivos:\n",
        "    - Completar la tabla `users` usando la información contenida en las tablas `occupations` y `age_ranges`.\n",
        "    \n",
        "---\n",
        "    \n",
        "### 2. Desarrollo:"
      ]
    },
    {
      "cell_type": "markdown",
      "metadata": {
        "id": "QvEbYhtz7_mS"
      },
      "source": [
        "#### a) Complementado información usando el método `merge`\n",
        "\n",
        "No es muy práctico tener las tablas `occupations` y `age_range` por sí solas, ya que la información que contienen está íntimamente relacionada con al información de la tabla `users`. Vamos entonces a unir las tres tablas en una sola tabla para tener esa información mucho más accesible. Tu Reto consiste en los siguientes pasos:\n",
        "\n",
        "1. Lee tus archivos `users`, `occupations` y `age_range` (o como sea que les quisiste llamar) y conviértelos en `DataFrames`.\n",
        "2. Utiliza el método `merge` para agregar la información contenida en la tabla `occupations` a la tabla `users`.\n",
        "3. Utiliza el método `merge` para agregar la información contenida en la tabla `age_ranges` a la tabla `users`.\n",
        "4. Si lo consideras necesario, renombra y reordena las columnas para que la información sea clara.\n",
        "5. Guarda tu nuevo conjunto de datos en un nuevo archivo .csv."
      ]
    },
    {
      "cell_type": "code",
      "metadata": {
        "colab": {
          "base_uri": "https://localhost:8080/"
        },
        "id": "8s8L1TBTF6oM",
        "outputId": "98d5b5db-9deb-4a04-e2f4-2cf29170dc1e"
      },
      "source": [
        "from google.colab import drive\n",
        "drive.mount('/content/drive')"
      ],
      "execution_count": 1,
      "outputs": [
        {
          "output_type": "stream",
          "text": [
            "Mounted at /content/drive\n"
          ],
          "name": "stdout"
        }
      ]
    },
    {
      "cell_type": "code",
      "metadata": {
        "id": "3h-bvJpz7_mT",
        "colab": {
          "base_uri": "https://localhost:8080/",
          "height": 402
        },
        "outputId": "3c89a069-df71-49f6-d49d-fb398c3f96bc"
      },
      "source": [
        "import pandas as pd\n",
        "\n",
        "users = pd.read_csv(r'drive/MyDrive/users.csv', index_col=0, names=['gender', 'age', 'occupation', 'cp'])\n",
        "occupations = pd.read_csv(r'drive/MyDrive/occupation.csv', index_col=0, names=['description'])\n",
        "age_ranges  = pd.read_csv(r'drive/MyDrive/age_ranges.csv', index_col=0, names=['age_id', 'range'])    \n",
        " \n",
        "users_full = pd.merge(users, occupations, left_on='occupation', right_index=True).sort_index()\n",
        "users_full = users_full.rename(columns={'description': 'occupation', 'occupation': 'occupation_id'})\n",
        "\n",
        "users_full = pd.merge(users_full, age_ranges, left_on='age', right_index=True).sort_index()\n",
        "users_full = users_full.rename(columns={'age': 'age_id', 'range': 'age_range'})\n",
        "\n",
        "users_full = users_full[['gender', 'age_id', 'age_range', 'occupation_id', 'occupation', 'cp' ]]\n",
        "\n",
        "users_full.to_csv(r'drive/MyDrive/users_full.csv')\n",
        "users_full"
      ],
      "execution_count": 7,
      "outputs": [
        {
          "output_type": "execute_result",
          "data": {
            "text/html": [
              "<div>\n",
              "<style scoped>\n",
              "    .dataframe tbody tr th:only-of-type {\n",
              "        vertical-align: middle;\n",
              "    }\n",
              "\n",
              "    .dataframe tbody tr th {\n",
              "        vertical-align: top;\n",
              "    }\n",
              "\n",
              "    .dataframe thead th {\n",
              "        text-align: right;\n",
              "    }\n",
              "</style>\n",
              "<table border=\"1\" class=\"dataframe\">\n",
              "  <thead>\n",
              "    <tr style=\"text-align: right;\">\n",
              "      <th></th>\n",
              "      <th>gender</th>\n",
              "      <th>age_id</th>\n",
              "      <th>age_range</th>\n",
              "      <th>occupation_id</th>\n",
              "      <th>occupation</th>\n",
              "      <th>cp</th>\n",
              "    </tr>\n",
              "  </thead>\n",
              "  <tbody>\n",
              "    <tr>\n",
              "      <th>1</th>\n",
              "      <td>F</td>\n",
              "      <td>1</td>\n",
              "      <td>Under 18</td>\n",
              "      <td>10</td>\n",
              "      <td>K-12 student</td>\n",
              "      <td>48067</td>\n",
              "    </tr>\n",
              "    <tr>\n",
              "      <th>10</th>\n",
              "      <td>F</td>\n",
              "      <td>35</td>\n",
              "      <td>35-44</td>\n",
              "      <td>1</td>\n",
              "      <td>academic/educator</td>\n",
              "      <td>95370</td>\n",
              "    </tr>\n",
              "    <tr>\n",
              "      <th>100</th>\n",
              "      <td>M</td>\n",
              "      <td>35</td>\n",
              "      <td>35-44</td>\n",
              "      <td>17</td>\n",
              "      <td>technician/engineer</td>\n",
              "      <td>95401</td>\n",
              "    </tr>\n",
              "    <tr>\n",
              "      <th>1000</th>\n",
              "      <td>F</td>\n",
              "      <td>25</td>\n",
              "      <td>25-34</td>\n",
              "      <td>6</td>\n",
              "      <td>doctor/health care</td>\n",
              "      <td>90027</td>\n",
              "    </tr>\n",
              "    <tr>\n",
              "      <th>1001</th>\n",
              "      <td>M</td>\n",
              "      <td>25</td>\n",
              "      <td>25-34</td>\n",
              "      <td>4</td>\n",
              "      <td>college/grad student</td>\n",
              "      <td>90210</td>\n",
              "    </tr>\n",
              "    <tr>\n",
              "      <th>...</th>\n",
              "      <td>...</td>\n",
              "      <td>...</td>\n",
              "      <td>...</td>\n",
              "      <td>...</td>\n",
              "      <td>...</td>\n",
              "      <td>...</td>\n",
              "    </tr>\n",
              "    <tr>\n",
              "      <th>995</th>\n",
              "      <td>F</td>\n",
              "      <td>18</td>\n",
              "      <td>18-24</td>\n",
              "      <td>4</td>\n",
              "      <td>college/grad student</td>\n",
              "      <td>96803</td>\n",
              "    </tr>\n",
              "    <tr>\n",
              "      <th>996</th>\n",
              "      <td>M</td>\n",
              "      <td>25</td>\n",
              "      <td>25-34</td>\n",
              "      <td>17</td>\n",
              "      <td>technician/engineer</td>\n",
              "      <td>98102</td>\n",
              "    </tr>\n",
              "    <tr>\n",
              "      <th>997</th>\n",
              "      <td>M</td>\n",
              "      <td>1</td>\n",
              "      <td>Under 18</td>\n",
              "      <td>19</td>\n",
              "      <td>unemployed</td>\n",
              "      <td>15748</td>\n",
              "    </tr>\n",
              "    <tr>\n",
              "      <th>998</th>\n",
              "      <td>M</td>\n",
              "      <td>45</td>\n",
              "      <td>45-49</td>\n",
              "      <td>20</td>\n",
              "      <td>writer</td>\n",
              "      <td>10019</td>\n",
              "    </tr>\n",
              "    <tr>\n",
              "      <th>999</th>\n",
              "      <td>M</td>\n",
              "      <td>25</td>\n",
              "      <td>25-34</td>\n",
              "      <td>15</td>\n",
              "      <td>scientist</td>\n",
              "      <td>62558</td>\n",
              "    </tr>\n",
              "  </tbody>\n",
              "</table>\n",
              "<p>6040 rows × 6 columns</p>\n",
              "</div>"
            ],
            "text/plain": [
              "     gender age_id age_range occupation_id            occupation     cp\n",
              "1         F      1  Under 18            10          K-12 student  48067\n",
              "10        F     35     35-44             1     academic/educator  95370\n",
              "100       M     35     35-44            17   technician/engineer  95401\n",
              "1000      F     25     25-34             6    doctor/health care  90027\n",
              "1001      M     25     25-34             4  college/grad student  90210\n",
              "...     ...    ...       ...           ...                   ...    ...\n",
              "995       F     18     18-24             4  college/grad student  96803\n",
              "996       M     25     25-34            17   technician/engineer  98102\n",
              "997       M      1  Under 18            19            unemployed  15748\n",
              "998       M     45     45-49            20                writer  10019\n",
              "999       M     25     25-34            15             scientist  62558\n",
              "\n",
              "[6040 rows x 6 columns]"
            ]
          },
          "metadata": {
            "tags": []
          },
          "execution_count": 7
        }
      ]
    },
    {
      "cell_type": "markdown",
      "metadata": {
        "id": "JAhVGvOP7_mT"
      },
      "source": [
        "Compara tus resultados con tus compañeros y tu experta para asegurarse de que todos tengan un conjunto similar que contenga toda la información requerida."
      ]
    },
    {
      "cell_type": "markdown",
      "metadata": {
        "id": "-Za6vCDq7_mT"
      },
      "source": [
        "<details><summary>Solución</summary>\n",
        "\n",
        "```python\n",
        "users = pd.read_csv('../../Datasets/MovieLens/users-raw.csv', index_col=0, names=['gender', 'age', 'occupation', 'cp'])\n",
        "occupations = pd.read_csv('../../Datasets/MovieLens/occupations-raw.csv', index_col=0, names=['description'])\n",
        "age_ranges  = pd.read_csv('../../Datasets/MovieLens/age_ranges-raw.csv', index_col=0, names=['age_id', 'range'])    \n",
        "    \n",
        "users_full = pd.merge(users, occupations, left_on='occupation', right_index=True).sort_index()\n",
        "users_full = users_full.rename(columns={'description': 'occupation', 'occupation': 'occupation_id'})\n",
        "users_full = pd.merge(users_full, age_ranges, left_on='age', right_index=True).sort_index()\n",
        "users_full = users_full.rename(columns={'age': 'age_id', 'range': 'age_range'})\n",
        "users_full = users_full[['gender', 'age_id', 'age_range', 'occupation_id', 'occupation', 'cp' ]]\n",
        "users_full.to_csv('ruta')\n",
        "```\n",
        "    \n",
        "</details>"
      ]
    }
  ]
}