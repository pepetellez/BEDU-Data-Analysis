{
  "nbformat": 4,
  "nbformat_minor": 0,
  "metadata": {
    "kernelspec": {
      "display_name": "Python (data_science)",
      "language": "python",
      "name": "data_science"
    },
    "language_info": {
      "codemirror_mode": {
        "name": "ipython",
        "version": 3
      },
      "file_extension": ".py",
      "mimetype": "text/x-python",
      "name": "python",
      "nbconvert_exporter": "python",
      "pygments_lexer": "ipython3",
      "version": "3.8.1"
    },
    "colab": {
      "name": "s5_r5_limpiando_un_dataset.ipynb",
      "provenance": [],
      "include_colab_link": true
    }
  },
  "cells": [
    {
      "cell_type": "markdown",
      "metadata": {
        "id": "view-in-github",
        "colab_type": "text"
      },
      "source": [
        "<a href=\"https://colab.research.google.com/github/pepetellez/BEDU-Data-Analysis/blob/main/Procesamiento-de-Datos-con-Python/5_Funciones_Vectorizadas_y_Limpieza_de_Datos/s5_r5_limpiando_un_dataset.ipynb\" target=\"_parent\"><img src=\"https://colab.research.google.com/assets/colab-badge.svg\" alt=\"Open In Colab\"/></a>"
      ]
    },
    {
      "cell_type": "markdown",
      "metadata": {
        "id": "Ussd7r6tdSuQ"
      },
      "source": [
        "## Reto 5: Limpiando un dataset\n",
        "\n",
        "### 1. Objetivos:\n",
        "    - Aplicar todo lo que aprendimos el día de hoy a un dataset real\n",
        " \n",
        "---\n",
        "    \n",
        "### 2. Desarrollo:"
      ]
    },
    {
      "cell_type": "markdown",
      "metadata": {
        "id": "6iTOjDIvdSuV"
      },
      "source": [
        "#### a) Limpieza de datos en el mundo real\n",
        "\n",
        "Hasta ahora hemos estado realizando ejercicios con datasets dummy (falsos). Ahora vamos a aplicar todo lo que hemos aprendido el día de hoy a un dataset real.\n",
        "\n",
        "El dataset se encuentra en la carpeta [Datasets](../../Datasets/Readme.md) en la raíz del repositorio. El nombre el dataset es 'melbourne_housing-raw.csv'.\n",
        "\n",
        "Lee el dataset usando pandas y realiza las siguientes tareas:\n",
        "\n",
        "1. Ve a este [link](https://www.kaggle.com/anthonypino/melbourne-housing-market) para conocer más sobre el dataset y los datos que contiene.\n",
        "2. Explora tu dataset para entender su estructura\n",
        "3. Identifica los `NaNs` en el dataset y dónde se encuentran\n",
        "4. Elimina los `NaNs` de tu dataset\n",
        "5. Resetea tu índice para que sea compatible con el nuevo dataset\n",
        "6. Cambia los nombres de las columnas para que tengan consistencia y no haya errores ortográficos\n",
        "7. Realiza agregaciones (min, man, mean, etc) de las siguientes filas para conocer mejor la distribución de tus datos:\n",
        "    a) Price\n",
        "    b) Distance\n",
        "    c) Landsize\n",
        "    \n",
        "Si tienes dudas en algún momento, por favor pídele a la experta que te oriente. Todas las tareas que hay que realizar ya las hemos hecho en otros retos; puedes ir a revisar esos otros ejercicios para recordar.\n",
        "\n",
        "¡Mucha suerte!"
      ]
    },
    {
      "cell_type": "code",
      "metadata": {
        "id": "tiZtU78vdSuV"
      },
      "source": [
        "import pandas as pd\r\n",
        "import numpy as np\r\n",
        "\r\n",
        "filename = \"drive/MyDrive/Colab Notebooks/Datasets/melbourne_housing-raw.csv\"\r\n",
        "data = pd.read_csv(filename, header=0)\r\n"
      ],
      "execution_count": 33,
      "outputs": []
    },
    {
      "cell_type": "code",
      "metadata": {
        "colab": {
          "base_uri": "https://localhost:8080/"
        },
        "id": "fuPRbO6dCgD8",
        "outputId": "408262d4-611c-477f-8b5a-b9100d275537"
      },
      "source": [
        "data.columns"
      ],
      "execution_count": 34,
      "outputs": [
        {
          "output_type": "execute_result",
          "data": {
            "text/plain": [
              "Index(['Suburb', 'Address', 'Rooms', 'Type', 'Price', 'Method', 'SellerG',\n",
              "       'Date', 'Distance', 'Postcode', 'Bedroom2', 'Bathroom', 'Car',\n",
              "       'Landsize', 'BuildingArea', 'YearBuilt', 'CouncilArea', 'Lattitude',\n",
              "       'Longtitude', 'Regionname', 'Propertycount'],\n",
              "      dtype='object')"
            ]
          },
          "metadata": {
            "tags": []
          },
          "execution_count": 34
        }
      ]
    },
    {
      "cell_type": "code",
      "metadata": {
        "colab": {
          "base_uri": "https://localhost:8080/"
        },
        "id": "ackjEoJ0Ckdl",
        "outputId": "afbf70d1-e91b-4254-f03f-873e04168c3e"
      },
      "source": [
        "data.describe"
      ],
      "execution_count": 35,
      "outputs": [
        {
          "output_type": "execute_result",
          "data": {
            "text/plain": [
              "<bound method NDFrame.describe of            Suburb               Address  ...             Regionname Propertycount\n",
              "0      Abbotsford         68 Studley St  ...  Northern Metropolitan        4019.0\n",
              "1      Abbotsford          85 Turner St  ...  Northern Metropolitan        4019.0\n",
              "2      Abbotsford       25 Bloomburg St  ...  Northern Metropolitan        4019.0\n",
              "3      Abbotsford    18/659 Victoria St  ...  Northern Metropolitan        4019.0\n",
              "4      Abbotsford          5 Charles St  ...  Northern Metropolitan        4019.0\n",
              "...           ...                   ...  ...                    ...           ...\n",
              "19735     Windsor       201/152 Peel St  ...  Southern Metropolitan        4380.0\n",
              "19736     Wollert       60 Saltlake Bvd  ...  Northern Metropolitan        2940.0\n",
              "19737  Yarraville           2 Adeney St  ...   Western Metropolitan        6543.0\n",
              "19738  Yarraville       54 Pentland Pde  ...   Western Metropolitan        6543.0\n",
              "19739  Yarraville  10/127 Somerville Rd  ...   Western Metropolitan        6543.0\n",
              "\n",
              "[19740 rows x 21 columns]>"
            ]
          },
          "metadata": {
            "tags": []
          },
          "execution_count": 35
        }
      ]
    },
    {
      "cell_type": "code",
      "metadata": {
        "colab": {
          "base_uri": "https://localhost:8080/"
        },
        "id": "UkJf4VnHCnrL",
        "outputId": "873e36c7-9e4d-4f46-d90c-17f849b87414"
      },
      "source": [
        "data.dtypes"
      ],
      "execution_count": 36,
      "outputs": [
        {
          "output_type": "execute_result",
          "data": {
            "text/plain": [
              "Suburb            object\n",
              "Address           object\n",
              "Rooms              int64\n",
              "Type              object\n",
              "Price            float64\n",
              "Method            object\n",
              "SellerG           object\n",
              "Date              object\n",
              "Distance         float64\n",
              "Postcode         float64\n",
              "Bedroom2         float64\n",
              "Bathroom         float64\n",
              "Car              float64\n",
              "Landsize         float64\n",
              "BuildingArea     float64\n",
              "YearBuilt        float64\n",
              "CouncilArea       object\n",
              "Lattitude        float64\n",
              "Longtitude       float64\n",
              "Regionname        object\n",
              "Propertycount    float64\n",
              "dtype: object"
            ]
          },
          "metadata": {
            "tags": []
          },
          "execution_count": 36
        }
      ]
    },
    {
      "cell_type": "code",
      "metadata": {
        "colab": {
          "base_uri": "https://localhost:8080/"
        },
        "id": "OJyXjpFuCuVb",
        "outputId": "82e21da7-7977-43fc-de45-e49c15901f26"
      },
      "source": [
        "data.isna().sum()"
      ],
      "execution_count": 37,
      "outputs": [
        {
          "output_type": "execute_result",
          "data": {
            "text/plain": [
              "Suburb               0\n",
              "Address              0\n",
              "Rooms                0\n",
              "Type                 0\n",
              "Price             4344\n",
              "Method               0\n",
              "SellerG              0\n",
              "Date                 0\n",
              "Distance             8\n",
              "Postcode             8\n",
              "Bedroom2          4413\n",
              "Bathroom          4413\n",
              "Car               4413\n",
              "Landsize          4796\n",
              "BuildingArea     11123\n",
              "YearBuilt        10389\n",
              "CouncilArea       4444\n",
              "Lattitude         4292\n",
              "Longtitude        4292\n",
              "Regionname           8\n",
              "Propertycount        8\n",
              "dtype: int64"
            ]
          },
          "metadata": {
            "tags": []
          },
          "execution_count": 37
        }
      ]
    },
    {
      "cell_type": "code",
      "metadata": {
        "colab": {
          "base_uri": "https://localhost:8080/"
        },
        "id": "LL71rVkUC1-c",
        "outputId": "faeaa8a1-3a54-46c3-e72b-5ded310a8015"
      },
      "source": [
        "data_dropped = data.dropna(axis=0, how=\"any\")\r\n",
        "data_dropped.isna().sum()"
      ],
      "execution_count": 38,
      "outputs": [
        {
          "output_type": "execute_result",
          "data": {
            "text/plain": [
              "Suburb           0\n",
              "Address          0\n",
              "Rooms            0\n",
              "Type             0\n",
              "Price            0\n",
              "Method           0\n",
              "SellerG          0\n",
              "Date             0\n",
              "Distance         0\n",
              "Postcode         0\n",
              "Bedroom2         0\n",
              "Bathroom         0\n",
              "Car              0\n",
              "Landsize         0\n",
              "BuildingArea     0\n",
              "YearBuilt        0\n",
              "CouncilArea      0\n",
              "Lattitude        0\n",
              "Longtitude       0\n",
              "Regionname       0\n",
              "Propertycount    0\n",
              "dtype: int64"
            ]
          },
          "metadata": {
            "tags": []
          },
          "execution_count": 38
        }
      ]
    },
    {
      "cell_type": "code",
      "metadata": {
        "colab": {
          "base_uri": "https://localhost:8080/"
        },
        "id": "wt-Aczr_DCqC",
        "outputId": "d70928ac-6e03-42a6-e138-5cfd62280de8"
      },
      "source": [
        "data_dropped = data_dropped.reset_index()\r\n",
        "data_dropped.describe"
      ],
      "execution_count": 39,
      "outputs": [
        {
          "output_type": "execute_result",
          "data": {
            "text/plain": [
              "<bound method NDFrame.describe of       index        Suburb  ...             Regionname  Propertycount\n",
              "0         2    Abbotsford  ...  Northern Metropolitan         4019.0\n",
              "1         4    Abbotsford  ...  Northern Metropolitan         4019.0\n",
              "2         6    Abbotsford  ...  Northern Metropolitan         4019.0\n",
              "3        11    Abbotsford  ...  Northern Metropolitan         4019.0\n",
              "4        14    Abbotsford  ...  Northern Metropolitan         4019.0\n",
              "...     ...           ...  ...                    ...            ...\n",
              "6045  19731    Whittlesea  ...      Northern Victoria         2170.0\n",
              "6046  19734  Williamstown  ...   Western Metropolitan         6380.0\n",
              "6047  19737    Yarraville  ...   Western Metropolitan         6543.0\n",
              "6048  19738    Yarraville  ...   Western Metropolitan         6543.0\n",
              "6049  19739    Yarraville  ...   Western Metropolitan         6543.0\n",
              "\n",
              "[6050 rows x 22 columns]>"
            ]
          },
          "metadata": {
            "tags": []
          },
          "execution_count": 39
        }
      ]
    },
    {
      "cell_type": "code",
      "metadata": {
        "id": "cHflnwHQxWQM"
      },
      "source": [
        "data_dropped.columns\r\n",
        "del data_dropped['index']\r\n",
        "\r\n",
        "data_dropped.columns = ['Suburb', 'Address', 'Rooms', 'Type', 'Price', 'Method', 'Seller_G',\r\n",
        "       'Date', 'Distance', 'Post_code', 'Bedroom_2', 'Bathroom', 'Car',\r\n",
        "       'Land_size', 'Building_area', 'Year_built', 'Council_area', 'Lattitude',\r\n",
        "       'Longtitude', 'Region_name', 'Property_count']"
      ],
      "execution_count": 40,
      "outputs": []
    },
    {
      "cell_type": "code",
      "metadata": {
        "colab": {
          "base_uri": "https://localhost:8080/",
          "height": 640
        },
        "id": "dnnOCN_XzRuc",
        "outputId": "0416de3a-18b3-4d49-ddc1-ae0648d07a87"
      },
      "source": [
        "data_dropped"
      ],
      "execution_count": 41,
      "outputs": [
        {
          "output_type": "execute_result",
          "data": {
            "text/html": [
              "<div>\n",
              "<style scoped>\n",
              "    .dataframe tbody tr th:only-of-type {\n",
              "        vertical-align: middle;\n",
              "    }\n",
              "\n",
              "    .dataframe tbody tr th {\n",
              "        vertical-align: top;\n",
              "    }\n",
              "\n",
              "    .dataframe thead th {\n",
              "        text-align: right;\n",
              "    }\n",
              "</style>\n",
              "<table border=\"1\" class=\"dataframe\">\n",
              "  <thead>\n",
              "    <tr style=\"text-align: right;\">\n",
              "      <th></th>\n",
              "      <th>Suburb</th>\n",
              "      <th>Address</th>\n",
              "      <th>Rooms</th>\n",
              "      <th>Type</th>\n",
              "      <th>Price</th>\n",
              "      <th>Method</th>\n",
              "      <th>Seller_G</th>\n",
              "      <th>Date</th>\n",
              "      <th>Distance</th>\n",
              "      <th>Post_code</th>\n",
              "      <th>Bedroom_2</th>\n",
              "      <th>Bathroom</th>\n",
              "      <th>Car</th>\n",
              "      <th>Land_size</th>\n",
              "      <th>Building_area</th>\n",
              "      <th>Year_built</th>\n",
              "      <th>Council_area</th>\n",
              "      <th>Lattitude</th>\n",
              "      <th>Longtitude</th>\n",
              "      <th>Region_name</th>\n",
              "      <th>Property_count</th>\n",
              "    </tr>\n",
              "  </thead>\n",
              "  <tbody>\n",
              "    <tr>\n",
              "      <th>0</th>\n",
              "      <td>Abbotsford</td>\n",
              "      <td>25 Bloomburg St</td>\n",
              "      <td>2</td>\n",
              "      <td>h</td>\n",
              "      <td>1035000.0</td>\n",
              "      <td>S</td>\n",
              "      <td>Biggin</td>\n",
              "      <td>4/02/2016</td>\n",
              "      <td>2.5</td>\n",
              "      <td>3067.0</td>\n",
              "      <td>2.0</td>\n",
              "      <td>1.0</td>\n",
              "      <td>0.0</td>\n",
              "      <td>156.0</td>\n",
              "      <td>79.0</td>\n",
              "      <td>1900.00</td>\n",
              "      <td>Yarra</td>\n",
              "      <td>-37.80790</td>\n",
              "      <td>144.99340</td>\n",
              "      <td>Northern Metropolitan</td>\n",
              "      <td>4019.0</td>\n",
              "    </tr>\n",
              "    <tr>\n",
              "      <th>1</th>\n",
              "      <td>Abbotsford</td>\n",
              "      <td>5 Charles St</td>\n",
              "      <td>3</td>\n",
              "      <td>h</td>\n",
              "      <td>1465000.0</td>\n",
              "      <td>SP</td>\n",
              "      <td>Biggin</td>\n",
              "      <td>4/03/2017</td>\n",
              "      <td>2.5</td>\n",
              "      <td>3067.0</td>\n",
              "      <td>3.0</td>\n",
              "      <td>2.0</td>\n",
              "      <td>0.0</td>\n",
              "      <td>134.0</td>\n",
              "      <td>150.0</td>\n",
              "      <td>1900.00</td>\n",
              "      <td>Yarra</td>\n",
              "      <td>-37.80930</td>\n",
              "      <td>144.99440</td>\n",
              "      <td>Northern Metropolitan</td>\n",
              "      <td>4019.0</td>\n",
              "    </tr>\n",
              "    <tr>\n",
              "      <th>2</th>\n",
              "      <td>Abbotsford</td>\n",
              "      <td>55a Park St</td>\n",
              "      <td>4</td>\n",
              "      <td>h</td>\n",
              "      <td>1600000.0</td>\n",
              "      <td>VB</td>\n",
              "      <td>Nelson</td>\n",
              "      <td>4/06/2016</td>\n",
              "      <td>2.5</td>\n",
              "      <td>3067.0</td>\n",
              "      <td>3.0</td>\n",
              "      <td>1.0</td>\n",
              "      <td>2.0</td>\n",
              "      <td>120.0</td>\n",
              "      <td>142.0</td>\n",
              "      <td>2014.00</td>\n",
              "      <td>Yarra</td>\n",
              "      <td>-37.80720</td>\n",
              "      <td>144.99410</td>\n",
              "      <td>Northern Metropolitan</td>\n",
              "      <td>4019.0</td>\n",
              "    </tr>\n",
              "    <tr>\n",
              "      <th>3</th>\n",
              "      <td>Abbotsford</td>\n",
              "      <td>124 Yarra St</td>\n",
              "      <td>3</td>\n",
              "      <td>h</td>\n",
              "      <td>1876000.0</td>\n",
              "      <td>S</td>\n",
              "      <td>Nelson</td>\n",
              "      <td>7/05/2016</td>\n",
              "      <td>2.5</td>\n",
              "      <td>3067.0</td>\n",
              "      <td>4.0</td>\n",
              "      <td>2.0</td>\n",
              "      <td>0.0</td>\n",
              "      <td>245.0</td>\n",
              "      <td>210.0</td>\n",
              "      <td>1910.00</td>\n",
              "      <td>Yarra</td>\n",
              "      <td>-37.80240</td>\n",
              "      <td>144.99930</td>\n",
              "      <td>Northern Metropolitan</td>\n",
              "      <td>4019.0</td>\n",
              "    </tr>\n",
              "    <tr>\n",
              "      <th>4</th>\n",
              "      <td>Abbotsford</td>\n",
              "      <td>98 Charles St</td>\n",
              "      <td>2</td>\n",
              "      <td>h</td>\n",
              "      <td>1636000.0</td>\n",
              "      <td>S</td>\n",
              "      <td>Nelson</td>\n",
              "      <td>8/10/2016</td>\n",
              "      <td>2.5</td>\n",
              "      <td>3067.0</td>\n",
              "      <td>2.0</td>\n",
              "      <td>1.0</td>\n",
              "      <td>2.0</td>\n",
              "      <td>256.0</td>\n",
              "      <td>107.0</td>\n",
              "      <td>1890.00</td>\n",
              "      <td>Yarra</td>\n",
              "      <td>-37.80600</td>\n",
              "      <td>144.99540</td>\n",
              "      <td>Northern Metropolitan</td>\n",
              "      <td>4019.0</td>\n",
              "    </tr>\n",
              "    <tr>\n",
              "      <th>...</th>\n",
              "      <td>...</td>\n",
              "      <td>...</td>\n",
              "      <td>...</td>\n",
              "      <td>...</td>\n",
              "      <td>...</td>\n",
              "      <td>...</td>\n",
              "      <td>...</td>\n",
              "      <td>...</td>\n",
              "      <td>...</td>\n",
              "      <td>...</td>\n",
              "      <td>...</td>\n",
              "      <td>...</td>\n",
              "      <td>...</td>\n",
              "      <td>...</td>\n",
              "      <td>...</td>\n",
              "      <td>...</td>\n",
              "      <td>...</td>\n",
              "      <td>...</td>\n",
              "      <td>...</td>\n",
              "      <td>...</td>\n",
              "      <td>...</td>\n",
              "    </tr>\n",
              "    <tr>\n",
              "      <th>6045</th>\n",
              "      <td>Whittlesea</td>\n",
              "      <td>30 Sherwin St</td>\n",
              "      <td>3</td>\n",
              "      <td>h</td>\n",
              "      <td>601000.0</td>\n",
              "      <td>S</td>\n",
              "      <td>Ray</td>\n",
              "      <td>29/07/2017</td>\n",
              "      <td>35.5</td>\n",
              "      <td>3757.0</td>\n",
              "      <td>3.0</td>\n",
              "      <td>2.0</td>\n",
              "      <td>2.0</td>\n",
              "      <td>1970.0</td>\n",
              "      <td>779.0</td>\n",
              "      <td>135.00</td>\n",
              "      <td>Manningham</td>\n",
              "      <td>-37.76311</td>\n",
              "      <td>145.10494</td>\n",
              "      <td>Northern Victoria</td>\n",
              "      <td>2170.0</td>\n",
              "    </tr>\n",
              "    <tr>\n",
              "      <th>6046</th>\n",
              "      <td>Williamstown</td>\n",
              "      <td>87 Pasco St</td>\n",
              "      <td>3</td>\n",
              "      <td>h</td>\n",
              "      <td>1285000.0</td>\n",
              "      <td>S</td>\n",
              "      <td>Jas</td>\n",
              "      <td>29/07/2017</td>\n",
              "      <td>6.8</td>\n",
              "      <td>3016.0</td>\n",
              "      <td>2.0</td>\n",
              "      <td>1.0</td>\n",
              "      <td>1.0</td>\n",
              "      <td>2010.0</td>\n",
              "      <td>140.0</td>\n",
              "      <td>78.00</td>\n",
              "      <td>Whittlesea</td>\n",
              "      <td>-37.68199</td>\n",
              "      <td>145.01744</td>\n",
              "      <td>Western Metropolitan</td>\n",
              "      <td>6380.0</td>\n",
              "    </tr>\n",
              "    <tr>\n",
              "      <th>6047</th>\n",
              "      <td>Yarraville</td>\n",
              "      <td>2 Adeney St</td>\n",
              "      <td>2</td>\n",
              "      <td>h</td>\n",
              "      <td>750000.0</td>\n",
              "      <td>SP</td>\n",
              "      <td>hockingstuart</td>\n",
              "      <td>29/07/2017</td>\n",
              "      <td>6.3</td>\n",
              "      <td>3013.0</td>\n",
              "      <td>3.0</td>\n",
              "      <td>2.0</td>\n",
              "      <td>2.0</td>\n",
              "      <td>1999.0</td>\n",
              "      <td>199.0</td>\n",
              "      <td>140.00</td>\n",
              "      <td>Darebin</td>\n",
              "      <td>-37.75948</td>\n",
              "      <td>144.99615</td>\n",
              "      <td>Western Metropolitan</td>\n",
              "      <td>6543.0</td>\n",
              "    </tr>\n",
              "    <tr>\n",
              "      <th>6048</th>\n",
              "      <td>Yarraville</td>\n",
              "      <td>54 Pentland Pde</td>\n",
              "      <td>6</td>\n",
              "      <td>h</td>\n",
              "      <td>2450000.0</td>\n",
              "      <td>VB</td>\n",
              "      <td>Village</td>\n",
              "      <td>29/07/2017</td>\n",
              "      <td>6.3</td>\n",
              "      <td>3013.0</td>\n",
              "      <td>3.0</td>\n",
              "      <td>2.0</td>\n",
              "      <td>1.0</td>\n",
              "      <td>2011.0</td>\n",
              "      <td>238.0</td>\n",
              "      <td>118.00</td>\n",
              "      <td>Hume</td>\n",
              "      <td>-37.70322</td>\n",
              "      <td>144.88236</td>\n",
              "      <td>Western Metropolitan</td>\n",
              "      <td>6543.0</td>\n",
              "    </tr>\n",
              "    <tr>\n",
              "      <th>6049</th>\n",
              "      <td>Yarraville</td>\n",
              "      <td>10/127 Somerville Rd</td>\n",
              "      <td>3</td>\n",
              "      <td>t</td>\n",
              "      <td>645000.0</td>\n",
              "      <td>SP</td>\n",
              "      <td>Jas</td>\n",
              "      <td>29/07/2017</td>\n",
              "      <td>6.3</td>\n",
              "      <td>3013.0</td>\n",
              "      <td>2.0</td>\n",
              "      <td>1.0</td>\n",
              "      <td>1.0</td>\n",
              "      <td>1980.0</td>\n",
              "      <td>0.0</td>\n",
              "      <td>66.32</td>\n",
              "      <td>Hume</td>\n",
              "      <td>-37.69815</td>\n",
              "      <td>144.88019</td>\n",
              "      <td>Western Metropolitan</td>\n",
              "      <td>6543.0</td>\n",
              "    </tr>\n",
              "  </tbody>\n",
              "</table>\n",
              "<p>6050 rows × 21 columns</p>\n",
              "</div>"
            ],
            "text/plain": [
              "            Suburb               Address  ...            Region_name Property_count\n",
              "0       Abbotsford       25 Bloomburg St  ...  Northern Metropolitan         4019.0\n",
              "1       Abbotsford          5 Charles St  ...  Northern Metropolitan         4019.0\n",
              "2       Abbotsford           55a Park St  ...  Northern Metropolitan         4019.0\n",
              "3       Abbotsford          124 Yarra St  ...  Northern Metropolitan         4019.0\n",
              "4       Abbotsford         98 Charles St  ...  Northern Metropolitan         4019.0\n",
              "...            ...                   ...  ...                    ...            ...\n",
              "6045    Whittlesea         30 Sherwin St  ...      Northern Victoria         2170.0\n",
              "6046  Williamstown           87 Pasco St  ...   Western Metropolitan         6380.0\n",
              "6047    Yarraville           2 Adeney St  ...   Western Metropolitan         6543.0\n",
              "6048    Yarraville       54 Pentland Pde  ...   Western Metropolitan         6543.0\n",
              "6049    Yarraville  10/127 Somerville Rd  ...   Western Metropolitan         6543.0\n",
              "\n",
              "[6050 rows x 21 columns]"
            ]
          },
          "metadata": {
            "tags": []
          },
          "execution_count": 41
        }
      ]
    },
    {
      "cell_type": "code",
      "metadata": {
        "colab": {
          "base_uri": "https://localhost:8080/"
        },
        "id": "IpjI5_QdzZTv",
        "outputId": "8dff9ff1-2fdf-46c7-851b-195155ee849c"
      },
      "source": [
        "\r\n",
        "subset_data = data_dropped[[\"Price\", \"Distance\", \"Land_size\"]]\r\n",
        "\r\n",
        "# El valor mínimo de cada columna\r\n",
        "mins = subset_data.min(axis=0)\r\n",
        " \r\n",
        "# El valor máximo de cada columna\r\n",
        "maxs = subset_data.max(axis=0)\r\n",
        " \r\n",
        "# El promedio por columna\r\n",
        "means = subset_data.mean(axis=0)\r\n",
        "\r\n",
        "mins.name = 'Min'\r\n",
        "maxs.name = 'Max'\r\n",
        "means.name = 'Promedio'\r\n",
        "resumen = pd.concat([mins, maxs, means], axis=1)\r\n",
        "print(resumen)"
      ],
      "execution_count": 43,
      "outputs": [
        {
          "output_type": "stream",
          "text": [
            "                Min        Max      Promedio\n",
            "Price      131000.0  9000000.0  1.071520e+06\n",
            "Distance        0.0       47.4  9.659719e+00\n",
            "Land_size       0.0    37000.0  5.561562e+02\n"
          ],
          "name": "stdout"
        }
      ]
    }
  ]
}