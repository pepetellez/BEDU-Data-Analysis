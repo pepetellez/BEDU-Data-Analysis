{
  "nbformat": 4,
  "nbformat_minor": 0,
  "metadata": {
    "kernelspec": {
      "display_name": "Python 3",
      "language": "python",
      "name": "python3"
    },
    "language_info": {
      "codemirror_mode": {
        "name": "ipython",
        "version": 3
      },
      "file_extension": ".py",
      "mimetype": "text/x-python",
      "name": "python",
      "nbconvert_exporter": "python",
      "pygments_lexer": "ipython3",
      "version": "3.8.3"
    },
    "colab": {
      "name": "s1_r5_estructuras_de_control_de_flujo.ipynb",
      "provenance": [],
      "collapsed_sections": [],
      "include_colab_link": true
    }
  },
  "cells": [
    {
      "cell_type": "markdown",
      "metadata": {
        "id": "view-in-github",
        "colab_type": "text"
      },
      "source": [
        "<a href=\"https://colab.research.google.com/github/pepetellez/BEDU_DataAnalysis/blob/main/python/s1_r5_estructuras_de_control_de_flujo.ipynb\" target=\"_parent\"><img src=\"https://colab.research.google.com/assets/colab-badge.svg\" alt=\"Open In Colab\"/></a>"
      ]
    },
    {
      "cell_type": "markdown",
      "metadata": {
        "id": "PF7jTvrW3m2z"
      },
      "source": [
        "## Reto 5: Estructuras de control de flujo\n",
        "\n",
        "### 1. Objetivos:\n",
        "    - Entender el funcionamiento de las estructuras de control de flujo a través de un reto\n",
        " \n",
        "---\n",
        "    \n",
        "### 2. Desarrollo:"
      ]
    },
    {
      "cell_type": "markdown",
      "metadata": {
        "id": "8OdgaSHe3m24"
      },
      "source": [
        "#### 1. Comparaciones numéricas\n",
        "\n",
        "Vamos a imaginar que estamos analizando un conjunto de datos que contiene las ventas anuales en pesos de unos vendedores que trabajan en nuestra empresa. Obtenemos el total de ventas anuales en pesos y lo tenemos asignado a la variable `ventas_anuales_totales`. Escribe una estructura de control que nos diga de cuánto va a ser el bono de nuestro empleado.\n",
        "\n",
        "Si las ventas son mayores a `$`1,000,000 el bono será de 20% del sueldo; si son entre `$`700,000 y `$`1,000,000 el bono será de 15% del sueldo; entre `$`400,000 y `$`700,000 el bono será de 10% del sueldo; entre `$`100,00 y 400,000 el bono será de 5% del sueldo; y debajo de `$`100,000 el bono será del 1% del sueldo.\n",
        "\n",
        "Escribe tu estructura de control y, por ahora (más adelante tendremos más herramientas para hacer esto más interesante) imprime una string que diga de cuánto va a ser el bono.\n",
        "\n",
        "> Reto opcional: Agrega una variable `sueldo` que sea el sueldo de tu empleado y agrégale el porcentaje de bono a esa variable dependiendo de la condición que se cumpla. Después hasta el final imprime una string interpolada que diga algo como \"Felicidades, tu sueldo es x; tu bono es de x; y el total de sueldo con el bono incluido es de x\". ¡Para que esto funcione también debes de agregar una variable donde guardes la cantidad del bono!"
      ]
    },
    {
      "cell_type": "code",
      "metadata": {
        "id": "z4jIPbua3m25"
      },
      "source": [
        "ventas_anuales_totales = 100000000\n",
        "\n",
        "# OPCIONAL\n",
        "sueldo = 35000"
      ],
      "execution_count": 8,
      "outputs": []
    },
    {
      "cell_type": "code",
      "metadata": {
        "id": "EsUgjEvK3m25",
        "colab": {
          "base_uri": "https://localhost:8080/"
        },
        "outputId": "29d5c131-acb0-4d97-a410-62676e8fc2c9"
      },
      "source": [
        "if ventas_anuales_totales > 1000000:\n",
        "  bono_porcentaje = 20\n",
        "  bono_cantidad = sueldo*0.2\n",
        "elif ventas_anuales_totales < 1000000 & ventas_anuales_totales > 700000:\n",
        "  bono_porcentaje = 15\n",
        "  bono_cantidad = sueldo*0.15\n",
        "elif ventas_anuales_totales < 700000 & ventas_anuales_totales > 400000:\n",
        "  bono_porcentaje = 10\n",
        "  bono_cantidad = sueldo*0.1\n",
        "elif ventas_anuales_totales < 400000 & ventas_anuales_totales > 100000:\n",
        "  bono_porcentaje = 5\n",
        "  bono_cantidad = sueldo*0.05\n",
        "elif ventas_anuales_totales < 100000:\n",
        "  bono_porcentaje = 1\n",
        "  bono_cantidad = sueldo*0.01\n",
        "\n",
        "print(f\"Felicidades, tu sueldo es ${sueldo} y tus ventas anuales totales fueron {ventas_anuales_totales};\\ntu porcentaje de bono es del {bono_porcentaje}%, lo que equivale a ${bono_cantidad};\\ny el total de sueldo con el bono incluido es de ${sueldo+bono_cantidad}\")\n"
      ],
      "execution_count": 12,
      "outputs": [
        {
          "output_type": "stream",
          "text": [
            "Felicidades, tu sueldo es $35000 y tus ventas anuales totales fueron 100000000;\n",
            "tu porcentaje de bono es del 20%, lo que equivale a $7000.0;\n",
            "y el total de sueldo con el bono incluido es de $42000.0\n"
          ],
          "name": "stdout"
        }
      ]
    },
    {
      "cell_type": "code",
      "metadata": {
        "id": "HhhIaSbc3m25"
      },
      "source": [
        ""
      ],
      "execution_count": null,
      "outputs": []
    }
  ]
}