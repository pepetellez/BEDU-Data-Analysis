{
  "nbformat": 4,
  "nbformat_minor": 0,
  "metadata": {
    "kernelspec": {
      "display_name": "Python 3",
      "language": "python",
      "name": "python3"
    },
    "language_info": {
      "codemirror_mode": {
        "name": "ipython",
        "version": 3
      },
      "file_extension": ".py",
      "mimetype": "text/x-python",
      "name": "python",
      "nbconvert_exporter": "python",
      "pygments_lexer": "ipython3",
      "version": "3.8.3"
    },
    "colab": {
      "name": "s1_r4_operadores_de_comparacion.ipynb",
      "provenance": [],
      "collapsed_sections": [],
      "include_colab_link": true
    }
  },
  "cells": [
    {
      "cell_type": "markdown",
      "metadata": {
        "id": "view-in-github",
        "colab_type": "text"
      },
      "source": [
        "<a href=\"https://colab.research.google.com/github/pepetellez/BEDU_DataAnalysis/blob/main/python/s1_r4_operadores_de_comparacion.ipynb\" target=\"_parent\"><img src=\"https://colab.research.google.com/assets/colab-badge.svg\" alt=\"Open In Colab\"/></a>"
      ]
    },
    {
      "cell_type": "markdown",
      "metadata": {
        "id": "2MoPfG8OwUlv"
      },
      "source": [
        "## Reto 4: Operadores de comparación\n",
        "\n",
        "### 1. Objetivos:\n",
        "    - Practicar la comparación de números, strings y booleanos\n",
        " \n",
        "---\n",
        "    \n",
        "### 2. Desarrollo:"
      ]
    },
    {
      "cell_type": "markdown",
      "metadata": {
        "id": "zDpBRBOSwUl0"
      },
      "source": [
        "A continuación tienes algunas variables que han sido asignadas:"
      ]
    },
    {
      "cell_type": "code",
      "metadata": {
        "id": "Z36HH6r3wUl0"
      },
      "source": [
        "var_1 = 3\n",
        "var_2 = 5\n",
        "var_3 = 9\n",
        "var_4 = 1\n",
        "var_5 = 9\n",
        "var_6 = -6\n",
        "var_7 = 5\n",
        "var_8 = 4"
      ],
      "execution_count": null,
      "outputs": []
    },
    {
      "cell_type": "markdown",
      "metadata": {
        "id": "eq_gGsNfwUl1"
      },
      "source": [
        "A continuación tienes algunas comparaciones que se encuentran incompletas, junto con el resultado que se espera de dicha comparación. Agrega los `operadores de comparación` adecuados, en medio de las variables, para que al correr las celdas se obtengan los `Resultados esperados`. Para este reto, los operadores `==` y `!=` no están permitidos."
      ]
    },
    {
      "cell_type": "code",
      "metadata": {
        "id": "Q6U42tyhwUl1",
        "colab": {
          "base_uri": "https://localhost:8080/"
        },
        "outputId": "25ebede2-93dc-4b14-ac6f-755352ce9acf"
      },
      "source": [
        "var_1 > var_3  # Resultado esperado: False"
      ],
      "execution_count": null,
      "outputs": [
        {
          "output_type": "execute_result",
          "data": {
            "text/plain": [
              "False"
            ]
          },
          "metadata": {
            "tags": []
          },
          "execution_count": 3
        }
      ]
    },
    {
      "cell_type": "code",
      "metadata": {
        "id": "gZke6MNUwUl2",
        "colab": {
          "base_uri": "https://localhost:8080/"
        },
        "outputId": "4ea5a54c-7bd0-4ea4-e19f-cd6c357fb639"
      },
      "source": [
        "var_1 > var_4 # Resultado esperado: True"
      ],
      "execution_count": null,
      "outputs": [
        {
          "output_type": "execute_result",
          "data": {
            "text/plain": [
              "True"
            ]
          },
          "metadata": {
            "tags": []
          },
          "execution_count": 4
        }
      ]
    },
    {
      "cell_type": "code",
      "metadata": {
        "id": "S01LCVvnwUl2",
        "colab": {
          "base_uri": "https://localhost:8080/"
        },
        "outputId": "f6f4cf98-e1e1-4902-e8a6-09223dcf3c5f"
      },
      "source": [
        "var_2 >= var_7  # Resultado esperado: True"
      ],
      "execution_count": null,
      "outputs": [
        {
          "output_type": "execute_result",
          "data": {
            "text/plain": [
              "True"
            ]
          },
          "metadata": {
            "tags": []
          },
          "execution_count": 5
        }
      ]
    },
    {
      "cell_type": "code",
      "metadata": {
        "id": "S7cgSW0_wUl2",
        "colab": {
          "base_uri": "https://localhost:8080/"
        },
        "outputId": "0d3f23b5-ec4d-4827-a60a-e7a1e7b66964"
      },
      "source": [
        "var_8 > var_6  # Resultado esperado: True"
      ],
      "execution_count": null,
      "outputs": [
        {
          "output_type": "execute_result",
          "data": {
            "text/plain": [
              "True"
            ]
          },
          "metadata": {
            "tags": []
          },
          "execution_count": 6
        }
      ]
    },
    {
      "cell_type": "code",
      "metadata": {
        "id": "-Wx5fqaDwUl2",
        "colab": {
          "base_uri": "https://localhost:8080/"
        },
        "outputId": "624c6bff-43a8-4f31-a9ad-7f620e9b5404"
      },
      "source": [
        "var_3 > var_5  # Resultado esperado: False"
      ],
      "execution_count": null,
      "outputs": [
        {
          "output_type": "execute_result",
          "data": {
            "text/plain": [
              "False"
            ]
          },
          "metadata": {
            "tags": []
          },
          "execution_count": 7
        }
      ]
    },
    {
      "cell_type": "code",
      "metadata": {
        "id": "bJ0iK315wUl2",
        "colab": {
          "base_uri": "https://localhost:8080/"
        },
        "outputId": "d346ef94-90ef-44cf-c654-b935b3473873"
      },
      "source": [
        "var_1 < var_3  # Resultado esperado: True"
      ],
      "execution_count": null,
      "outputs": [
        {
          "output_type": "execute_result",
          "data": {
            "text/plain": [
              "True"
            ]
          },
          "metadata": {
            "tags": []
          },
          "execution_count": 8
        }
      ]
    },
    {
      "cell_type": "code",
      "metadata": {
        "id": "fEmPJMnKwUl3",
        "colab": {
          "base_uri": "https://localhost:8080/"
        },
        "outputId": "02c1415b-c2e2-4309-8676-5855cd1cbf87"
      },
      "source": [
        "var_5 < var_4  # Resultado esperado: False"
      ],
      "execution_count": null,
      "outputs": [
        {
          "output_type": "execute_result",
          "data": {
            "text/plain": [
              "False"
            ]
          },
          "metadata": {
            "tags": []
          },
          "execution_count": 9
        }
      ]
    },
    {
      "cell_type": "code",
      "metadata": {
        "id": "OS4IzRGowUl3",
        "colab": {
          "base_uri": "https://localhost:8080/"
        },
        "outputId": "504a209e-da90-4e50-cf8a-04e8a3da97ef"
      },
      "source": [
        "var_3 >= var_5  # Resultado esperado: True"
      ],
      "execution_count": null,
      "outputs": [
        {
          "output_type": "execute_result",
          "data": {
            "text/plain": [
              "True"
            ]
          },
          "metadata": {
            "tags": []
          },
          "execution_count": 10
        }
      ]
    },
    {
      "cell_type": "code",
      "metadata": {
        "id": "TD5J1dezwUl3"
      },
      "source": [
        ""
      ],
      "execution_count": null,
      "outputs": []
    }
  ]
}