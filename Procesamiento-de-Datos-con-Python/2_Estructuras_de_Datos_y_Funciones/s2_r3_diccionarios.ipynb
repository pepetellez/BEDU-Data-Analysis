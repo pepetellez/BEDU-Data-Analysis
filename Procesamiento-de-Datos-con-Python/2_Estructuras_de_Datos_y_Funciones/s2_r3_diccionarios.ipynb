{
  "nbformat": 4,
  "nbformat_minor": 0,
  "metadata": {
    "kernelspec": {
      "display_name": "Python 3",
      "language": "python",
      "name": "python3"
    },
    "language_info": {
      "codemirror_mode": {
        "name": "ipython",
        "version": 3
      },
      "file_extension": ".py",
      "mimetype": "text/x-python",
      "name": "python",
      "nbconvert_exporter": "python",
      "pygments_lexer": "ipython3",
      "version": "3.8.3"
    },
    "colab": {
      "name": "s2_r3_diccionarios.ipynb",
      "provenance": [],
      "include_colab_link": true
    }
  },
  "cells": [
    {
      "cell_type": "markdown",
      "metadata": {
        "id": "view-in-github",
        "colab_type": "text"
      },
      "source": [
        "<a href=\"https://colab.research.google.com/github/pepetellez/BEDU-Data-Analysis/blob/main/Procesamiento-de-Datos-con-Python/2_Estructuras_de_Datos_y_Funciones/s2_r3_diccionarios.ipynb\" target=\"_parent\"><img src=\"https://colab.research.google.com/assets/colab-badge.svg\" alt=\"Open In Colab\"/></a>"
      ]
    },
    {
      "cell_type": "markdown",
      "metadata": {
        "id": "sJ5U6sg07Eg0"
      },
      "source": [
        "## Reto 3: Creando y accesando diccionarios\n",
        "\n",
        "### 1. Objetivos:\n",
        "    - Entender cómo crear diccionarios y cómo acceder a ellos\n",
        " \n",
        "---\n",
        "    \n",
        "### 2. Desarrollo:"
      ]
    },
    {
      "cell_type": "markdown",
      "metadata": {
        "id": "O9fhxaM57Eg6"
      },
      "source": [
        "Debajo hemos definido un diccionario. Este diccionario se encuentra incompleto, aunque no lo parezca:"
      ]
    },
    {
      "cell_type": "code",
      "metadata": {
        "id": "d-s3EqGh7Eg7"
      },
      "source": [
        "ventas_mensuales = {\n",
        "    \"fecha_de_corte\": \"01/05/2020\",\n",
        "    \"unidad\": \"Aragón\",\n",
        "    \"ventas_pasteleria\": 35,\n",
        "    \"ventas_panaderia\": 40,\n",
        "    \"ganancias_pasteleria\": 500,\n",
        "    \"ganancias_panaderia\": 300,\n",
        "    \"gastos_mensuales_totales\": 100,\n",
        "    \"analista\": \"José Antonio\"\n",
        "}"
      ],
      "execution_count": 6,
      "outputs": []
    },
    {
      "cell_type": "markdown",
      "metadata": {
        "id": "boHMN_kc7Eg7"
      },
      "source": [
        "Debajo tenemos algunos procedimientos que han sido realizados utilizando este diccionario. Como puedes ver, algunos de los accesos que se están haciendo van a fallar porque el diccionario `ventas_mensuales` no está completo:"
      ]
    },
    {
      "cell_type": "code",
      "metadata": {
        "id": "_gRawBa_7Eg7",
        "colab": {
          "base_uri": "https://localhost:8080/"
        },
        "outputId": "45dd56be-f1ff-4043-feb0-8ffbbded94f1"
      },
      "source": [
        "ventas_totales_de_insumos = ventas_mensuales[\"ventas_pasteleria\"] + ventas_mensuales[\"ventas_panaderia\"]\n",
        "ganancias_totales = ventas_mensuales[\"ganancias_pasteleria\"] + ventas_mensuales[\"ganancias_panaderia\"]\n",
        "ganancias_netas = ganancias_totales - ventas_mensuales[\"gastos_mensuales_totales\"]\n",
        "\n",
        "print(f'==Resumen de ventas mensuales de la unidad {ventas_mensuales[\"unidad\"]}==\\n')\n",
        "print(f'Fecha de corte: {ventas_mensuales[\"fecha_de_corte\"]}/n')\n",
        "print(f'  - Ventas totales de insumos: {ventas_totales_de_insumos}')\n",
        "print(f'  - Ganancias totales: {ganancias_totales}')\n",
        "print(f'  - Ganancias netas: {ganancias_netas}')\n",
        "print(f'\\n')\n",
        "print(f'(Información recabada por: {ventas_mensuales[\"analista\"]})')"
      ],
      "execution_count": 7,
      "outputs": [
        {
          "output_type": "stream",
          "text": [
            "==Resumen de ventas mensuales de la unidad Aragón==\n",
            "\n",
            "Fecha de corte: 01/05/2020/n\n",
            "  - Ventas totales de insumos: 75\n",
            "  - Ganancias totales: 800\n",
            "  - Ganancias netas: 700\n",
            "\n",
            "\n",
            "(Información recabada por: José Antonio)\n"
          ],
          "name": "stdout"
        }
      ]
    },
    {
      "cell_type": "markdown",
      "metadata": {
        "id": "ObaeKN8i7Eg8"
      },
      "source": [
        "Completa el diccionario `ventas_mensuales` para que el código que imprime el resumen de las ventas funcione correctamente."
      ]
    },
    {
      "cell_type": "code",
      "metadata": {
        "id": "Bd68-lwS7Eg8"
      },
      "source": [
        ""
      ],
      "execution_count": null,
      "outputs": []
    }
  ]
}