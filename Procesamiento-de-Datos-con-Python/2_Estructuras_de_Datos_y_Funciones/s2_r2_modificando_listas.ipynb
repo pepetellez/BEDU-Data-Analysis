{
  "nbformat": 4,
  "nbformat_minor": 0,
  "metadata": {
    "kernelspec": {
      "display_name": "Python 3",
      "language": "python",
      "name": "python3"
    },
    "language_info": {
      "codemirror_mode": {
        "name": "ipython",
        "version": 3
      },
      "file_extension": ".py",
      "mimetype": "text/x-python",
      "name": "python",
      "nbconvert_exporter": "python",
      "pygments_lexer": "ipython3",
      "version": "3.8.3"
    },
    "colab": {
      "name": "s2_r2_modificando_listas.ipynb",
      "provenance": [],
      "include_colab_link": true
    }
  },
  "cells": [
    {
      "cell_type": "markdown",
      "metadata": {
        "id": "view-in-github",
        "colab_type": "text"
      },
      "source": [
        "<a href=\"https://colab.research.google.com/github/pepetellez/BEDU-Data-Analysis/blob/main/Procesamiento-de-Datos-con-Python/2_Estructuras_de_Datos_y_Funciones/s2_r2_modificando_listas.ipynb\" target=\"_parent\"><img src=\"https://colab.research.google.com/assets/colab-badge.svg\" alt=\"Open In Colab\"/></a>"
      ]
    },
    {
      "cell_type": "markdown",
      "metadata": {
        "id": "kLb9ATEM2Hcy"
      },
      "source": [
        "## Reto 2: Modificando listas\n",
        "\n",
        "### 1. Objetivos:\n",
        "    - Practicar el uso de los métodos `append` `pop`.\n",
        " \n",
        "---\n",
        "    \n",
        "### 2. Desarrollo:"
      ]
    },
    {
      "cell_type": "markdown",
      "metadata": {
        "id": "jIKOkoV52Hc6"
      },
      "source": [
        "#### a) Modificar para eliminar diferencias\n",
        "\n",
        "Debajo tienes dos listas definidas:"
      ]
    },
    {
      "cell_type": "code",
      "metadata": {
        "id": "Zqoz4cbI2Hc7",
        "colab": {
          "base_uri": "https://localhost:8080/"
        },
        "outputId": "f00f0ae9-c538-4153-9684-fb5e662763e6"
      },
      "source": [
        "lista_1 = [3.4, 0.7, 99.9, 5.41, 6.23, 7.9]\n",
        "\n",
        "lista_2 = [3.4, 63.4, 0.7, 6.46, 99.9, 2.2, 5.41]\n",
        "\n",
        "lista_2.pop(1)\n",
        "lista_2.pop(2)\n",
        "lista_2.pop(3)\n",
        "lista_2.append(6.23)\n",
        "lista_2.append(7.9)\n",
        "\n",
        "print(lista_1)\n",
        "print(lista_2)\n"
      ],
      "execution_count": 11,
      "outputs": [
        {
          "output_type": "stream",
          "text": [
            "[3.4, 0.7, 99.9, 5.41, 6.23, 7.9]\n",
            "[3.4, 0.7, 99.9, 5.41, 6.23, 7.9]\n"
          ],
          "name": "stdout"
        }
      ]
    },
    {
      "cell_type": "markdown",
      "metadata": {
        "id": "fbXvG_iM2Hc7"
      },
      "source": [
        "Ahora, tienes una `sentencia if` que utiliza una comparación entre las dos listas:"
      ]
    },
    {
      "cell_type": "code",
      "metadata": {
        "id": "A8miA41b2Hc8",
        "colab": {
          "base_uri": "https://localhost:8080/"
        },
        "outputId": "8fd3c073-6aa5-4cb6-b660-e589e5e267b6"
      },
      "source": [
        "if lista_1 == lista_2:\n",
        "    print(\"Tú y yo somos uno mismo\")"
      ],
      "execution_count": 12,
      "outputs": [
        {
          "output_type": "stream",
          "text": [
            "Tú y yo somos uno mismo\n"
          ],
          "name": "stdout"
        }
      ]
    },
    {
      "cell_type": "markdown",
      "metadata": {
        "id": "a-Eoipwe2Hc8"
      },
      "source": [
        "Donde dice `tu código va aquí` agrega modificaciones a la **lista_2** para lograr que ambas listas sean idénticas y el bello mensaje \"Tú y yo somos uno mismo\" se imprima. Puedes usar tanto `pop` como `append`, pero **sólo puedes modificar la lista_2**."
      ]
    },
    {
      "cell_type": "markdown",
      "metadata": {
        "id": "EQg8r8SS2Hc9"
      },
      "source": [
        "#### b) Corrigiendo fragmentos\n",
        "\n",
        "Debajo hay un muy pequeño fragmento del capítulo 68 de la novela \"Rayuela\" de Julio Cortázar ([Lo puedes leer aquí](https://ciudadseva.com/texto/rayuela-capitulo-68/)). Este fragmento ha sido modificado, como fácilmente podrás ver. Además, el fragmento termina con un oración inconclusa:"
      ]
    },
    {
      "cell_type": "code",
      "metadata": {
        "id": "2wR0qzjh2Hc9",
        "colab": {
          "base_uri": "https://localhost:8080/"
        },
        "outputId": "a1fdff17-c66d-4ffc-eea4-94557f08ffcd"
      },
      "source": [
        "fragmento_fragmentado = ['Apenas', 'él', 'le', 'amalaba', 'hidrolizado' 'el', 'noema,',\n",
        "                         'a', 'ella', 'se', 'le', 'agolpaba', 'el', 'clémiso', 'súbito',\n",
        "                         'y', 'caían', 'en', 'fermales', 'hidromurias,', 'en', 'salvajes', 'ambonios,',\n",
        "                         'en', 'sustalos', 'distales', 'exasperantes.',\n",
        "                         'Cada', 'vez', 'que', 'él', 'procuraba', 'relamar', 'las', 'incopelusas,']\n",
        "\n",
        "fragmento_fragmentado.pop(4)\n",
        "fragmento_fragmentado.pop(12)\n",
        "fragmento_fragmentado.pop(15)\n",
        "fragmento_fragmentado.pop(21)\n",
        "fragmento_fragmentado.append('y')\n",
        "fragmento_fragmentado.append('fin')\n",
        "fragmento_fragmentado.append('se')\n",
        "fragmento_fragmentado.append('acabó.')\n",
        "print(fragmento_fragmentado)"
      ],
      "execution_count": 29,
      "outputs": [
        {
          "output_type": "stream",
          "text": [
            "['Apenas', 'él', 'le', 'amalaba', 'noema,', 'a', 'ella', 'se', 'le', 'agolpaba', 'el', 'clémiso', 'y', 'caían', 'en', 'hidromurias,', 'en', 'salvajes', 'ambonios,', 'en', 'sustalos', 'exasperantes.', 'Cada', 'vez', 'que', 'él', 'procuraba', 'relamar', 'las', 'incopelusas,', 'y', 'fin', 'se', 'acabó.']\n"
          ],
          "name": "stdout"
        }
      ]
    },
    {
      "cell_type": "markdown",
      "metadata": {
        "id": "90Q5gB2V2Hc9"
      },
      "source": [
        "Debajo hay código que toma la lista de arriba e imprime el fragmento en forma de texto. Tu reto es eliminar todas las modificaciones que han sido hechas al texto de Cortázar usando el método `pop`. Al terminar, puedes, si así lo deseas, agregar tu propio final a la oración inconclusa usando el método `append`.\n",
        "\n",
        "El resultado será una colaboración tuya y de Cortázar:"
      ]
    },
    {
      "cell_type": "code",
      "metadata": {
        "id": "upRj4LC22Hc-",
        "colab": {
          "base_uri": "https://localhost:8080/"
        },
        "outputId": "83ebaa4a-00a7-4d35-855b-7dbf8923736f"
      },
      "source": [
        "tu_nombre = \"José Antonio\"  # Tu nombre va aquí\n",
        "\n",
        "print(f'==Colaboración póstuma de Córtazar y {tu_nombre}==\\n')\n",
        "print(f'{\" \".join(fragmento_fragmentado)}')"
      ],
      "execution_count": 28,
      "outputs": [
        {
          "output_type": "stream",
          "text": [
            "==Colaboración póstuma de Córtazar y José Antonio==\n",
            "\n",
            "Apenas él le amalaba noema, a ella se le agolpaba el clémiso y caían en hidromurias, en salvajes ambonios, en sustalos exasperantes. Cada vez que él procuraba relamar las incopelusas, y fin se acabó\n"
          ],
          "name": "stdout"
        }
      ]
    },
    {
      "cell_type": "code",
      "metadata": {
        "id": "aawykab82Hc-"
      },
      "source": [
        ""
      ],
      "execution_count": null,
      "outputs": []
    }
  ]
}