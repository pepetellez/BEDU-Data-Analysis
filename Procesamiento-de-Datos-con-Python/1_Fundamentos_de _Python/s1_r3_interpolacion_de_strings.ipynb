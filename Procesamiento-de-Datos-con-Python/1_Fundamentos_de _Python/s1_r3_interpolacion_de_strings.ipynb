{
  "nbformat": 4,
  "nbformat_minor": 0,
  "metadata": {
    "kernelspec": {
      "display_name": "Python 3",
      "language": "python",
      "name": "python3"
    },
    "language_info": {
      "codemirror_mode": {
        "name": "ipython",
        "version": 3
      },
      "file_extension": ".py",
      "mimetype": "text/x-python",
      "name": "python",
      "nbconvert_exporter": "python",
      "pygments_lexer": "ipython3",
      "version": "3.8.3"
    },
    "colab": {
      "name": "s1_r3_interpolacion_de_strings.ipynb",
      "provenance": [],
      "collapsed_sections": [],
      "include_colab_link": true
    }
  },
  "cells": [
    {
      "cell_type": "markdown",
      "metadata": {
        "id": "view-in-github",
        "colab_type": "text"
      },
      "source": [
        "<a href=\"https://colab.research.google.com/github/pepetellez/BEDU_Data_Analysis/blob/main/Procesamiento-de-Datos-con-Python/1_Fundamentos_de%20_Python/s1_r3_interpolacion_de_strings.ipynb\" target=\"_parent\"><img src=\"https://colab.research.google.com/assets/colab-badge.svg\" alt=\"Open In Colab\"/></a>"
      ]
    },
    {
      "cell_type": "markdown",
      "metadata": {
        "id": "-rw_uK_hplLS"
      },
      "source": [
        "## Reto 3: Interpolación de strings\n",
        "\n",
        "### 1. Objetivos:\n",
        "    - Practicar interpolación de strings\n",
        " \n",
        "---\n",
        "    \n",
        "### 2. Desarrollo:"
      ]
    },
    {
      "cell_type": "markdown",
      "metadata": {
        "id": "iqsX2Uh3plLX"
      },
      "source": [
        "A continuación tienes algunas variables asignadas:"
      ]
    },
    {
      "cell_type": "code",
      "metadata": {
        "id": "Ls7LoR2zplLY"
      },
      "source": [
        "nombre_1 = \"Jenny\"\n",
        "nombre_2 = \"Marco P.\"\n",
        "\n",
        "edad_1 = 110\n",
        "edad_2 = 42\n",
        "\n",
        "estrella_1 = \"Woopsie Doopsies\"\n",
        "estrella_2 = \"Omega-3\"\n",
        "estrella_3 = \"Justin Bieber\"\n",
        "estrella_4 = \"La Twinkle\"\n",
        "estrella_5 = \"Rosaberta\"\n",
        "\n",
        "total_de_nombres_de_estrellas_mencionados = 5\n",
        "numero_de_estrellas_deseadas = 325"
      ],
      "execution_count": null,
      "outputs": []
    },
    {
      "cell_type": "markdown",
      "metadata": {
        "id": "1ZeFKAeYplLY"
      },
      "source": [
        "Usando **TODAS** las variables de arriba, crea una (o más) string que, al correr la celda, imprima la siguiente historia:\n",
        "\n",
        "> \"Marco P. y Jenny son grandes amigues. Les mejores. Van y vienen juntes desde hace décadas. Sí, décadas. Marco P. tiene 110 años y Jenny 42. Si sumas sus edades, obtienes 152, que curiosamente es el número de estrellas que Marco P. y Jenny han nombrado juntes. Sus estrellas son su mayor fascinación. Las compraron en Best Buy en una ganga de objetos celestes. Están 'Woopsie Doopsies', 'Omega-3', 'Justin Bieber', 'La Twinkle', 'Rosaberta' y otras 147 estrellas más. Marco P. y Jenny tienen planeado sobrevivir hasta el siglo XXII. ¡Cuántas estrellas más habrán de comprar y nombrar juntes! Su meta es 325. Sólo faltan 173. ¡Vamos Marco P. y Jenny! Marco P. y Jenny son les mejores amigues. No hay duda alguna.\"\n",
        "\n",
        "Recuerda utilizar **TODAS** las variables que hemos asignado. También, todos los números que aparezcan en el texto deben de ser variables interpoladas u operaciones aritméticas. Ningún número puede ser una string simple.\n",
        "\n",
        "¡Mucha suerte!"
      ]
    },
    {
      "cell_type": "code",
      "metadata": {
        "id": "XThg_04IplLZ",
        "colab": {
          "base_uri": "https://localhost:8080/"
        },
        "outputId": "40eaf2cb-d4d4-4c2c-e532-0c700ac9b3c4"
      },
      "source": [
        "print(f\"{nombre_2} y {nombre_1} son grandes amigues. Les mejores. Van y vienen juntes desde hace décadas. Sí, décadas. {nombre_2} tiene {edad_1}\\naños y {nombre_1} {edad_2}. Si sumas sus edades, obtienes {edad_1 + edad_2}, que curiosamente es el número de estrellas que {nombre_2} y {nombre_1} han \\nnombrado juntes. Sus estrellas son su mayor fascinación. Las compraron en Best Buy en una ganga de objetos celestes. Están\\n'{estrella_1}', '{estrella_2}', '{estrella_3}', '{estrella_4}', '{estrella_5}' y otras {edad_1+edad_2+total_de_nombres_de_estrellas_mencionados-10} estrellas más. {nombre_2} y {nombre_1} tienen\\nplaneado sobrevivir hasta el siglo XXII. ¡Cuántas estrellas más habrán de comprar y nombrar juntes! Su meta es {numero_de_estrellas_deseadas}. Sólo faltan\\n{edad_1+edad_2+21}. ¡Vamos {nombre_2} y {nombre_1}! {nombre_2} y {nombre_1} son les mejores amigues. No hay duda alguna.\")"
      ],
      "execution_count": null,
      "outputs": [
        {
          "output_type": "stream",
          "text": [
            "Marco P. y Jenny son grandes amigues. Les mejores. Van y vienen juntes desde hace décadas. Sí, décadas. Marco P. tiene 110\n",
            "años y Jenny 42. Si sumas sus edades, obtienes 152, que curiosamente es el número de estrellas que Marco P. y Jenny han \n",
            "nombrado juntes. Sus estrellas son su mayor fascinación. Las compraron en Best Buy en una ganga de objetos celestes. Están\n",
            "'Woopsie Doopsies', 'Omega-3', 'Justin Bieber', 'La Twinkle', 'Rosaberta' y otras 147 estrellas más. Marco P. y Jenny tienen\n",
            "planeado sobrevivir hasta el siglo XXII. ¡Cuántas estrellas más habrán de comprar y nombrar juntes! Su meta es 325. Sólo faltan\n",
            "173. ¡Vamos Marco P. y Jenny! Marco P. y Jenny son les mejores amigues. No hay duda alguna.\n"
          ],
          "name": "stdout"
        }
      ]
    }
  ]
}