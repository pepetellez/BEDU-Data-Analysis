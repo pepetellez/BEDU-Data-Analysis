{
  "nbformat": 4,
  "nbformat_minor": 0,
  "metadata": {
    "kernelspec": {
      "display_name": "Python (data_science)",
      "language": "python",
      "name": "data_science"
    },
    "language_info": {
      "codemirror_mode": {
        "name": "ipython",
        "version": 3
      },
      "file_extension": ".py",
      "mimetype": "text/x-python",
      "name": "python",
      "nbconvert_exporter": "python",
      "pygments_lexer": "ipython3",
      "version": "3.8.5"
    },
    "colab": {
      "name": "s2_r2_tabla_de_frecuencias.ipynb",
      "provenance": [],
      "include_colab_link": true
    }
  },
  "cells": [
    {
      "cell_type": "markdown",
      "metadata": {
        "id": "view-in-github",
        "colab_type": "text"
      },
      "source": [
        "<a href=\"https://colab.research.google.com/github/pepetellez/BEDU-Data-Analysis/blob/main/Analisis-de-Datos-con-Python/2_Introduccion_a_la_visualizacion_de_datos_Distribuciones/s2_r2_tabla_de_frecuencias.ipynb\" target=\"_parent\"><img src=\"https://colab.research.google.com/assets/colab-badge.svg\" alt=\"Open In Colab\"/></a>"
      ]
    },
    {
      "cell_type": "markdown",
      "metadata": {
        "id": "2LTURmy9_i-k"
      },
      "source": [
        "## Reto 2: Tablas de frecuencias\n",
        "\n",
        "### 1. Objetivos:\n",
        "    - Aprender a generar tablas de frecuencias segmentando nuestros datos\n",
        " \n",
        "---\n",
        "    \n",
        "### 2. Desarrollo:"
      ]
    },
    {
      "cell_type": "markdown",
      "metadata": {
        "id": "HXzez1--_i-q"
      },
      "source": [
        "#### a) Analizando distribución con tablas de frecuencias\n",
        "\n",
        "Vamos a generar tablas de frecuencias de los siguientes datasets y columnas:\n",
        "\n",
        "1. Dataset: 'near_earth_objects-jan_feb_1995-clean.csv'\n",
        "    - Columnas a graficar: 'estimated_diameter.meters.estimated_diameter_max' y 'relative_velocity.kilometers_per_second'\n",
        "2. Dataset: 'new_york_times_bestsellers-clean.json'\n",
        "    - Columnas a graficar: 'price.numberDouble'\n",
        "3. Dataset: 'melbourne_housing-clean.csv'\n",
        "    - Columnas a graficar: 'land_size'\n",
        "    \n",
        "Estos conjuntos de datos son los mismos que graficamos en el Reto anterior. Antes de generar las tablas de frecuencias, revisa el rango de tus conjuntos de datos y decide el número de segmentos adecuado para cada uno.\n",
        "\n",
        "Después, genera las tablas de frecuencias para cada uno de estos conjuntos de datos y compáralos con las gráficas de caja que realizaste en el Reto anterior. ¿Hay información nueva? ¿Qué ventajas o desventajas nos da esta nueva perspectiva?\n",
        "\n",
        "Piensa cuál de las dos aproximaciones (boxplots y tablas de frecuencia) resulta más útil para detectar valores atípicos. ¿O simplemente son útiles en diferentes contextos?"
      ]
    },
    {
      "cell_type": "code",
      "metadata": {
        "colab": {
          "base_uri": "https://localhost:8080/"
        },
        "id": "_hxoxqu5AM26",
        "outputId": "84e69a54-46cb-4703-aa42-a295bb6f12a6"
      },
      "source": [
        "from google.colab import drive\n",
        "drive.mount('/content/drive')"
      ],
      "execution_count": 1,
      "outputs": [
        {
          "output_type": "stream",
          "text": [
            "Mounted at /content/drive\n"
          ],
          "name": "stdout"
        }
      ]
    },
    {
      "cell_type": "code",
      "metadata": {
        "colab": {
          "base_uri": "https://localhost:8080/"
        },
        "id": "b8v8lJo6_pEv",
        "outputId": "e653cebf-cdb5-499d-d0d5-98c0a354c26c"
      },
      "source": [
        "import pandas as pd\n",
        "import matplotlib.pyplot as plt\n",
        "import seaborn as sns\n",
        "\n",
        "near_objects = pd.read_csv(\"/content/drive/MyDrive/Datasets/near_earth_objects-jan_feb_1995-clean.csv\", index_col = 0)\n",
        "bestsellers = pd.read_json(\"/content/drive/MyDrive/Datasets/new_york_times_bestsellers-clean.json\")\n",
        "melbourne_housing = pd.read_csv(\"/content/drive/MyDrive/Datasets/melbourne_housing-clean.csv\", index_col = 0)\n",
        "\n",
        "diameter = near_objects[\"estimated_diameter.meters.estimated_diameter_max\"]\n",
        "segmentos = pd.cut(diameter, 20)\n",
        "near_objects[\"estimated_diameter.meters.estimated_diameter_max\"].groupby(segmentos).count()"
      ],
      "execution_count": 3,
      "outputs": [
        {
          "output_type": "execute_result",
          "data": {
            "text/plain": [
              "estimated_diameter.meters.estimated_diameter_max\n",
              "(-3.535, 328.674]       207\n",
              "(328.674, 654.369]       67\n",
              "(654.369, 980.065]       24\n",
              "(980.065, 1305.76]       18\n",
              "(1305.76, 1631.455]       4\n",
              "(1631.455, 1957.15]       6\n",
              "(1957.15, 2282.846]       1\n",
              "(2282.846, 2608.541]      1\n",
              "(2608.541, 2934.236]      1\n",
              "(2934.236, 3259.931]      1\n",
              "(3259.931, 3585.627]      1\n",
              "(3585.627, 3911.322]      1\n",
              "(3911.322, 4237.017]      0\n",
              "(4237.017, 4562.712]      0\n",
              "(4562.712, 4888.408]      0\n",
              "(4888.408, 5214.103]      0\n",
              "(5214.103, 5539.798]      0\n",
              "(5539.798, 5865.493]      0\n",
              "(5865.493, 6191.189]      0\n",
              "(6191.189, 6516.884]      1\n",
              "Name: estimated_diameter.meters.estimated_diameter_max, dtype: int64"
            ]
          },
          "metadata": {
            "tags": []
          },
          "execution_count": 3
        }
      ]
    },
    {
      "cell_type": "code",
      "metadata": {
        "colab": {
          "base_uri": "https://localhost:8080/"
        },
        "id": "_LFUgvfPB4GW",
        "outputId": "a93fb5e3-e719-4e95-d451-99211b647d4b"
      },
      "source": [
        "velocity = near_objects[\"relative_velocity.kilometers_per_second\"]\n",
        "segmentos = pd.cut(velocity, 20)\n",
        "near_objects[\"relative_velocity.kilometers_per_second\"].groupby(segmentos).count()"
      ],
      "execution_count": 7,
      "outputs": [
        {
          "output_type": "execute_result",
          "data": {
            "text/plain": [
              "relative_velocity.kilometers_per_second\n",
              "(0.642, 2.674]       5\n",
              "(2.674, 4.666]      14\n",
              "(4.666, 6.658]      33\n",
              "(6.658, 8.651]      33\n",
              "(8.651, 10.643]     31\n",
              "(10.643, 12.635]    28\n",
              "(12.635, 14.628]    26\n",
              "(14.628, 16.62]     41\n",
              "(16.62, 18.612]     36\n",
              "(18.612, 20.604]    18\n",
              "(20.604, 22.597]    16\n",
              "(22.597, 24.589]     9\n",
              "(24.589, 26.581]    11\n",
              "(26.581, 28.574]     6\n",
              "(28.574, 30.566]    11\n",
              "(30.566, 32.558]     5\n",
              "(32.558, 34.551]     2\n",
              "(34.551, 36.543]     3\n",
              "(36.543, 38.535]     3\n",
              "(38.535, 40.527]     2\n",
              "Name: relative_velocity.kilometers_per_second, dtype: int64"
            ]
          },
          "metadata": {
            "tags": []
          },
          "execution_count": 7
        }
      ]
    },
    {
      "cell_type": "code",
      "metadata": {
        "colab": {
          "base_uri": "https://localhost:8080/"
        },
        "id": "9m5CZz2AByDl",
        "outputId": "32789462-fdca-4c2e-9fef-d91cf32d5427"
      },
      "source": [
        "price = bestsellers[\"price.numberDouble\"]\n",
        "segmentos = pd.cut(price, 20)\n",
        "bestsellers[\"price.numberDouble\"].groupby(segmentos).count()"
      ],
      "execution_count": 6,
      "outputs": [
        {
          "output_type": "execute_result",
          "data": {
            "text/plain": [
              "price.numberDouble\n",
              "(14.97, 15.99]      3\n",
              "(15.99, 16.99]     11\n",
              "(16.99, 17.99]      0\n",
              "(17.99, 18.99]      0\n",
              "(18.99, 19.99]     33\n",
              "(19.99, 20.99]      0\n",
              "(20.99, 21.99]     24\n",
              "(21.99, 22.99]      9\n",
              "(22.99, 23.99]     39\n",
              "(23.99, 24.99]    407\n",
              "(24.99, 25.99]    666\n",
              "(25.99, 26.99]    591\n",
              "(26.99, 27.99]    986\n",
              "(27.99, 28.99]    168\n",
              "(28.99, 29.99]     75\n",
              "(29.99, 30.99]      9\n",
              "(30.99, 31.99]      0\n",
              "(31.99, 32.99]      0\n",
              "(32.99, 33.99]      0\n",
              "(33.99, 34.99]     12\n",
              "Name: price.numberDouble, dtype: int64"
            ]
          },
          "metadata": {
            "tags": []
          },
          "execution_count": 6
        }
      ]
    },
    {
      "cell_type": "code",
      "metadata": {
        "colab": {
          "base_uri": "https://localhost:8080/"
        },
        "id": "9dw-mwnsB4si",
        "outputId": "45d5cbc9-62b3-4851-f398-f77dbc4119c7"
      },
      "source": [
        "land_size = melbourne_housing[\"land_size\"]\n",
        "segmentos = pd.cut(land_size, 20)\n",
        "melbourne_housing[\"land_size\"].groupby(segmentos).count()"
      ],
      "execution_count": 10,
      "outputs": [
        {
          "output_type": "execute_result",
          "data": {
            "text/plain": [
              "land_size\n",
              "(-76.0, 3800.0]       11560\n",
              "(3800.0, 7600.0]         59\n",
              "(7600.0, 11400.0]         9\n",
              "(11400.0, 15200.0]        3\n",
              "(15200.0, 19000.0]        7\n",
              "(19000.0, 22800.0]        2\n",
              "(22800.0, 26600.0]        0\n",
              "(26600.0, 30400.0]        0\n",
              "(30400.0, 34200.0]        0\n",
              "(34200.0, 38000.0]        2\n",
              "(38000.0, 41800.0]        2\n",
              "(41800.0, 45600.0]        0\n",
              "(45600.0, 49400.0]        0\n",
              "(49400.0, 53200.0]        0\n",
              "(53200.0, 57000.0]        0\n",
              "(57000.0, 60800.0]        0\n",
              "(60800.0, 64600.0]        0\n",
              "(64600.0, 68400.0]        0\n",
              "(68400.0, 72200.0]        0\n",
              "(72200.0, 76000.0]        2\n",
              "Name: land_size, dtype: int64"
            ]
          },
          "metadata": {
            "tags": []
          },
          "execution_count": 10
        }
      ]
    }
  ]
}