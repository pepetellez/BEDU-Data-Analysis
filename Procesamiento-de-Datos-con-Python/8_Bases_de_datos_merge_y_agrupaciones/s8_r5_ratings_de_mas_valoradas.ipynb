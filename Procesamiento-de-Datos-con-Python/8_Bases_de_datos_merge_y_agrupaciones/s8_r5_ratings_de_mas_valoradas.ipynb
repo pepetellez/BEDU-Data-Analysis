{
  "nbformat": 4,
  "nbformat_minor": 0,
  "metadata": {
    "kernelspec": {
      "display_name": "Python (data_science)",
      "language": "python",
      "name": "data_science"
    },
    "language_info": {
      "codemirror_mode": {
        "name": "ipython",
        "version": 3
      },
      "file_extension": ".py",
      "mimetype": "text/x-python",
      "name": "python",
      "nbconvert_exporter": "python",
      "pygments_lexer": "ipython3",
      "version": "3.8.1"
    },
    "colab": {
      "name": "s8_r5_ratings_de_mas_valoradas.ipynb",
      "provenance": [],
      "include_colab_link": true
    }
  },
  "cells": [
    {
      "cell_type": "markdown",
      "metadata": {
        "id": "view-in-github",
        "colab_type": "text"
      },
      "source": [
        "<a href=\"https://colab.research.google.com/github/pepetellez/BEDU-Data-Analysis/blob/main/Procesamiento-de-Datos-con-Python/8_Bases_de_datos_merge_y_agrupaciones/s8_r5_ratings_de_mas_valoradas.ipynb\" target=\"_parent\"><img src=\"https://colab.research.google.com/assets/colab-badge.svg\" alt=\"Open In Colab\"/></a>"
      ]
    },
    {
      "cell_type": "markdown",
      "metadata": {
        "id": "UWQJ4KD98B8h"
      },
      "source": [
        "## Reto 5: Distribución de ratings de las películas más valoradas\n",
        "\n",
        "### 1. Objetivos:\n",
        "    - Practicar las siguientes herramientas:\n",
        "        - Lectura de .csv\n",
        "        - `merge`\n",
        "        - Creación de filtros usando `apply`\n",
        "    \n",
        "---\n",
        "    \n",
        "### 2. Desarrollo:"
      ]
    },
    {
      "cell_type": "markdown",
      "metadata": {
        "id": "95iLt-MI8B8l"
      },
      "source": [
        "#### a) Creando un box plot de distribución de ratings\n",
        "\n",
        "Vamos a ver cómo están distribuidos los ratings de las películas más valoradas de nuestro dataset. La siguiente es una lista de las películas que tienen más de 2500 valoraciones en nuestro dataset:\n",
        "\n",
        "`[2858, 260, 1196, 1210, 480, 2028, 589, 2571, 1270, 593, 1580, 1198, 608]`\n",
        "\n",
        "Realiza los siguientes pasos:\n",
        "\n",
        "1. Lee tus archivos `ratings` y `movies`.\n",
        "2. Obtén una lista con los ids de las películas con más de 2500 valoraciones.Debe ser igual a la lista de arriba.\n",
        "3. Crea una función que tome una lista de ids y un id y regrese `True` si el id se encuentra en la lista (puedes usar el operador `in` de Python).\n",
        "4. Usa `apply` para aplicar esa función a la columna `ratings['movie_id']` y obtener un filtro.\n",
        "5. Usa tu filtro para filtrar el `DataFrame` `ratings` y quedarte solamente con las entradas de las películas que fueron valoradas más de 2500 veces.\n",
        "6. Usando `merge` agrega los nombres de las películas a tu `DataFrame` `ratings`. Asigna el resultado a la variable `ratings_filtrados_con_nombre`.\n",
        "\n",
        "> **Nota** el paso #4 es algo complejo. Si tienes dificultades para realizarlo, ¡no dudes en pedirle ayuda a tu experta!"
      ]
    },
    {
      "cell_type": "code",
      "metadata": {
        "colab": {
          "base_uri": "https://localhost:8080/"
        },
        "id": "mx5ncdolO_Ad",
        "outputId": "744b2f82-aa45-4dd8-8ee2-58d087fb3643"
      },
      "source": [
        "from google.colab import drive\n",
        "drive.mount('/content/drive')"
      ],
      "execution_count": 1,
      "outputs": [
        {
          "output_type": "stream",
          "text": [
            "Mounted at /content/drive\n"
          ],
          "name": "stdout"
        }
      ]
    },
    {
      "cell_type": "code",
      "metadata": {
        "id": "92dYTikJ8B8m",
        "colab": {
          "base_uri": "https://localhost:8080/",
          "height": 485
        },
        "outputId": "db450dc8-69f1-4f61-c4a8-3ab31e751dd1"
      },
      "source": [
        "import pandas as pd\n",
        "\n",
        "#Lee tus archivos ratings y movies.\n",
        "movies = pd.read_csv(r'/content/drive/MyDrive/Colab Notebooks/Datasets/MovieLens/movies-separated_by_money-raw.csv', sep=\"$\", index_col=0)\n",
        "ratings = pd.read_csv(r'/content/drive/MyDrive/Colab Notebooks/Datasets/MovieLens/ratings-raw.csv', index_col=0)\n",
        "\n",
        "#Obtén una lista con los ids de las películas con más de 2500 valoraciones.Debe ser igual a la lista de arriba.\n",
        "conteo_de_valoraciones = ratings['movie_id'].value_counts()\n",
        "filtro_de_pelis_valoradas_mas_de_2500_veces = conteo_de_valoraciones > 2500\n",
        "conteo_de_pelis_valoradas_mas_de_2500_veces = conteo_de_valoraciones[filtro_de_pelis_valoradas_mas_de_2500_veces]\n",
        "ids_de_pelis_valoradas_mas_de_2500_veces = conteo_de_pelis_valoradas_mas_de_2500_veces.index\n",
        "\n",
        "#Crea una función que tome una lista de ids y un id y regrese True si el id se encuentra en la lista\n",
        "def id_esta_en_lista_de_ids(lista_de_ids, id_):\n",
        "    return id_ in lista_de_ids\n",
        "\n",
        "#Usa apply para aplicar esa función a la columna ratings['movie_id'] y obtener un filtro.\n",
        "filtro_de_ratings = ratings['movie_id'].apply(lambda x: id_esta_en_lista_de_ids(ids_de_pelis_valoradas_mas_de_2500_veces, x))\n",
        "\n",
        "#Usa tu filtro para filtrar el DataFrame ratings y quedarte solamente con las entradas de las películas que fueron valoradas más de 2500 veces.\n",
        "ratings_filtrados = ratings[filtro_de_ratings]\n",
        "\n",
        "#Usando merge agrega los nombres de las películas a tu DataFrame ratings. Asigna el resultado a la variable ratings_filtrados_con_nombre.\n",
        "ratings_filtrados_con_nombre = pd.merge(ratings_filtrados, movies['title'], left_on='movie_id', right_index=True)\n",
        "ratings_filtrados_con_nombre"
      ],
      "execution_count": 4,
      "outputs": [
        {
          "output_type": "stream",
          "text": [
            "/usr/local/lib/python3.7/dist-packages/numpy/lib/arraysetops.py:580: FutureWarning: elementwise comparison failed; returning scalar instead, but in the future will perform elementwise comparison\n",
            "  mask |= (ar1 == a)\n"
          ],
          "name": "stderr"
        },
        {
          "output_type": "execute_result",
          "data": {
            "text/html": [
              "<div>\n",
              "<style scoped>\n",
              "    .dataframe tbody tr th:only-of-type {\n",
              "        vertical-align: middle;\n",
              "    }\n",
              "\n",
              "    .dataframe tbody tr th {\n",
              "        vertical-align: top;\n",
              "    }\n",
              "\n",
              "    .dataframe thead th {\n",
              "        text-align: right;\n",
              "    }\n",
              "</style>\n",
              "<table border=\"1\" class=\"dataframe\">\n",
              "  <thead>\n",
              "    <tr style=\"text-align: right;\">\n",
              "      <th></th>\n",
              "      <th>movie_id</th>\n",
              "      <th>rating</th>\n",
              "      <th>timestamp</th>\n",
              "      <th>title</th>\n",
              "    </tr>\n",
              "    <tr>\n",
              "      <th>user_id</th>\n",
              "      <th></th>\n",
              "      <th></th>\n",
              "      <th></th>\n",
              "      <th></th>\n",
              "    </tr>\n",
              "  </thead>\n",
              "  <tbody>\n",
              "    <tr>\n",
              "      <th>1</th>\n",
              "      <td>1270</td>\n",
              "      <td>5</td>\n",
              "      <td>978300055</td>\n",
              "      <td>Back to the Future (1985)</td>\n",
              "    </tr>\n",
              "    <tr>\n",
              "      <th>3</th>\n",
              "      <td>1270</td>\n",
              "      <td>3</td>\n",
              "      <td>978298231</td>\n",
              "      <td>Back to the Future (1985)</td>\n",
              "    </tr>\n",
              "    <tr>\n",
              "      <th>7</th>\n",
              "      <td>1270</td>\n",
              "      <td>4</td>\n",
              "      <td>978234581</td>\n",
              "      <td>Back to the Future (1985)</td>\n",
              "    </tr>\n",
              "    <tr>\n",
              "      <th>10</th>\n",
              "      <td>1270</td>\n",
              "      <td>4</td>\n",
              "      <td>978225735</td>\n",
              "      <td>Back to the Future (1985)</td>\n",
              "    </tr>\n",
              "    <tr>\n",
              "      <th>17</th>\n",
              "      <td>1270</td>\n",
              "      <td>5</td>\n",
              "      <td>978158536</td>\n",
              "      <td>Back to the Future (1985)</td>\n",
              "    </tr>\n",
              "    <tr>\n",
              "      <th>...</th>\n",
              "      <td>...</td>\n",
              "      <td>...</td>\n",
              "      <td>...</td>\n",
              "      <td>...</td>\n",
              "    </tr>\n",
              "    <tr>\n",
              "      <th>6026</th>\n",
              "      <td>1580</td>\n",
              "      <td>3</td>\n",
              "      <td>956726100</td>\n",
              "      <td>Men in Black (1997)</td>\n",
              "    </tr>\n",
              "    <tr>\n",
              "      <th>6027</th>\n",
              "      <td>1580</td>\n",
              "      <td>4</td>\n",
              "      <td>956726620</td>\n",
              "      <td>Men in Black (1997)</td>\n",
              "    </tr>\n",
              "    <tr>\n",
              "      <th>6033</th>\n",
              "      <td>1580</td>\n",
              "      <td>5</td>\n",
              "      <td>956714112</td>\n",
              "      <td>Men in Black (1997)</td>\n",
              "    </tr>\n",
              "    <tr>\n",
              "      <th>6035</th>\n",
              "      <td>1580</td>\n",
              "      <td>4</td>\n",
              "      <td>956711121</td>\n",
              "      <td>Men in Black (1997)</td>\n",
              "    </tr>\n",
              "    <tr>\n",
              "      <th>6036</th>\n",
              "      <td>1580</td>\n",
              "      <td>2</td>\n",
              "      <td>956752715</td>\n",
              "      <td>Men in Black (1997)</td>\n",
              "    </tr>\n",
              "  </tbody>\n",
              "</table>\n",
              "<p>35582 rows × 4 columns</p>\n",
              "</div>"
            ],
            "text/plain": [
              "         movie_id  rating  timestamp                      title\n",
              "user_id                                                        \n",
              "1            1270       5  978300055  Back to the Future (1985)\n",
              "3            1270       3  978298231  Back to the Future (1985)\n",
              "7            1270       4  978234581  Back to the Future (1985)\n",
              "10           1270       4  978225735  Back to the Future (1985)\n",
              "17           1270       5  978158536  Back to the Future (1985)\n",
              "...           ...     ...        ...                        ...\n",
              "6026         1580       3  956726100        Men in Black (1997)\n",
              "6027         1580       4  956726620        Men in Black (1997)\n",
              "6033         1580       5  956714112        Men in Black (1997)\n",
              "6035         1580       4  956711121        Men in Black (1997)\n",
              "6036         1580       2  956752715        Men in Black (1997)\n",
              "\n",
              "[35582 rows x 4 columns]"
            ]
          },
          "metadata": {
            "tags": []
          },
          "execution_count": 4
        }
      ]
    },
    {
      "cell_type": "markdown",
      "metadata": {
        "id": "hPaMmsC08B8m"
      },
      "source": [
        "Pídele a tu experta la función de verificación `visualizar_boxplots` (encontrada en el archivo `helpers.py` de la carpeta donde se encuentra este Reto), pégala debajo y corre la celda para verificar tu resultado. Tu `DataFrame` debe de tener una columna `title` y otra `rating` para que la visualización pueda funcionar:"
      ]
    },
    {
      "cell_type": "code",
      "metadata": {
        "id": "Yw3xPswP8B8n",
        "colab": {
          "base_uri": "https://localhost:8080/",
          "height": 922
        },
        "outputId": "ac503d0a-6ea8-4e2f-927d-9961237a4627"
      },
      "source": [
        "# Pega aquí la función de verificación \n",
        "\n",
        "def visualizar_boxplots(ratings_filtrados_con_nombre):\n",
        "    import seaborn as sns\n",
        "    import matplotlib.pyplot as plt\n",
        "\n",
        "    fig, ax = plt.subplots(figsize=(10, 10))\n",
        "    ax.set_title('Distribución de Ratings de las películas con más de 2500 valoraciones')\n",
        "    plot = sns.boxplot(ratings_filtrados_con_nombre['title'], ratings_filtrados_con_nombre['rating'], ax=ax)\n",
        "    ax.set(xlabel=None, ylabel='Rating')\n",
        "    plot.set_xticklabels(plot.get_xticklabels(), rotation=90)\n",
        "\n",
        "visualizar_boxplots(ratings_filtrados_con_nombre)"
      ],
      "execution_count": 3,
      "outputs": [
        {
          "output_type": "stream",
          "text": [
            "/usr/local/lib/python3.7/dist-packages/seaborn/_decorators.py:43: FutureWarning: Pass the following variables as keyword args: x, y. From version 0.12, the only valid positional argument will be `data`, and passing other arguments without an explicit keyword will result in an error or misinterpretation.\n",
            "  FutureWarning\n"
          ],
          "name": "stderr"
        },
        {
          "output_type": "display_data",
          "data": {
            "image/png": "[encoded data removed]",
            "text/plain": [
              "<Figure size 720x720 with 1 Axes>"
            ]
          },
          "metadata": {
            "tags": [],
            "needs_background": "light"
          }
        }
      ]
    },
    {
      "cell_type": "markdown",
      "metadata": {
        "id": "qNDGpNtC8B8n"
      },
      "source": [
        "<details><summary>Solución</summary>\n",
        "\n",
        "```python\n",
        "ratings = pd.read_csv('../../Datasets/MovieLens/ratings-raw.csv')\n",
        "movies = pd.read_csv('../../Datasets/MovieLens/movies-separated_by_money-raw.csv', sep='$', index_col=0)\n",
        "conteo_de_valoraciones = ratings['movie_id'].value_counts()\n",
        "filtro_de_pelis_valoradas_mas_de_2500_veces = conteo_de_valoraciones > 2500\n",
        "conteo_de_pelis_valoradas_mas_de_2500_veces = conteo_de_valoraciones[filtro_de_pelis_valoradas_mas_de_2500_veces]\n",
        "ids_de_pelis_valoradas_mas_de_2500_veces = conteo_de_pelis_valoradas_mas_de_2500_veces.index\n",
        "def id_esta_en_lista_de_ids(lista_de_ids, id_):\n",
        "    return id_ in lista_de_ids\n",
        "filtro_de_ratings = ratings['movie_id'].apply(lambda x: id_esta_en_lista_de_ids(ids_de_pelis_valoradas_mas_de_2500_veces, x))\n",
        "ratings_filtrados = ratings[filtro_de_ratings]\n",
        "ratings_filtrados_con_nombre = pd.merge(ratings_filtrados, movies['title'], left_on='movie_id', right_index=True)\n",
        "```\n",
        "    \n",
        "</details>"
      ]
    }
  ]
}